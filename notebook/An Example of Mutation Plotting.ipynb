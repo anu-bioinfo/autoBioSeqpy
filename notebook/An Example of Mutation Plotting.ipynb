{
 "cells": [
  {
   "cell_type": "code",
   "execution_count": 7,
   "metadata": {},
   "outputs": [],
   "source": [
    "import os, sys\n",
    "sys.path.append('../')\n",
    "import  re\n",
    "sys.path.append(os.path.curdir)\n",
    "sys.path.append(sys.argv[0])\n",
    "import numpy as np\n",
    "import analysisPlot\n",
    "\n",
    "import matplotlib as mpl\n",
    "import matplotlib.pyplot as plt"
   ]
  },
  {
   "cell_type": "code",
   "execution_count": 4,
   "metadata": {},
   "outputs": [],
   "source": [
    "\n",
    "#Name1 -- Name2\\tIndex1 -- Index2\\tPredction1 -- Prediction2\\tprobDIff\n",
    "fileIn = '../tmpOut/diffMat.txt'\n",
    "subSep = ' -- '\n",
    "\n",
    "oriIndex = 0\n",
    "\n",
    "proteinStr = 'GAVLIPFYWSTCMNQDEKRHXBJOUZ'\n",
    "dnaStr = 'AGCT'\n",
    "rnaStr = 'AGCU'\n",
    "\n",
    "mutationDict = {} # position:ori:mutation\n",
    "keySet = set()\n",
    "with open(fileIn) as FID:     \n",
    "    rowList = []\n",
    "    rowOldInd = None\n",
    "    for line in FID:\n",
    "        if line.startswith('#'):\n",
    "            continue\n",
    "        eles = line.strip().split('\\t')\n",
    "        name1, name2 = eles[0].split(subSep)\n",
    "        index1, index2 = eles[1].split(subSep)\n",
    "        index1 = int(index1)\n",
    "        index2 = int(index2)\n",
    "        out1, out2 = eles[2].split(subSep)\n",
    "        probDiff = float(eles[3])\n",
    "        if index1 == oriIndex:\n",
    "            position, oriRes, mutatedRes = re.findall('(\\d+)_(\\w)-(\\w)',name2.split('###')[1])[0]\n",
    "            position = int(position)\n",
    "            if not position in mutationDict:\n",
    "                mutationDict[position] = {}\n",
    "            if not oriRes in mutationDict[position]:\n",
    "                mutationDict[position][oriRes] = {}\n",
    "            mutationDict[position][oriRes][mutatedRes] = probDiff\n",
    "            keySet.add(oriRes.upper())\n",
    "            keySet.add(mutatedRes.upper())\n",
    "\n",
    "if 'X' in keySet:\n",
    "    keySet.remove('X')\n",
    "if len(keySet) == 4:\n",
    "    if 'U' in keySet:\n",
    "        tempStr = rnaStr\n",
    "    else:\n",
    "        tempStr = dnaStr\n",
    "else:\n",
    "    tempStr = proteinStr\n",
    "\n",
    "outMat = np.zeros([len(tempStr),len(list(mutationDict.keys()))])        \n",
    "outStrDict = {'ori':'Seq:\\t'}\n",
    "for res in tempStr:\n",
    "    outStrDict[res] = '%s:\\t' %res\n",
    "for position in np.sort(list(mutationDict.keys())):\n",
    "    oriRes = list(mutationDict[position].keys())[0]\n",
    "    outStrDict['ori'] += '%s\\t' %oriRes\n",
    "    for i,mutatedRes in enumerate(tempStr):\n",
    "        if mutatedRes in mutationDict[position][oriRes]:\n",
    "            outStrDict[mutatedRes] += '%.6e\\t' %(mutationDict[position][oriRes][mutatedRes])\n",
    "            outMat[i,position] = mutationDict[position][oriRes][mutatedRes]\n",
    "        else:\n",
    "            outStrDict[mutatedRes] += '0\\t'\n",
    "            outMat[i,position] = 0\n"
   ]
  },
  {
   "cell_type": "code",
   "execution_count": 5,
   "metadata": {},
   "outputs": [
    {
     "name": "stdout",
     "output_type": "stream",
     "text": [
      "Seq:\tG\tT\tT\tG\tT\tT\tG\tC\tA\tG\tT\tT\tG\tG\tA\tT\tA\tT\tA\tG\tA\tC\tC\tA\tC\tG\tG\tA\tG\tA\t\n",
      "A:\t-4.900000e-05\t-1.100000e-05\t-3.000000e-05\t1.400000e-05\t5.000000e-06\t-2.900000e-05\t2.300000e-05\t-2.000000e-05\t0\t-9.100000e-05\t2.000000e-05\t8.000000e-06\t-4.700000e-05\t-7.000000e-06\t0\t-1.190000e-04\t0\t-3.800000e-04\t0\t-4.500000e-05\t0\t-1.450000e-04\t-3.900000e-05\t0\t1.300000e-05\t-3.200000e-05\t1.200000e-05\t0\t2.300000e-05\t0\t\n",
      "G:\t0\t0.000000e+00\t-4.700000e-05\t0\t-4.900000e-05\t-3.150000e-04\t0\t6.000000e-06\t2.400000e-05\t0\t2.000000e-05\t-3.600000e-05\t0\t0\t-2.840000e-04\t-1.800000e-05\t-1.740000e-04\t-4.980000e-04\t-2.680000e-04\t0\t-1.010000e-04\t-7.900000e-05\t3.000000e-06\t2.400000e-05\t2.200000e-05\t0\t0\t-2.400000e-05\t0\t6.000000e-06\t\n",
      "C:\t-4.000000e-06\t7.000000e-06\t7.000000e-06\t-1.150000e-04\t7.000000e-06\t5.000000e-06\t1.300000e-05\t0\t2.400000e-05\t-4.500000e-05\t-6.000000e-06\t-2.200000e-05\t-1.000000e-04\t-2.000000e-05\t-1.363000e-03\t-3.245000e-03\t-2.500000e-05\t-1.020000e-04\t-1.137000e-03\t2.100000e-05\t0.000000e+00\t0\t0\t-3.100000e-05\t0\t-1.130000e-04\t1.900000e-05\t8.000000e-06\t1.300000e-05\t-2.000000e-06\t\n",
      "T:\t-4.800000e-05\t0\t0\t5.000000e-06\t0\t0\t1.800000e-05\t9.000000e-06\t2.200000e-05\t-8.300000e-05\t0\t0\t-6.000000e-06\t2.000000e-05\t-6.690000e-04\t0\t-3.000000e-06\t0\t-1.500000e-04\t2.200000e-05\t-2.140000e-04\t-1.266000e-03\t-1.954000e-03\t-9.690000e-04\t1.300000e-05\t-1.210000e-04\t9.000000e-06\t1.700000e-05\t1.500000e-05\t2.000000e-06\t\n"
     ]
    }
   ],
   "source": [
    "#text output \n",
    "print(outStrDict['ori'])\n",
    "for res in tempStr:\n",
    "    print(outStrDict[res])\n"
   ]
  },
  {
   "cell_type": "code",
   "execution_count": null,
   "metadata": {},
   "outputs": [],
   "source": [
    "f, (ax1, ax2) = plt.subplots(1, 2, figsize=(20,15));\n",
    "\n",
    "# labels_plot = ax1.imshow(y_label,cmap=plt.get_cmap('Set1'))\n",
    "labels_plot = ax1.imshow(y_label_for_plotting,cmap=plt.get_cmap('Set1'))\n",
    "\n",
    "ax1.set_aspect(0.3)\n",
    "ax1.set_axis_off()\n",
    "cb = plt.colorbar(labels_plot)\n",
    "labels = np.arange(0,6,1)\n",
    "loc = labels\n",
    "cb.set_ticks(loc)\n",
    "cb.set_ticklabels(list(range(6)))\n",
    "cb.set_label('Original Class')\n",
    "att_plot = ax2.imshow(att2_out, aspect='auto',cmap='coolwarm')\n",
    "ax2.yaxis.set_visible(False)\n",
    "plt.tight_layout(pad=37, w_pad=0.5, h_pad=1.0)\n",
    "plt.xlabel('Normalized Attention Values')\n",
    "plt.title('The relation between attention values and class')\n",
    "plt.show()"
   ]
  },
  {
   "cell_type": "code",
   "execution_count": 20,
   "metadata": {},
   "outputs": [],
   "source": [
    "minVal = np.min([-1*np.abs(outMat.min()), -1*np.abs(outMat.max())])\n",
    "maxVal = np.max([np.abs(outMat.min()), np.abs(outMat.max())])"
   ]
  },
  {
   "cell_type": "code",
   "execution_count": 62,
   "metadata": {},
   "outputs": [
    {
     "data": {
      "text/plain": [
       "<module 'analysisPlot' from '..\\\\analysisPlot.py'>"
      ]
     },
     "execution_count": 62,
     "metadata": {},
     "output_type": "execute_result"
    }
   ],
   "source": [
    "from importlib import reload \n",
    "reload(analysisPlot)"
   ]
  },
  {
   "cell_type": "code",
   "execution_count": 49,
   "metadata": {},
   "outputs": [],
   "source": [
    "xTickLabels = outStrDict['ori'].split('\\t')[1:-1]\n",
    "yTickLabels = list(tempStr)"
   ]
  },
  {
   "cell_type": "code",
   "execution_count": 67,
   "metadata": {},
   "outputs": [
    {
     "data": {
      "image/png": "[encoded data removed]",
      "text/plain": [
       "<Figure size 1152x720 with 2 Axes>"
      ]
     },
     "metadata": {
      "needs_background": "light"
     },
     "output_type": "display_data"
    }
   ],
   "source": [
    "analysisPlot.showMatWithVal(outMat,showText=False,vmin=None,norm = mpl.colors.Normalize(vmin=minVal,vmax=maxVal),cmapName='bwr',\n",
    "                            xtickLabels=xTickLabels,ytickLabels=yTickLabels,driverCaxSize=0.2)"
   ]
  },
  {
   "cell_type": "code",
   "execution_count": null,
   "metadata": {},
   "outputs": [],
   "source": []
  }
 ],
 "metadata": {
  "kernelspec": {
   "display_name": "Python 3",
   "language": "python",
   "name": "python3"
  },
  "language_info": {
   "codemirror_mode": {
    "name": "ipython",
    "version": 3
   },
   "file_extension": ".py",
   "mimetype": "text/x-python",
   "name": "python",
   "nbconvert_exporter": "python",
   "pygments_lexer": "ipython3",
   "version": "3.7.6"
  }
 },
 "nbformat": 4,
 "nbformat_minor": 4
}
