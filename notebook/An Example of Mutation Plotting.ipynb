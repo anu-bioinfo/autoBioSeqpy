{
 "cells": [
  {
   "cell_type": "markdown",
   "metadata": {},
   "source": [
    "<h1>An Example of Mutation Plotting</h1>"
   ]
  },
  {
   "cell_type": "markdown",
   "metadata": {},
   "source": [
    "Sometimes we would like to see the distribution of the probability caused by the mutation when we make a prediction. That is, we have to generate the mutated sequences and predict them by built model:\n",
    "\n",
    "<b>python running.py --dataType protein --dataEncodingType dict  --dataTrainFilePaths examples/typeIIIsecretedeffectors/data/train_pos.txt examples/typeIIIsecretedeffectors/data/train_neg.txt --dataTrainLabel 1 0 --dataTestFilePaths examples/typeIIIsecretedeffectors/data/test_pos.txt examples/typeIIIsecretedeffectors/data/test_neg.txt --dataTestLabel 1 0 --modelLoadFile examples/typeIIIsecretedeffectors/model/protein_CNN_model.py --verbose 1 --outSaveFolderPath tmpOut --savePrediction 1 --saveFig 1 --batch_size 60 --epochs 20 --spcLen 300 --shuffleDataTrain 1 --modelSaveName tmpMod.json --weightSaveName tmpWeight.bin --noGPU 0 --paraSaveName parameters.txt</b>\n",
    "\n",
    "Then generating the mutated sequences:\n",
    "\n",
    "<b>python tool/generateShuffledSeqs.py --KMerNum 2 --outFile ../tryPython/randomSeqs.txt --generateNum 20 --withOri 1 --oriName tmp --randomly 1 --oriSeq NTINRNIYPVSGISAQDAPVQTDQLQPQGQGIRPGHNSNLIDFGLIQQANGPHSSLNTSSSRIQPTDTSTSSNRLGGNGDQLLNKLVEAIRNILNNLLSLLEGNQHQGSSPAQTQREQTPTSTQSHASPSSSSSSSPSTSSQSSPSVPSTPQGNAEKPFVVQSDHPAEKPVSLQRTSEPTSVTPPQTPPQAVERNSITPDKAPAKPEAVKPAVVNDPVLPKTSIPAAAKPDSTVTAAKHATPAARGQGADMSGMIGFAKEANTTGGNNGEVVTVNTVADLKKYMEDDKARTVKLGANLSADSKVSINFGANKTLLGTDKGNTLHNIYLASGKTASNDIFQNLNFNHDARYRENGDMQMFISSGQKYWIDHITATGTKDQNPKGLDKLLYVGGKADNVSLTNSKFQNNEYGVILGQPDDSAAAKAEYKGYPRMTIANNVFSNLDVRGPGLFRQGQFDVVNNSIDKFHLGFTATGNATILSQANYFSNGVDVSNKASNSGVLDDYGDAHFKDIGSNVSFTQKSPVTAWTPSYNRDVKTAEAARAYDLANAGAQVVK\n",
    "</b>\n",
    "\n",
    "Make a prediction:\n",
    "\n",
    "<b>python predicting.py --paraFile tmpOut/parameters.txt --dataTestFilePaths ../tryPython/randomSeqs.txt --predictionSavePath tmpout/indPredictions.txt</b>\n",
    "    \n",
    "Finally generating the difference matrix:\n",
    "\n",
    "<b>python tool/findDiff.py tmpOut/indPredictions.txt > tmpOut/diffMat.txt</b>\n",
    "\n",
    "In this notebook, we aim at plotting the predicted probability against the original one. This function is provided as a tool '<b>mutationPlot.py</b>' at the folder '<b>tool</b>'."
   ]
  },
  {
   "cell_type": "markdown",
   "metadata": {},
   "source": [
    "<h2>Preparing</h2>"
   ]
  },
  {
   "cell_type": "code",
   "execution_count": 1,
   "metadata": {},
   "outputs": [
    {
     "name": "stderr",
     "output_type": "stream",
     "text": [
      "Using TensorFlow backend.\n"
     ]
    }
   ],
   "source": [
    "import os, sys\n",
    "sys.path.append('../')\n",
    "import  re\n",
    "sys.path.append(os.path.curdir)\n",
    "sys.path.append(sys.argv[0])\n",
    "import numpy as np\n",
    "import analysisPlot\n",
    "\n",
    "import matplotlib as mpl\n",
    "import matplotlib.pyplot as plt"
   ]
  },
  {
   "cell_type": "markdown",
   "metadata": {},
   "source": [
    "<h2>Reading the difference matrix</h2>"
   ]
  },
  {
   "cell_type": "markdown",
   "metadata": {},
   "source": [
    "The file is the output from <b>findDiff.py</b>, users could change it as needed."
   ]
  },
  {
   "cell_type": "code",
   "execution_count": 13,
   "metadata": {},
   "outputs": [],
   "source": [
    "fileIn = '../tmpOut/diffMat.txt'"
   ]
  },
  {
   "cell_type": "markdown",
   "metadata": {},
   "source": [
    "Reading the output and translate them into a matrix. Note that the parameter <b>oriIndex</b> is to specify the index of original sequence."
   ]
  },
  {
   "cell_type": "code",
   "execution_count": 14,
   "metadata": {},
   "outputs": [],
   "source": [
    "oriIndex = 0"
   ]
  },
  {
   "cell_type": "code",
   "execution_count": 15,
   "metadata": {},
   "outputs": [],
   "source": [
    "\n",
    "#Name1 -- Name2\\tIndex1 -- Index2\\tPredction1 -- Prediction2\\tprobDIff\n",
    "subSep = ' -- '\n",
    "\n",
    "\n",
    "proteinStr = 'GAVLIPFYWSTCMNQDEKRHXBJOUZ'\n",
    "dnaStr = 'AGCT'\n",
    "rnaStr = 'AGCU'\n",
    "\n",
    "mutationDict = {} # position:ori:mutation\n",
    "keySet = set()\n",
    "with open(fileIn) as FID:     \n",
    "    rowList = []\n",
    "    rowOldInd = None\n",
    "    for line in FID:\n",
    "        if line.startswith('#'):\n",
    "            continue\n",
    "        eles = line.strip().split('\\t')\n",
    "        name1, name2 = eles[0].split(subSep)\n",
    "        index1, index2 = eles[1].split(subSep)\n",
    "        index1 = int(index1)\n",
    "        index2 = int(index2)\n",
    "        out1, out2 = eles[2].split(subSep)\n",
    "        probDiff = float(eles[3])\n",
    "        if index1 == oriIndex:\n",
    "            position, oriRes, mutatedRes = re.findall('(\\d+)_(\\w)-(\\w)',name2.split('###')[1])[0]\n",
    "            position = int(position)\n",
    "            if not position in mutationDict:\n",
    "                mutationDict[position] = {}\n",
    "            if not oriRes in mutationDict[position]:\n",
    "                mutationDict[position][oriRes] = {}\n",
    "            mutationDict[position][oriRes][mutatedRes] = probDiff\n",
    "            keySet.add(oriRes.upper())\n",
    "            keySet.add(mutatedRes.upper())\n",
    "\n",
    "if 'X' in keySet:\n",
    "    keySet.remove('X')\n",
    "if len(keySet) == 4:\n",
    "    if 'U' in keySet:\n",
    "        tempStr = rnaStr\n",
    "    else:\n",
    "        tempStr = dnaStr\n",
    "else:\n",
    "    tempStr = proteinStr\n",
    "\n",
    "outMat = np.zeros([len(tempStr),len(list(mutationDict.keys()))])        \n",
    "outStrDict = {'ori':'Seq:\\t'}\n",
    "for res in tempStr:\n",
    "    outStrDict[res] = '%s:\\t' %res\n",
    "for position in np.sort(list(mutationDict.keys())):\n",
    "    oriRes = list(mutationDict[position].keys())[0]\n",
    "    outStrDict['ori'] += '%s\\t' %oriRes\n",
    "    for i,mutatedRes in enumerate(tempStr):\n",
    "        if mutatedRes in mutationDict[position][oriRes]:\n",
    "            outStrDict[mutatedRes] += '%.6e\\t' %(mutationDict[position][oriRes][mutatedRes])\n",
    "            outMat[i,position] = mutationDict[position][oriRes][mutatedRes]\n",
    "        else:\n",
    "            outStrDict[mutatedRes] += '0\\t'\n",
    "            outMat[i,position] = 0\n"
   ]
  },
  {
   "cell_type": "markdown",
   "metadata": {},
   "source": [
    "<h2>Getting the output</h2>"
   ]
  },
  {
   "cell_type": "markdown",
   "metadata": {},
   "source": [
    "Firstly, getting the text output"
   ]
  },
  {
   "cell_type": "code",
   "execution_count": 16,
   "metadata": {},
   "outputs": [
    {
     "name": "stdout",
     "output_type": "stream",
     "text": [
      "Seq:\tG\tT\tT\tG\tT\tT\tG\tC\tA\tG\tT\tT\tG\tG\tA\tT\tA\tT\tA\tG\tA\tC\tC\tA\tC\tG\tG\tA\tG\tA\t\n",
      "A:\t-4.900000e-05\t-1.100000e-05\t-3.000000e-05\t1.400000e-05\t5.000000e-06\t-2.900000e-05\t2.300000e-05\t-2.000000e-05\t0\t-9.100000e-05\t2.000000e-05\t8.000000e-06\t-4.700000e-05\t-7.000000e-06\t0\t-1.190000e-04\t0\t-3.800000e-04\t0\t-4.500000e-05\t0\t-1.450000e-04\t-3.900000e-05\t0\t1.300000e-05\t-3.200000e-05\t1.200000e-05\t0\t2.300000e-05\t0\t\n",
      "G:\t0\t0.000000e+00\t-4.700000e-05\t0\t-4.900000e-05\t-3.150000e-04\t0\t6.000000e-06\t2.400000e-05\t0\t2.000000e-05\t-3.600000e-05\t0\t0\t-2.840000e-04\t-1.800000e-05\t-1.740000e-04\t-4.980000e-04\t-2.680000e-04\t0\t-1.010000e-04\t-7.900000e-05\t3.000000e-06\t2.400000e-05\t2.200000e-05\t0\t0\t-2.400000e-05\t0\t6.000000e-06\t\n",
      "C:\t-4.000000e-06\t7.000000e-06\t7.000000e-06\t-1.150000e-04\t7.000000e-06\t5.000000e-06\t1.300000e-05\t0\t2.400000e-05\t-4.500000e-05\t-6.000000e-06\t-2.200000e-05\t-1.000000e-04\t-2.000000e-05\t-1.363000e-03\t-3.245000e-03\t-2.500000e-05\t-1.020000e-04\t-1.137000e-03\t2.100000e-05\t0.000000e+00\t0\t0\t-3.100000e-05\t0\t-1.130000e-04\t1.900000e-05\t8.000000e-06\t1.300000e-05\t-2.000000e-06\t\n",
      "T:\t-4.800000e-05\t0\t0\t5.000000e-06\t0\t0\t1.800000e-05\t9.000000e-06\t2.200000e-05\t-8.300000e-05\t0\t0\t-6.000000e-06\t2.000000e-05\t-6.690000e-04\t0\t-3.000000e-06\t0\t-1.500000e-04\t2.200000e-05\t-2.140000e-04\t-1.266000e-03\t-1.954000e-03\t-9.690000e-04\t1.300000e-05\t-1.210000e-04\t9.000000e-06\t1.700000e-05\t1.500000e-05\t2.000000e-06\t\n"
     ]
    }
   ],
   "source": [
    "#text output \n",
    "print(outStrDict['ori'])\n",
    "for res in tempStr:\n",
    "    print(outStrDict[res])\n"
   ]
  },
  {
   "cell_type": "markdown",
   "metadata": {},
   "source": [
    "Then the output in figure"
   ]
  },
  {
   "cell_type": "code",
   "execution_count": 17,
   "metadata": {},
   "outputs": [],
   "source": [
    "minVal = np.min([-1*np.abs(outMat.min()), -1*np.abs(outMat.max())])\n",
    "maxVal = np.max([np.abs(outMat.min()), np.abs(outMat.max())])"
   ]
  },
  {
   "cell_type": "code",
   "execution_count": 18,
   "metadata": {},
   "outputs": [],
   "source": [
    "xTickLabels = outStrDict['ori'].split('\\t')[1:-1]\n",
    "yTickLabels = list(tempStr)"
   ]
  },
  {
   "cell_type": "code",
   "execution_count": 19,
   "metadata": {},
   "outputs": [
    {
     "data": {
      "image/png": "[encoded data removed]",
      "text/plain": [
       "<Figure size 1152x720 with 2 Axes>"
      ]
     },
     "metadata": {
      "needs_background": "light"
     },
     "output_type": "display_data"
    }
   ],
   "source": [
    "analysisPlot.showMatWithVal(outMat,showText=False,vmin=None,norm = mpl.colors.Normalize(vmin=minVal,vmax=maxVal),cmapName='bwr',\n",
    "                            xtickLabels=xTickLabels,ytickLabels=yTickLabels,driverCaxSize=0.2)"
   ]
  },
  {
   "cell_type": "markdown",
   "metadata": {},
   "source": [
    "Sometimes the length will be too long to plot in one figure, we can plot it separately."
   ]
  },
  {
   "cell_type": "code",
   "execution_count": 20,
   "metadata": {},
   "outputs": [],
   "source": [
    "windowSize = 20"
   ]
  },
  {
   "cell_type": "code",
   "execution_count": 21,
   "metadata": {},
   "outputs": [
    {
     "data": {
      "image/png": "[encoded data removed]",
      "text/plain": [
       "<Figure size 1152x720 with 2 Axes>"
      ]
     },
     "metadata": {
      "needs_background": "light"
     },
     "output_type": "display_data"
    },
    {
     "data": {
      "image/png": "[encoded data removed]",
      "text/plain": [
       "<Figure size 1152x720 with 2 Axes>"
      ]
     },
     "metadata": {
      "needs_background": "light"
     },
     "output_type": "display_data"
    }
   ],
   "source": [
    "currPos = 0\n",
    "totalLen = outMat.shape[1]\n",
    "while currPos < totalLen:\n",
    "    currMat = np.zeros([len(tempStr),windowSize])\n",
    "    currMat[:,:np.min([windowSize, totalLen - currPos])] += outMat[:,currPos:currPos+windowSize]\n",
    "    analysisPlot.showMatWithVal(currMat,showText=False,vmin=None,norm = mpl.colors.Normalize(vmin=minVal,vmax=maxVal),cmapName='bwr',\n",
    "                            xtickLabels=xTickLabels[currPos:currPos+windowSize],ytickLabels=yTickLabels,driverCaxSize=0.2)\n",
    "    currPos += windowSize"
   ]
  },
  {
   "cell_type": "markdown",
   "metadata": {},
   "source": [
    "That's all the informations for this notebook. If you still have more issues, please fell free to connect us at ljs@swmu.edu.cn, thanks."
   ]
  }
 ],
 "metadata": {
  "kernelspec": {
   "display_name": "Python 3",
   "language": "python",
   "name": "python3"
  },
  "language_info": {
   "codemirror_mode": {
    "name": "ipython",
    "version": 3
   },
   "file_extension": ".py",
   "mimetype": "text/x-python",
   "name": "python",
   "nbconvert_exporter": "python",
   "pygments_lexer": "ipython3",
   "version": "3.7.6"
  }
 },
 "nbformat": 4,
 "nbformat_minor": 4
}
