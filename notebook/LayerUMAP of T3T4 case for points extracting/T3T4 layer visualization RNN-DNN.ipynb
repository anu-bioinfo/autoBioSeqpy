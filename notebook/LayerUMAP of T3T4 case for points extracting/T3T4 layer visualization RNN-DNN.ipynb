{
 "cells": [
  {
   "cell_type": "markdown",
   "metadata": {},
   "source": [
    "<h1>T3T4 layer visualization</h1>\n",
    "\n",
    "This notebook is provided to show the way to see the built model from autoBioSeqpy. A part of the functions in this notebook is provided in the script \"tool/layerPlot.py\" as well.\n",
    "\n",
    "NOTE: The script used 3rd module <a href=https://github.com/lmcinnes/umap>UMAP</a> for layer plotting."
   ]
  },
  {
   "cell_type": "markdown",
   "metadata": {},
   "source": [
    "<h2>1. Preparation</h2>\n",
    "\n",
    "In this notebook, few packages are necessary. \n",
    "\n",
    "Assuming that we are in <b>'root-of-autoBioSeqpy/notebook/T3T4'</b>, then we need to add the search path and import the modules.\n",
    "\n",
    "Please install <b>UMAP, matplotlib, tensorFlow and keras</b> before using this notebook."
   ]
  },
  {
   "cell_type": "code",
   "execution_count": 1,
   "metadata": {},
   "outputs": [
    {
     "name": "stderr",
     "output_type": "stream",
     "text": [
      "Using TensorFlow backend.\n"
     ]
    }
   ],
   "source": [
    "import os, sys\n",
    "sys.path.append('../../tool/libs')\n",
    "sys.path.append('../..')\n",
    "sys.path.append('..')\n",
    "oriPath = os.path.curdir\n",
    "import paraParser\n",
    "import moduleRead\n",
    "import dataProcess\n",
    "#import analysisPlot\n",
    "import numpy as np\n",
    "#from sklearn.metrics import accuracy_score,f1_score,roc_auc_score,recall_score,precision_score,confusion_matrix,matthews_corrcoef \n",
    "import tensorflow as tf\n",
    "from utils import TextDecorate, evalStrList\n",
    "from keras.models import Model\n",
    "from keras.models import Sequential\n",
    "\n",
    "import umap\n",
    "import umap.plot\n",
    "import matplotlib.pyplot as plt\n",
    "from matplotlib.backends.backend_pdf import PdfPages"
   ]
  },
  {
   "cell_type": "markdown",
   "metadata": {},
   "source": [
    "Using <a href=https://github.com/lmcinnes/umap>UMAP</a> is a simple way for model visualization, but still we need the model as well as the data for generating the predicted data for plotting. Thus, here we need few steps to get a built model and the related data."
   ]
  },
  {
   "cell_type": "markdown",
   "metadata": {},
   "source": [
    "<h3>1.1 Model building</h3>\n",
    "\n",
    "As the first step, we need a model from running.py, users could build a model by using the command line below in the root of autoBioSeqpy:\n",
    "\n",
    "<b>python running.py --dataType protein other --dataEncodingType dict other --dataTrainFilePaths examples/T3T4/dataset/trainT3.txt examples/T3T4/dataset/trainT4.txt examples/T3T4/feature/trainT3_AAC_DC.txt examples/T3T4/feature/trainT4_AAC_DC.txt --dataTrainLabel 1 0 1 0 --dataTestFilePaths examples/T3T4/dataset/testT3.txt examples/T3T4/dataset/testT4.txt examples/T3T4/feature/testT3_AAC_DC.txt examples/T3T4/feature/testT4_AAC_DC.txt --dataTestLabel 1 0 1 0 --modelLoadFile examples/T3T4/model/RNN_hybrid.py examples/T3T4/model/DNN_hybrid.py --verbose 1 --outSaveFolderPath tmpOut --savePrediction 1 --saveFig 1 --batch_size 25 --epochs 40 --shuffleDataTrain 1 --showFig 1 --modelSaveName tmpMod.json --weightSaveName tmpWeight.bin --noGPU 0 --paraSaveName parameters.txt --spcLen 1500 1500  --dataTrainModelInd 0 0 1 1  --dataTestModelInd 0 0 1 1\n",
    "</b>\n",
    "\n",
    "The outputs will be saved at <b>your-work-path/tmpOut</b>, including the parameters, the path of the data and constructure of the model.\n",
    "\n",
    "Alternativly, ususally a built model is already provided in <b>your-work-path/notebook/T3T4/models/RNN-DNN</b>, thus users could skip this step by using the provided one.\n",
    "\n",
    "If users would like to use their own model, please don't forget to save the model and the weight by using parameters \"--modelSaveName\" and \"--weightSaveName\"."
   ]
  },
  {
   "cell_type": "markdown",
   "metadata": {},
   "source": [
    "<h3>1.2 Parameter pasering and data loading</h3>\n",
    "Here we use the parameters which saved in <b>your-work-path/notebook/T3T4/models/RNN-DNN</b> directly. We can get the information easily by using the paraParser module."
   ]
  },
  {
   "cell_type": "code",
   "execution_count": 2,
   "metadata": {},
   "outputs": [
    {
     "name": "stdout",
     "output_type": "stream",
     "text": [
      "'dataType': ['protein', 'other']\n",
      "'dataEncodingType': ['dict', 'other']\n",
      "'spcLen': [1500, 1500]\n",
      "'firstKernelSize': []\n",
      "'dataTrainFilePaths': ['examples/T3T4/dataset/trainT3.txt', 'examples/T3T4/dataset/trainT4.txt', 'examples/T3T4/feature/trainT3_AAC_DC.txt', 'examples/T3T4/feature/trainT4_AAC_DC.txt']\n",
      "'dataTrainLabel': [1, 0, 1, 0]\n",
      "'dataTestFilePaths': ['examples/T3T4/dataset/testT3.txt', 'examples/T3T4/dataset/testT4.txt', 'examples/T3T4/feature/testT3_AAC_DC.txt', 'examples/T3T4/feature/testT4_AAC_DC.txt']\n",
      "'dataTestLabel': [1, 0, 1, 0]\n",
      "'dataTrainModelInd': [0, 0, 1, 1]\n",
      "'dataTestModelInd': [0, 0, 1, 1]\n",
      "'outSaveFolderPath': 'tmpOut'\n",
      "'showFig': True\n",
      "'saveFig': True\n",
      "'figDPI': 300\n",
      "'savePrediction': True\n",
      "'dataSplitScale': None\n",
      "'modelLoadFile': ['examples/T3T4/model/RNN_hybrid.py', 'examples/T3T4/model/DNN_hybrid.py']\n",
      "'weightLoadFile': []\n",
      "'shuffleDataTrain': True\n",
      "'shuffleDataTest': False\n",
      "'batch_size': 25\n",
      "'epochs': 40\n",
      "'useKMer': []\n",
      "'KMerNum': []\n",
      "'inputLength': []\n",
      "'loss': 'binary_crossentropy'\n",
      "'optimizer': 'optimizers.Adam()'\n",
      "'metrics': ['acc', 'acc']\n",
      "'modelSaveName': 'tmpMod.json'\n",
      "'weightSaveName': 'tmpWeight.bin'\n",
      "'noGPU': False\n",
      "'paraFile': None\n",
      "'paraSaveName': 'parameters.txt'\n",
      "'seed': 1\n",
      "'labelToMat': False\n",
      "'colorText': 'Auto'\n",
      "'verbose': True\n",
      "'reshapeSize': []\n"
     ]
    }
   ],
   "source": [
    "paraFile = './models/RNN-DNN/parameters.txt'\n",
    "paraDict = paraParser.parseParametersFromFile(paraFile)\n",
    "#print\n",
    "for k in paraDict:\n",
    "    print('%r: %r' %(k,paraDict[k]))"
   ]
  },
  {
   "cell_type": "markdown",
   "metadata": {},
   "source": [
    "Few preparing..."
   ]
  },
  {
   "cell_type": "code",
   "execution_count": 3,
   "metadata": {},
   "outputs": [],
   "source": [
    "paraDict['dataTestFilePaths'] = paraDict['dataTrainFilePaths']\n",
    "paraDict['dataTestModelInd'] = paraDict['dataTrainModelInd']\n",
    "paraDict['dataTestLabel'] = paraDict['dataTrainLabel']\n",
    "paraDict['outSaveFolderPath'] = './notebook/LayerUMAP of T3T4 case for points extracting/models/RNN-DNN/'\n",
    "os.chdir('../../')#to the root path of autoBioSeqpy\n",
    "\n",
    "\n",
    "#parameters\n",
    "dataTypeList = paraDict['dataType']\n",
    "dataEncodingType = paraDict['dataEncodingType']\n",
    "spcLen = paraDict['spcLen']\n",
    "firstKernelSize = paraDict['firstKernelSize']\n",
    "\n",
    "dataTestFilePaths = paraDict['dataTestFilePaths']\n",
    "dataTestLabel = paraDict['dataTestLabel']\n",
    "\n",
    "dataSplitScale = paraDict['dataSplitScale']\n",
    "outSaveFolderPath = paraDict['outSaveFolderPath']\n",
    "showFig = paraDict['showFig']\n",
    "saveFig = paraDict['saveFig']\n",
    "savePrediction = paraDict['savePrediction']\n",
    "\n",
    "loss = paraDict['loss']\n",
    "optimizer = paraDict['optimizer']\n",
    "if not optimizer.startswith('optimizers.'):\n",
    "    optimizer = 'optimizers.' + optimizer\n",
    "if not optimizer.endswith('()'):\n",
    "    optimizer = optimizer + '()'\n",
    "metrics = paraDict['metrics']\n",
    "\n",
    "shuffleDataTrain = paraDict['shuffleDataTrain']\n",
    "shuffleDataTest = paraDict['shuffleDataTest']\n",
    "batch_size = paraDict['batch_size']\n",
    "epochs = paraDict['epochs']\n",
    "\n",
    "inputLength = paraDict['inputLength']\n",
    "modelSaveName = paraDict['modelSaveName']\n",
    "weightSaveName = paraDict['weightSaveName']\n",
    "noGPU = paraDict['noGPU']\n",
    "labelToMat = paraDict['labelToMat']\n",
    "\n",
    "\n",
    "modelLoadFile = paraDict['modelLoadFile']\n",
    "useKMerList = paraDict['useKMer']\n",
    "if len(useKMerList ) == 0:\n",
    "    useKMerList = [False] * len(modelLoadFile)\n",
    "KMerNumList = paraDict['KMerNum']\n",
    "if len(KMerNumList ) == 0:\n",
    "    KMerNumList = [3] * len(modelLoadFile)\n",
    "    \n",
    "dataTestModelInd = paraDict['dataTestModelInd']\n",
    "if len(modelLoadFile) == 1:\n",
    "    dataTestModelInd = [0] * len(dataTestFilePaths)\n",
    "\n",
    "modelPredictFile = outSaveFolderPath + os.path.sep + modelSaveName\n",
    "weightLoadFile = outSaveFolderPath + os.path.sep + weightSaveName\n",
    "\n",
    "\n",
    "model = moduleRead.readModelFromJsonFileDirectly(modelPredictFile,weightLoadFile)"
   ]
  },
  {
   "cell_type": "markdown",
   "metadata": {},
   "source": [
    "Then we begin to generate the dataset by encoding the sequences.\n",
    "\n",
    "The code below is from predicting.py, to see how the code works, please see the other notebook '<b>tutorial in jupyter notebook.ipynb</b>' instead."
   ]
  },
  {
   "cell_type": "code",
   "execution_count": 4,
   "metadata": {},
   "outputs": [
    {
     "name": "stdout",
     "output_type": "stream",
     "text": [
      "Enconding protein data for model 0 ...\n",
      "Reading CSV-like data for model 1 ...\n",
      "Checking the number of test files, which should be larger than 1 (e.g. at least two labels)...\n",
      "Begin to generate test dataset...\n",
      "Test datasets generated.\n"
     ]
    }
   ],
   "source": [
    "td = TextDecorate()\n",
    "    \n",
    "verbose = paraDict['verbose']\n",
    "\n",
    "predictionSavePath = None\n",
    "for i,k in enumerate(sys.argv):\n",
    "    if k == '--predictionSavePath':\n",
    "        predictionSavePath = sys.argv[i+1]\n",
    "    elif k == '--verbose':\n",
    "        verbose = sys.argv[i+1]\n",
    "\n",
    "colorText = paraDict['colorText']\n",
    "if colorText.lower() == 'auto':\n",
    "    import platform\n",
    "    if 'win' in platform.system().lower():\n",
    "        td.disable()\n",
    "elif not bool(eval(colorText)):\n",
    "    td.disable()\n",
    "    \n",
    "if noGPU:\n",
    "    if verbose:\n",
    "        td.printC('As set by user, gpu will be disabled.','g')\n",
    "    os.environ[\"CUDA_VISIBLE_DEVICES\"] = '-1'\n",
    "else:\n",
    "    #check the version of tensorflow before configuration\n",
    "    tfVersion = tf.__version__\n",
    "    if int(tfVersion.split('.')[0]) >= 2:\n",
    "        config = tf.compat.v1.ConfigProto()\n",
    "        config.gpu_options.allow_growth = True\n",
    "\n",
    "        sess =tf.compat.v1.Session(config=config)\n",
    "    else:\n",
    "        config = tf.ConfigProto(gpu_options=tf.GPUOptions(allow_growth=True))\n",
    "        sess = tf.Session(config=config)\n",
    "\n",
    "\n",
    "if not len(dataTypeList) == len(modelLoadFile):\n",
    "    if verbose:\n",
    "        td.printC('Please provide enough data type(s) as the number of --modelLoadFile','r')\n",
    "assert len(dataTypeList) == len(modelLoadFile)\n",
    "\n",
    "featureGenerators = []\n",
    "for i,subDataType in enumerate(dataTypeList):\n",
    "    if subDataType.lower() == 'protein':\n",
    "        if verbose:\n",
    "            td.printC('Enconding protein data for model %d ...' %i,'b')\n",
    "        featureGenerator = dataProcess.ProteinFeatureGenerator(dataEncodingType[i], useKMer=useKMerList[i], KMerNum=KMerNumList[i])\n",
    "    elif subDataType.lower() == 'dna':\n",
    "        if verbose:\n",
    "            td.printC('Enconding DNA data for model %d ...' %i,'b')\n",
    "        featureGenerator = dataProcess.DNAFeatureGenerator(dataEncodingType[i], useKMer=useKMerList[i], KMerNum=KMerNumList[i])\n",
    "    elif subDataType.lower() == 'rna':\n",
    "        if verbose:\n",
    "            td.printC('Enconding RNA data for model %d ...' %i,'b')\n",
    "        featureGenerator = dataProcess.RNAFeatureGenerator(dataEncodingType[i], useKMer=useKMerList[i], KMerNum=KMerNumList[i])\n",
    "    elif subDataType.lower() == 'other':\n",
    "        if verbose:\n",
    "            td.printC('Reading CSV-like data for model %d ...' %i,'b')\n",
    "        featureGenerator = dataProcess.OtherFeatureGenerator()\n",
    "    else:\n",
    "        td.printC('Unknow dataType %r, please use \\'protein\\', \\'dna\\' ,\\'rna\\' or \\'other\\'' %subDataType, 'r')\n",
    "    featureGenerators.append(featureGenerator)\n",
    "    assert subDataType.lower() in ['protein','dna','rna','other']\n",
    "\n",
    "if verbose:\n",
    "    td.printC('Checking the number of test files, which should be larger than 1 (e.g. at least two labels)...','b')\n",
    "assert len(dataTestFilePaths) > 0\n",
    "\n",
    "if verbose:\n",
    "    td.printC('Begin to generate test dataset...','b')\n",
    "\n",
    "testDataLoadDict = {}    \n",
    "for modelIndex in range(len(modelLoadFile)):\n",
    "    testDataLoadDict[modelIndex] = []\n",
    "#    testDataLoaders = []\n",
    "for i,dataPath in enumerate(dataTestFilePaths):\n",
    "    modelIndex = dataTestModelInd[i]\n",
    "    featureGenerator = featureGenerators[modelIndex]\n",
    "    dataLoader = dataProcess.DataLoader(label = dataTestLabel[i], featureGenerator=featureGenerator)\n",
    "    dataLoader.readFile(dataPath, spcLen = spcLen[modelIndex])\n",
    "    testDataLoadDict[modelIndex].append(dataLoader)\n",
    "\n",
    "testDataMats = []\n",
    "testLabelArrs = []\n",
    "testNameLists = []\n",
    "for modelIndex in range(len(modelLoadFile)):\n",
    "    testDataLoaders = testDataLoadDict[modelIndex]\n",
    "    testDataSetCreator = dataProcess.DataSetCreator(testDataLoaders)\n",
    "    testDataMat, testLabelArr, nameList = testDataSetCreator.getDataSet(toShuffle=False, withNameList=True)\n",
    "    testDataMats.append(testDataMat)\n",
    "    testLabelArrs.append(testLabelArr)\n",
    "    testNameLists.append(nameList)\n",
    "if verbose:\n",
    "    td.printC('Test datasets generated.','g')\n",
    "nameTemp = testNameLists[0]    \n",
    "testDataMats, testLabelArrs, sortedIndexes = dataProcess.matAlignByName(testDataMats,nameTemp,testLabelArrs,testNameLists)\n",
    "testNameLists = [nameTemp] * len(testNameLists)\n",
    "    \n",
    "tmpTempLabel = testLabelArrs[0]\n",
    "for tmpLabel in testLabelArrs:\n",
    "    assert np.sum(np.array(tmpTempLabel) - np.array(tmpLabel)) == 0   \n",
    "\n",
    "if labelToMat:\n",
    "    if verbose:\n",
    "        td.printC('Since labelToMat is set, the labels would be changed to onehot-like matrix','g')\n",
    "    testLabelArr,testLabelArrDict,testArrLabelDict = dataProcess.labelToMat(testLabelArrs[0])\n",
    "#    print(testLabelArr)\n",
    "else:\n",
    "    testLabelArr = testLabelArrs[0]\n"
   ]
  },
  {
   "cell_type": "code",
   "execution_count": 5,
   "metadata": {},
   "outputs": [
    {
     "name": "stdout",
     "output_type": "stream",
     "text": [
      "2 matrix generated:\n",
      "\n",
      "Matrix and label 0:\n",
      "[[12 18 17 ... 20 20 20]\n",
      " [12  5  7 ... 20 20 20]\n",
      " [12 10  3 ... 20 20 20]\n",
      " ...\n",
      " [12 13 11 ... 20 20 20]\n",
      " [12  3  5 ... 20 20 20]\n",
      " [12  1  1 ... 20 20 20]]\n",
      "[1 1 1 1 1 1 1 1 1 1 1 1 1 1 1 1 1 1 1 1 1 1 1 1 1 1 1 1 1 1 1 1 1 1 1 1 1\n",
      " 1 1 1 1 1 1 1 1 1 1 1 1 1 1 1 1 1 1 1 1 1 1 1 1 1 1 1 1 1 1 1 1 1 1 1 1 1\n",
      " 1 1 1 1 1 1 1 1 1 1 1 1 1 1 1 1 1 1 1 1 1 1 1 1 1 1 1 1 1 1 1 1 1 1 1 1 1\n",
      " 1 1 1 1 1 1 1 1 1 1 1 1 1 1 1 1 1 1 1 1 1 1 1 1 1 1 1 1 1 1 1 1 1 1 1 1 1\n",
      " 1 1 1 1 1 1 1 1 1 1 1 1 1 1 1 1 1 1 1 1 1 1 1 1 1 1 1 1 1 1 1 1 1 1 1 1 1\n",
      " 1 1 1 1 1 1 1 1 1 1 1 1 1 1 1 1 1 1 1 1 1 1 1 1 1 1 0 0 0 0 0 0 0 0 0 0 0\n",
      " 0 0 0 0 0 0 0 0 0 0 0 0 0 0 0 0 0 0 0 0 0 0 0 0 0 0 0 0 0 0 0 0 0 0 0 0 0\n",
      " 0 0 0 0 0 0 0 0 0 0 0 0 0 0 0 0 0 0 0 0 0 0 0 0 0 0 0 0 0 0 0 0 0 0 0 0 0\n",
      " 0 0 0 0 0 0 0 0 0 0 0 0 0 0 0 0 0 0 0 0 0 0 0 0 0 0 0 0 0 0 0 0 0 0 0 0 0\n",
      " 0 0 0 0 0 0 0 0 0 0 0 0 0 0 0 0 0 0 0 0 0 0 0 0 0 0 0 0 0 0 0 0 0 0 0 0 0\n",
      " 0 0 0 0 0 0 0 0 0 0 0 0 0 0 0 0 0 0 0 0 0 0 0 0 0 0 0 0 0 0 0 0 0 0 0 0 0\n",
      " 0 0 0 0 0 0 0 0 0 0 0 0 0 0 0 0 0 0 0 0 0 0 0 0 0 0 0 0 0 0 0 0 0 0 0 0 0\n",
      " 0 0 0 0 0 0 0 0 0 0 0 0 0 0 0 0 0 0 0 0 0 0 0 0 0 0 0 0 0 0]\n",
      "\n",
      "\n",
      "Matrix and label 1:\n",
      "[[0.10213415 0.08689024 0.03353659 ... 0.         0.         0.00152672]\n",
      " [0.08205128 0.02564103 0.04102564 ... 0.         0.00515464 0.        ]\n",
      " [0.0766129  0.05241936 0.04435484 ... 0.         0.         0.        ]\n",
      " ...\n",
      " [0.06818182 0.02272727 0.06818182 ... 0.         0.         0.        ]\n",
      " [0.10152284 0.04568528 0.03553299 ... 0.         0.00510204 0.        ]\n",
      " [0.07218684 0.05732484 0.03609342 ... 0.         0.00212766 0.0106383 ]]\n",
      "[1 1 1 1 1 1 1 1 1 1 1 1 1 1 1 1 1 1 1 1 1 1 1 1 1 1 1 1 1 1 1 1 1 1 1 1 1\n",
      " 1 1 1 1 1 1 1 1 1 1 1 1 1 1 1 1 1 1 1 1 1 1 1 1 1 1 1 1 1 1 1 1 1 1 1 1 1\n",
      " 1 1 1 1 1 1 1 1 1 1 1 1 1 1 1 1 1 1 1 1 1 1 1 1 1 1 1 1 1 1 1 1 1 1 1 1 1\n",
      " 1 1 1 1 1 1 1 1 1 1 1 1 1 1 1 1 1 1 1 1 1 1 1 1 1 1 1 1 1 1 1 1 1 1 1 1 1\n",
      " 1 1 1 1 1 1 1 1 1 1 1 1 1 1 1 1 1 1 1 1 1 1 1 1 1 1 1 1 1 1 1 1 1 1 1 1 1\n",
      " 1 1 1 1 1 1 1 1 1 1 1 1 1 1 1 1 1 1 1 1 1 1 1 1 1 1 0 0 0 0 0 0 0 0 0 0 0\n",
      " 0 0 0 0 0 0 0 0 0 0 0 0 0 0 0 0 0 0 0 0 0 0 0 0 0 0 0 0 0 0 0 0 0 0 0 0 0\n",
      " 0 0 0 0 0 0 0 0 0 0 0 0 0 0 0 0 0 0 0 0 0 0 0 0 0 0 0 0 0 0 0 0 0 0 0 0 0\n",
      " 0 0 0 0 0 0 0 0 0 0 0 0 0 0 0 0 0 0 0 0 0 0 0 0 0 0 0 0 0 0 0 0 0 0 0 0 0\n",
      " 0 0 0 0 0 0 0 0 0 0 0 0 0 0 0 0 0 0 0 0 0 0 0 0 0 0 0 0 0 0 0 0 0 0 0 0 0\n",
      " 0 0 0 0 0 0 0 0 0 0 0 0 0 0 0 0 0 0 0 0 0 0 0 0 0 0 0 0 0 0 0 0 0 0 0 0 0\n",
      " 0 0 0 0 0 0 0 0 0 0 0 0 0 0 0 0 0 0 0 0 0 0 0 0 0 0 0 0 0 0 0 0 0 0 0 0 0\n",
      " 0 0 0 0 0 0 0 0 0 0 0 0 0 0 0 0 0 0 0 0 0 0 0 0 0 0 0 0 0 0]\n",
      "\n",
      "\n"
     ]
    }
   ],
   "source": [
    "print('%d matrix generated:\\n' %(len(testDataMats)))\n",
    "for i in range(len(testDataMats)):\n",
    "    print('Matrix and label %d:' %i)\n",
    "    print(testDataMats[i])\n",
    "    print(testLabelArrs[i])\n",
    "    print('\\n')"
   ]
  },
  {
   "cell_type": "markdown",
   "metadata": {},
   "source": [
    "<h3>1.3 model loading</h3>\n",
    "\n",
    "Using the <b>moduleRead</b> module could load the model easily, then the components are ready."
   ]
  },
  {
   "cell_type": "code",
   "execution_count": 6,
   "metadata": {},
   "outputs": [
    {
     "name": "stdout",
     "output_type": "stream",
     "text": [
      "Checking module file for modeling\n",
      "Loading module and weight file\n",
      "Module loaded, generating the summary of the module\n",
      "Model: \"model_1\"\n",
      "__________________________________________________________________________________________________\n",
      "Layer (type)                    Output Shape         Param #     Connected to                     \n",
      "==================================================================================================\n",
      "dense_1_input (InputLayer)      (None, 420)          0                                            \n",
      "__________________________________________________________________________________________________\n",
      "embedding_1_input (InputLayer)  (None, 1500)         0                                            \n",
      "__________________________________________________________________________________________________\n",
      "dense_1 (Dense)                 (None, 210)          88410       dense_1_input[0][0]              \n",
      "__________________________________________________________________________________________________\n",
      "embedding_1 (Embedding)         (None, 1500, 256)    6656        embedding_1_input[0][0]          \n",
      "__________________________________________________________________________________________________\n",
      "dropout_2 (Dropout)             (None, 210)          0           dense_1[0][0]                    \n",
      "__________________________________________________________________________________________________\n",
      "bidirectional_1 (Bidirectional) (None, 128)          164352      embedding_1[0][0]                \n",
      "__________________________________________________________________________________________________\n",
      "dense_2 (Dense)                 (None, 105)          22155       dropout_2[0][0]                  \n",
      "__________________________________________________________________________________________________\n",
      "dropout_1 (Dropout)             (None, 128)          0           bidirectional_1[0][0]            \n",
      "__________________________________________________________________________________________________\n",
      "dropout_3 (Dropout)             (None, 105)          0           dense_2[0][0]                    \n",
      "__________________________________________________________________________________________________\n",
      "concatenate_1 (Concatenate)     (None, 233)          0           dropout_1[0][0]                  \n",
      "                                                                 dropout_3[0][0]                  \n",
      "__________________________________________________________________________________________________\n",
      "dense_3 (Dense)                 (None, 1)            234         concatenate_1[0][0]              \n",
      "==================================================================================================\n",
      "Total params: 281,807\n",
      "Trainable params: 281,807\n",
      "Non-trainable params: 0\n",
      "__________________________________________________________________________________________________\n"
     ]
    }
   ],
   "source": [
    "if verbose:\n",
    "    td.printC('Checking module file for modeling','b')\n",
    "if modelPredictFile is None:\n",
    "    if verbose:\n",
    "        td.printC('please provide a model file in a json file.','r')\n",
    "if weightLoadFile is None:\n",
    "    if verbose:\n",
    "        td.printC('the weight file is necessary for predicting, otherwise the model will be with initialized weight','r')\n",
    "assert not modelPredictFile is None\n",
    "assert not weightLoadFile is None\n",
    "\n",
    "if verbose:\n",
    "    td.printC('Loading module and weight file','b')\n",
    "model = moduleRead.readModelFromJsonFileDirectly(modelPredictFile,weightLoadFile)\n",
    "if verbose:\n",
    "    td.printC('Module loaded, generating the summary of the module','b')\n",
    "    model.summary()"
   ]
  },
  {
   "cell_type": "markdown",
   "metadata": {},
   "source": [
    "The model will be different as user set. Some times there will be a \"sequential\" layer, which is a wrapped model, in the summary, this time, we can umpack the \"sequential\" layer into 'un-wrapped' layers.\n",
    "\n",
    "We provided few functions in 'layPlot.py', but here we can do it manually."
   ]
  },
  {
   "cell_type": "markdown",
   "metadata": {},
   "source": [
    "First of all, let us see what is in the sequential. A function is used to make this process more simple."
   ]
  },
  {
   "cell_type": "code",
   "execution_count": 7,
   "metadata": {},
   "outputs": [],
   "source": [
    "def unBoundLayers(modelIn,layers = []):\n",
    "    for layer in modelIn.layers:\n",
    "        if not 'sequential' in layer.name.lower():\n",
    "            layers.append(layer)\n",
    "        else:\n",
    "            unBoundLayers(layer,layers)\n",
    "    return layers"
   ]
  },
  {
   "cell_type": "code",
   "execution_count": 8,
   "metadata": {},
   "outputs": [
    {
     "name": "stdout",
     "output_type": "stream",
     "text": [
      "layer 0: dense_1_input\n",
      "layer 1: embedding_1_input\n",
      "layer 2: dense_1\n",
      "layer 3: embedding_1\n",
      "layer 4: dropout_2\n",
      "layer 5: bidirectional_1\n",
      "layer 6: dense_2\n",
      "layer 7: dropout_1\n",
      "layer 8: dropout_3\n",
      "layer 9: concatenate_1\n",
      "layer 10: dense_3\n"
     ]
    }
   ],
   "source": [
    "layers = unBoundLayers(model)\n",
    "for i, layer in enumerate(layers):\n",
    "    print('layer %d: %s' %(i,layer.name))"
   ]
  },
  {
   "cell_type": "markdown",
   "metadata": {},
   "source": [
    "Then, we need to generate a new model which change the output layer to a hidden layer. If the model contain multiple input layer, usually only the layer after concatenate is available."
   ]
  },
  {
   "cell_type": "code",
   "execution_count": 9,
   "metadata": {},
   "outputs": [],
   "source": [
    "newModel = Model(inputs=model.input,outputs=model.layers[-2].output)"
   ]
  },
  {
   "cell_type": "markdown",
   "metadata": {},
   "source": [
    "Now the model above is available for UMAP.\n",
    "\n",
    "NOTE: Usually we have to spesify the input shape of the input layer, but autoBioSeqpy will check when training, thus here we don't have to do this step."
   ]
  },
  {
   "cell_type": "markdown",
   "metadata": {},
   "source": [
    "<h2>2. Using UMAP for layer visualization</h2>\n",
    "\n",
    "UMAP need the predicted values from the model and the labels from the data, then the figure could be generated. Here the <b>testDataMats</b> is already changed to the training data.\n",
    "\n",
    "Since the output layer is changed, the shape will be the same as the output of the such layer."
   ]
  },
  {
   "cell_type": "code",
   "execution_count": 10,
   "metadata": {},
   "outputs": [],
   "source": [
    "predicted_Probability = newModel.predict(testDataMats)"
   ]
  },
  {
   "cell_type": "code",
   "execution_count": 11,
   "metadata": {},
   "outputs": [
    {
     "data": {
      "text/plain": [
       "(474, 233)"
      ]
     },
     "execution_count": 11,
     "metadata": {},
     "output_type": "execute_result"
    }
   ],
   "source": [
    "predicted_Probability.shape"
   ]
  },
  {
   "cell_type": "markdown",
   "metadata": {},
   "source": [
    "Using UMAP could get the representation that if the data are divided correctly, but still we might want to know the points which in the incorrect cluster, thus here we can export the axis to get the details."
   ]
  },
  {
   "cell_type": "code",
   "execution_count": 38,
   "metadata": {},
   "outputs": [],
   "source": [
    "labels = np.array(['T3SE'] * len(testDataLoaders[0].names) + ['T4SE'] * len(testDataLoaders[1].names), dtype=str)"
   ]
  },
  {
   "cell_type": "code",
   "execution_count": 39,
   "metadata": {},
   "outputs": [
    {
     "data": {
      "image/png": "[encoded data removed]",
      "text/plain": [
       "<Figure size 800x800 with 1 Axes>"
      ]
     },
     "metadata": {},
     "output_type": "display_data"
    }
   ],
   "source": [
    "# the featureDict could contain more parameters, use '?umap.UMAP' for more details.\n",
    "featureDict={\n",
    "        'n_neighbors' : 5,\n",
    "        'min_dist' : 0.2,   \n",
    "        'n_components' : 2,\n",
    "        'metric' : 'euclidean',\n",
    "        }\n",
    "\n",
    "mapper = umap.UMAP(**featureDict).fit(predicted_Probability)\n",
    "plotObj = umap.plot.points(mapper, labels=labels, color_key_cmap='rainbow')\n",
    "plt.show()"
   ]
  },
  {
   "cell_type": "markdown",
   "metadata": {},
   "source": [
    "One way is to use the <b>umap.plot.show</b> to see the polts interactively, a map of the label can make the visualization better."
   ]
  },
  {
   "cell_type": "code",
   "execution_count": 40,
   "metadata": {},
   "outputs": [],
   "source": [
    "import pandas as pd"
   ]
  },
  {
   "cell_type": "code",
   "execution_count": 41,
   "metadata": {},
   "outputs": [],
   "source": [
    "hover_data = pd.DataFrame({'index':testDataLoaders[0].names+testDataLoaders[1].names,\n",
    "                           'label':testLabelArr})"
   ]
  },
  {
   "cell_type": "code",
   "execution_count": 42,
   "metadata": {},
   "outputs": [],
   "source": [
    "p = umap.plot.interactive(mapper, labels=testLabelArr, hover_data=hover_data, point_size=2)\n",
    "umap.plot.show(p)"
   ]
  },
  {
   "cell_type": "markdown",
   "metadata": {},
   "source": [
    "Another way is to set some rule to find out the outliers manually. Using <b>embedding_</b> in a UMAP <b>mapper</b> can get the axis."
   ]
  },
  {
   "cell_type": "code",
   "execution_count": 43,
   "metadata": {},
   "outputs": [
    {
     "data": {
      "text/plain": [
       "array([[ 3.44959831e+00,  1.30298204e+01],\n",
       "       [-3.57231331e+00,  4.82812309e+00],\n",
       "       [-4.21411932e-01,  1.07829571e+01],\n",
       "       [ 3.10494351e+00,  1.15061369e+01],\n",
       "       [-3.78626138e-01,  1.25415525e+01],\n",
       "       [-1.03311408e+00,  1.17118740e+01],\n",
       "       [ 3.17984676e+00,  1.36501646e+01],\n",
       "       [ 8.55012238e-01,  1.33688488e+01],\n",
       "       [-3.41542602e+00,  5.73511171e+00],\n",
       "       [ 3.38407898e+00,  1.15710211e+01],\n",
       "       [ 3.82414430e-01,  1.22430382e+01],\n",
       "       [ 8.64743137e+00,  5.32928228e+00],\n",
       "       [ 1.12509608e+00,  1.38651476e+01],\n",
       "       [-3.57995033e-01,  1.18153372e+01],\n",
       "       [ 4.71013260e+00,  1.24240942e+01],\n",
       "       [ 1.77772117e+00,  1.41097803e+01],\n",
       "       [ 1.64339483e+00,  1.41519489e+01],\n",
       "       [ 4.86210155e+00,  1.30560884e+01],\n",
       "       [-2.62249970e+00,  3.25332236e+00],\n",
       "       [-8.63920450e-01,  4.68513489e-01],\n",
       "       [ 7.87481308e-01,  1.32730083e+01],\n",
       "       [ 2.99247909e+00,  1.41847620e+01],\n",
       "       [-3.25307512e+00,  5.96118736e+00],\n",
       "       [-3.44092822e+00,  3.85274196e+00],\n",
       "       [ 1.27902675e+00,  1.40149632e+01],\n",
       "       [-3.17906928e+00,  5.17251730e+00],\n",
       "       [-1.34243524e+00,  4.92122078e+00],\n",
       "       [-1.05751133e+00,  5.58201027e+00],\n",
       "       [ 5.15425491e+00,  1.30144758e+01],\n",
       "       [-1.33227503e+00,  2.65117621e+00],\n",
       "       [ 3.17158914e+00,  1.16991100e+01],\n",
       "       [-2.97998756e-01,  1.17619410e+01],\n",
       "       [ 1.71696723e+00,  1.40978155e+01],\n",
       "       [-3.51554012e+00,  4.69092989e+00],\n",
       "       [-1.19714642e+00,  4.19336289e-01],\n",
       "       [-1.14005029e+00,  3.73935533e+00],\n",
       "       [ 5.10962343e+00,  1.32264118e+01],\n",
       "       [ 2.99557424e+00,  1.40914230e+01],\n",
       "       [-2.92326903e+00,  6.34170628e+00],\n",
       "       [ 4.45831656e-01,  1.30982533e+01],\n",
       "       [-2.85875320e+00,  3.43360114e+00],\n",
       "       [-2.43139219e+00,  4.85161400e+00],\n",
       "       [-1.47026980e+00,  4.34392071e+00],\n",
       "       [ 3.03960204e+00,  1.37773590e+01],\n",
       "       [-1.35175276e+00,  1.06593275e+01],\n",
       "       [ 1.96275234e+00,  1.35113773e+01],\n",
       "       [-5.58972597e-01,  1.87857196e-01],\n",
       "       [-2.71205115e+00,  3.26447535e+00],\n",
       "       [-1.48215175e+00,  1.19912601e+00],\n",
       "       [-8.29567730e-01,  1.18079844e+01],\n",
       "       [-1.03946485e-01,  1.09652548e+01],\n",
       "       [-2.88428092e+00,  4.08755445e+00],\n",
       "       [-1.27534068e+00,  8.23715508e-01],\n",
       "       [-3.48976612e+00,  3.93870258e+00],\n",
       "       [-1.27560174e+00,  5.40070438e+00],\n",
       "       [ 2.07129860e+00,  1.41585188e+01],\n",
       "       [ 2.78514981e+00,  1.08507986e+01],\n",
       "       [-1.17666423e+00,  2.41673827e+00],\n",
       "       [ 5.02450085e+00,  1.31587858e+01],\n",
       "       [-5.26272297e-01,  1.23478222e+01],\n",
       "       [-3.58675981e+00,  5.00288343e+00],\n",
       "       [-2.97579837e+00,  6.19494534e+00],\n",
       "       [-2.75427461e+00,  6.61800146e+00],\n",
       "       [ 3.49535060e+00,  1.16001749e+01],\n",
       "       [ 1.97292149e-01,  1.19134054e+01],\n",
       "       [-3.06137890e-01,  1.27270575e+01],\n",
       "       [ 3.60383773e+00,  1.26553736e+01],\n",
       "       [ 2.98451805e+00,  1.12215624e+01],\n",
       "       [-9.08849418e-01,  7.44680822e-01],\n",
       "       [-1.77218199e+00,  2.21942806e+00],\n",
       "       [-1.87505591e+00,  2.61670732e+00],\n",
       "       [-7.65821397e-01,  3.34107113e+00],\n",
       "       [-1.10996878e+00,  1.70806199e-01],\n",
       "       [-1.34453344e+00,  1.08708029e+01],\n",
       "       [-4.89818186e-01,  1.24764557e+01],\n",
       "       [-1.31026566e+00,  4.23202610e+00],\n",
       "       [-1.44007742e+00,  1.09176207e+01],\n",
       "       [-1.10509300e+00,  2.50794053e+00],\n",
       "       [-3.27078104e+00,  4.85279512e+00],\n",
       "       [-1.80574358e+00,  2.43104029e+00],\n",
       "       [-1.08764553e+00,  3.62903547e+00],\n",
       "       [ 3.06062245e+00,  1.38894224e+01],\n",
       "       [-1.79816937e+00,  5.11452341e+00],\n",
       "       [-1.41025162e+00,  5.88269281e+00],\n",
       "       [-3.26598477e+00,  3.59907484e+00],\n",
       "       [-2.59879470e+00,  3.12543964e+00],\n",
       "       [-3.10308433e+00,  5.99282789e+00],\n",
       "       [-1.29397511e+00,  4.05397224e+00],\n",
       "       [ 5.03976774e+00,  1.31071863e+01],\n",
       "       [-5.91847673e-02,  1.12713766e+01],\n",
       "       [ 5.09101677e+00,  1.32015409e+01],\n",
       "       [-1.13169050e+00,  1.09620371e+01],\n",
       "       [ 3.35247421e+00,  1.27918558e+01],\n",
       "       [ 4.34149456e+00,  1.22572346e+01],\n",
       "       [-9.41683471e-01,  2.74530578e+00],\n",
       "       [ 3.67340541e+00,  1.27220745e+01],\n",
       "       [ 4.71950501e-01,  1.23414688e+01],\n",
       "       [-3.14453155e-01,  1.19921942e+01],\n",
       "       [-7.55795777e-01,  2.41164044e-01],\n",
       "       [ 3.09312201e+00,  1.13138590e+01],\n",
       "       [ 3.55349445e+00,  1.28107958e+01],\n",
       "       [ 4.96689558e-01,  1.28579092e+01],\n",
       "       [-1.59297454e+00,  4.68185711e+00],\n",
       "       [-1.40027630e+00,  1.27184808e+00],\n",
       "       [-1.25532973e+00,  5.59695768e+00],\n",
       "       [-6.17541850e-01,  7.96848536e-02],\n",
       "       [-1.30487084e+00,  1.08070793e+01],\n",
       "       [-1.81610000e+00,  4.68283129e+00],\n",
       "       [-1.07956851e+00,  9.61930692e-01],\n",
       "       [-1.09873438e+00,  1.12814884e+01],\n",
       "       [-2.73577571e+00,  4.72406101e+00],\n",
       "       [ 2.26818308e-01,  1.30088224e+01],\n",
       "       [-1.42842960e+00,  5.42514086e+00],\n",
       "       [ 1.73019826e+00,  1.41660700e+01],\n",
       "       [-3.29848576e+00,  5.32684040e+00],\n",
       "       [ 5.19965553e+00,  1.22981758e+01],\n",
       "       [-1.26696634e+00,  8.84404123e-01],\n",
       "       [ 1.90447032e+00,  1.35811682e+01],\n",
       "       [ 6.98387444e-01,  1.33573923e+01],\n",
       "       [ 1.38032942e+01,  6.25764465e+00],\n",
       "       [-2.67135715e+00,  3.21508527e+00],\n",
       "       [ 2.92407751e+00,  1.42303095e+01],\n",
       "       [-6.68265998e-01,  2.83244103e-01],\n",
       "       [-1.12548280e+00,  3.52797580e+00],\n",
       "       [ 3.73919047e-02,  1.27546072e+01],\n",
       "       [-1.79839909e+00,  6.14228868e+00],\n",
       "       [-2.42913866e+00,  5.49939299e+00],\n",
       "       [-2.74106789e+00,  6.38986874e+00],\n",
       "       [-1.68870008e+00,  2.02966070e+00],\n",
       "       [-1.40533495e+00,  1.12212670e+00],\n",
       "       [ 6.53725743e-01,  1.31892538e+01],\n",
       "       [ 3.70512080e+00,  1.17890635e+01],\n",
       "       [ 5.12105179e+00,  1.30869656e+01],\n",
       "       [-3.63251448e+00,  4.59655905e+00],\n",
       "       [-1.76924348e+00,  2.34037709e+00],\n",
       "       [-1.67265642e+00,  4.79360247e+00],\n",
       "       [-1.03361166e+00,  5.78273535e+00],\n",
       "       [ 2.74318886e+00,  1.07878714e+01],\n",
       "       [-7.48728454e-01,  3.29098535e+00],\n",
       "       [ 3.73795652e+00,  1.24245243e+01],\n",
       "       [ 3.13685036e+00,  1.37768440e+01],\n",
       "       [-2.39076114e+00,  5.39199924e+00],\n",
       "       [-1.57688951e+00,  4.58889580e+00],\n",
       "       [ 5.05189657e+00,  1.27283545e+01],\n",
       "       [-2.41263676e+00,  5.26798868e+00],\n",
       "       [-6.95638210e-02,  1.10254993e+01],\n",
       "       [ 4.27613020e-01,  1.26325378e+01],\n",
       "       [-1.56062925e+00,  6.03882122e+00],\n",
       "       [-1.23328495e+00,  3.89143562e+00],\n",
       "       [-1.06802630e+00,  5.62475109e+00],\n",
       "       [-7.68276811e-01,  3.12010264e+00],\n",
       "       [ 5.35357189e+00,  1.24703817e+01],\n",
       "       [ 4.20194060e-01,  1.29232121e+01],\n",
       "       [ 1.91141796e+00,  1.42310581e+01],\n",
       "       [-2.34673667e+00,  4.71054411e+00],\n",
       "       [-3.37721968e+00,  4.79621363e+00],\n",
       "       [ 1.69124341e+00,  1.41806011e+01],\n",
       "       [ 3.15109468e+00,  1.16250296e+01],\n",
       "       [-1.94642437e+00,  2.55885339e+00],\n",
       "       [-5.96428812e-02,  1.11430597e+01],\n",
       "       [-4.50778723e-01,  1.06893530e+01],\n",
       "       [-9.37295914e-01,  5.36221886e+00],\n",
       "       [-1.08790910e+00,  2.41240907e+00],\n",
       "       [ 5.21731758e+00,  1.26735144e+01],\n",
       "       [ 2.22684813e+00,  1.41203718e+01],\n",
       "       [-2.56792974e+00,  5.42407084e+00],\n",
       "       [-1.09055185e+00,  1.08078337e+01],\n",
       "       [-1.14486039e+00,  1.08087673e+01],\n",
       "       [-1.07505310e+00,  2.90986478e-01],\n",
       "       [ 1.91986668e+00,  1.34144001e+01],\n",
       "       [-9.92047369e-01,  1.18356724e+01],\n",
       "       [-7.52686441e-01,  1.21416311e+01],\n",
       "       [-9.46683645e-01,  5.24139357e+00],\n",
       "       [-1.11259496e+00,  1.65524080e-01],\n",
       "       [-1.72319055e+00,  4.59117699e+00],\n",
       "       [ 2.93663907e+00,  1.15064087e+01],\n",
       "       [-1.27009428e+00,  5.71503687e+00],\n",
       "       [-1.78883064e+00,  2.51077867e+00],\n",
       "       [-1.32141459e+00,  3.55948067e+00],\n",
       "       [-5.79765737e-02,  1.09541273e+01],\n",
       "       [ 1.24009836e+00,  1.39953537e+01],\n",
       "       [ 3.40396225e-01,  1.28301697e+01],\n",
       "       [-1.13049757e+00,  2.25546837e+00],\n",
       "       [-3.36388278e+00,  5.57762480e+00],\n",
       "       [-1.42178309e+00,  1.25835574e+00],\n",
       "       [-2.92270660e+00,  6.36238432e+00],\n",
       "       [-9.75432575e-01,  3.51164961e+00],\n",
       "       [ 2.81276035e+00,  1.40706224e+01],\n",
       "       [ 2.75080609e+00,  1.07965460e+01],\n",
       "       [-2.48908901e+00,  5.43678808e+00],\n",
       "       [-1.73977658e-01,  1.28332129e+01],\n",
       "       [-3.51021814e+00,  5.59779882e+00],\n",
       "       [ 3.20778704e+00,  1.16340666e+01],\n",
       "       [-5.74943185e-01,  1.10042885e-01],\n",
       "       [-9.29334044e-01,  1.19465370e+01],\n",
       "       [-3.58411527e+00,  4.15761662e+00],\n",
       "       [-2.28432775e+00,  4.86945963e+00],\n",
       "       [ 6.36887550e-01,  1.31100178e+01],\n",
       "       [ 3.36316681e+00,  1.27996044e+01],\n",
       "       [-8.56441975e-01,  3.41174746e+00],\n",
       "       [-3.66513753e+00,  4.43321228e+00],\n",
       "       [ 2.14293003e+00,  1.37348642e+01],\n",
       "       [ 2.97370100e+00,  1.42121382e+01],\n",
       "       [-5.72711170e-01,  1.26651317e-01],\n",
       "       [ 3.42068529e+00,  1.27229404e+01],\n",
       "       [ 2.71731257e+00,  1.07625637e+01],\n",
       "       [-1.60876834e+00,  2.17244911e+00],\n",
       "       [-1.13588381e+00,  4.66463852e+00],\n",
       "       [ 4.89125538e+00,  1.27682848e+01],\n",
       "       [-1.40730369e+00,  1.08512974e+01],\n",
       "       [-2.43072486e+00,  4.76126766e+00],\n",
       "       [ 1.53231411e+01,  2.12900352e+00],\n",
       "       [ 1.23598843e+01,  2.75881577e+00],\n",
       "       [ 1.43571405e+01,  1.60046518e+00],\n",
       "       [ 1.60746555e+01,  3.76636529e+00],\n",
       "       [ 9.83133411e+00,  6.79524899e+00],\n",
       "       [ 8.30568314e+00,  4.90063286e+00],\n",
       "       [ 1.10833569e+01,  6.36642599e+00],\n",
       "       [ 9.45323563e+00,  6.94077873e+00],\n",
       "       [ 1.73360252e+01,  2.15849090e+00],\n",
       "       [ 1.37396669e+01,  6.39032078e+00],\n",
       "       [ 8.66828823e+00,  6.17767048e+00],\n",
       "       [ 1.38482809e+01,  2.93389082e+00],\n",
       "       [ 1.27844820e+01,  5.89511633e+00],\n",
       "       [ 8.38101578e+00,  5.05967760e+00],\n",
       "       [ 8.87692738e+00,  7.88538837e+00],\n",
       "       [ 1.26562424e+01,  2.67800021e+00],\n",
       "       [ 8.16581535e+00,  8.23380184e+00],\n",
       "       [ 8.20911789e+00,  8.20049953e+00],\n",
       "       [ 1.15756569e+01,  2.86374140e+00],\n",
       "       [ 1.40730467e+01,  3.49683070e+00],\n",
       "       [ 7.29774952e+00,  4.59982491e+00],\n",
       "       [ 1.27078371e+01,  2.01045680e+00],\n",
       "       [ 1.48560085e+01,  2.60755205e+00],\n",
       "       [ 1.29289351e+01,  1.17067468e+00],\n",
       "       [ 6.96494675e+00,  4.30919361e+00],\n",
       "       [ 8.17493725e+00,  5.30612516e+00],\n",
       "       [ 1.72535076e+01,  1.72089958e+00],\n",
       "       [ 1.28914833e+01,  1.68691254e+00],\n",
       "       [ 7.80491209e+00,  4.92483044e+00],\n",
       "       [ 1.72184486e+01,  2.50540447e+00],\n",
       "       [ 1.11732388e+01,  4.59848452e+00],\n",
       "       [ 1.40556889e+01,  1.86043227e+00],\n",
       "       [ 1.42822495e+01, -2.31269062e-01],\n",
       "       [ 7.92951727e+00,  6.36850882e+00],\n",
       "       [ 1.15458612e+01,  5.56770277e+00],\n",
       "       [ 1.56513748e+01,  3.69317532e+00],\n",
       "       [ 1.40892076e+01,  1.53778601e+00],\n",
       "       [ 1.29682989e+01,  1.18680024e+00],\n",
       "       [ 5.81835079e+00,  1.21995325e+01],\n",
       "       [ 1.40880890e+01, -9.77452695e-02],\n",
       "       [ 8.44689560e+00,  7.51866198e+00],\n",
       "       [ 1.43722458e+01,  3.75222468e+00],\n",
       "       [ 1.12321243e+01,  4.21418381e+00],\n",
       "       [ 9.31397152e+00,  5.22979593e+00],\n",
       "       [ 6.99312353e+00,  4.15014505e+00],\n",
       "       [ 1.74535427e+01,  1.92801249e+00],\n",
       "       [ 7.45284939e+00,  4.81877947e+00],\n",
       "       [ 9.60764408e+00,  5.89913988e+00],\n",
       "       [ 1.19244127e+01,  5.35446835e+00],\n",
       "       [ 7.24518585e+00,  4.50306273e+00],\n",
       "       [ 1.16419439e+01,  2.74643254e+00],\n",
       "       [ 1.42105160e+01,  2.93794727e+00],\n",
       "       [ 8.32852459e+00,  7.85880089e+00],\n",
       "       [ 1.03344383e+01,  7.04988813e+00],\n",
       "       [ 1.28977671e+01,  5.37483978e+00],\n",
       "       [ 1.74724560e+01,  1.99042737e+00],\n",
       "       [ 6.94921207e+00,  4.25088930e+00],\n",
       "       [ 1.45167723e+01,  1.77936542e+00],\n",
       "       [ 7.33046198e+00,  4.68303728e+00],\n",
       "       [ 1.00137024e+01,  4.82242250e+00],\n",
       "       [ 1.41747704e+01, -1.19227767e-01],\n",
       "       [ 1.53792162e+01,  2.01777411e+00],\n",
       "       [ 1.38184156e+01,  1.86951315e+00],\n",
       "       [ 5.65587616e+00,  1.22017269e+01],\n",
       "       [ 1.29273949e+01,  2.39433026e+00],\n",
       "       [ 9.86695099e+00,  6.69548988e+00],\n",
       "       [ 9.67852116e+00,  6.05531788e+00],\n",
       "       [ 9.84254265e+00,  6.34431696e+00],\n",
       "       [ 1.31922092e+01,  5.17946577e+00],\n",
       "       [ 8.83155060e+00,  7.86496973e+00],\n",
       "       [ 1.12094660e+01,  6.23871231e+00],\n",
       "       [ 1.74223576e+01,  1.89794517e+00],\n",
       "       [ 7.40164042e+00,  5.00372887e+00],\n",
       "       [ 5.44910574e+00,  1.22235498e+01],\n",
       "       [ 1.44016752e+01, -6.93138182e-01],\n",
       "       [ 8.15996838e+00,  8.18384075e+00],\n",
       "       [ 2.66078758e+00,  1.41041212e+01],\n",
       "       [ 1.74526615e+01,  1.94205964e+00],\n",
       "       [ 1.28478632e+01,  5.31453896e+00],\n",
       "       [ 1.65837746e+01,  3.28351045e+00],\n",
       "       [ 1.37357635e+01,  2.85276675e+00],\n",
       "       [ 1.43729887e+01, -7.87266314e-01],\n",
       "       [ 1.05173416e+01,  4.23072147e+00],\n",
       "       [ 8.22809505e+00,  6.11351156e+00],\n",
       "       [ 1.44822311e+01,  3.70756269e+00],\n",
       "       [ 1.71236687e+01,  2.65337896e+00],\n",
       "       [ 1.21417418e+01,  2.73225141e+00],\n",
       "       [ 1.69489727e+01,  2.85058212e+00],\n",
       "       [ 1.15179768e+01,  2.86216211e+00],\n",
       "       [ 1.30810699e+01,  5.06247759e+00],\n",
       "       [ 8.68032455e+00,  5.30386591e+00],\n",
       "       [ 1.42178440e+01,  9.41722333e-01],\n",
       "       [ 9.58340931e+00,  5.97307491e+00],\n",
       "       [ 1.59629622e+01,  3.96804309e+00],\n",
       "       [ 1.52123137e+01,  1.83883238e+00],\n",
       "       [ 1.14077368e+01,  5.21571779e+00],\n",
       "       [ 1.16721411e+01,  4.84451914e+00],\n",
       "       [ 1.32327757e+01,  5.49069166e+00],\n",
       "       [ 1.10756464e+01,  6.32500076e+00],\n",
       "       [ 1.01549053e+01,  4.66744709e+00],\n",
       "       [ 1.45485163e+01,  3.78710461e+00],\n",
       "       [ 1.43506365e+01,  4.44134742e-01],\n",
       "       [ 1.02911673e+01,  7.02902889e+00],\n",
       "       [ 1.28755627e+01,  1.45549119e+00],\n",
       "       [ 1.22637625e+01,  2.68766928e+00],\n",
       "       [ 9.30239296e+00,  5.92289877e+00],\n",
       "       [ 1.43886461e+01,  2.06990147e+00],\n",
       "       [ 1.43800163e+01,  2.02692413e+00],\n",
       "       [ 9.68439102e+00,  5.97601366e+00],\n",
       "       [ 1.42161407e+01,  3.77864885e+00],\n",
       "       [ 7.99833965e+00,  6.88952351e+00],\n",
       "       [ 8.64028263e+00,  7.72760487e+00],\n",
       "       [ 1.41601591e+01, -8.68784562e-02],\n",
       "       [ 1.54292145e+01,  1.88502264e+00],\n",
       "       [ 7.69950056e+00,  5.15993452e+00],\n",
       "       [ 1.38193550e+01,  6.33336353e+00],\n",
       "       [ 1.42797880e+01,  5.61965525e-01],\n",
       "       [ 9.05835819e+00,  7.65862703e+00],\n",
       "       [ 8.95612144e+00,  5.68076372e+00],\n",
       "       [ 1.33556671e+01,  4.98281574e+00],\n",
       "       [ 1.73120670e+01,  1.81425846e+00],\n",
       "       [ 1.48683462e+01,  2.14260006e+00],\n",
       "       [ 9.30376244e+00,  6.91294193e+00],\n",
       "       [ 1.50824070e+01,  1.91961801e+00],\n",
       "       [ 9.47710991e+00,  5.17735338e+00],\n",
       "       [ 1.44241295e+01, -7.13785529e-01],\n",
       "       [ 7.00848579e+00,  4.30806494e+00],\n",
       "       [ 1.30269995e+01,  1.18329585e+00],\n",
       "       [ 1.43329830e+01,  6.40007317e-01],\n",
       "       [ 9.25230503e+00,  6.88083458e+00],\n",
       "       [ 1.01285677e+01,  6.89985800e+00],\n",
       "       [ 1.03691311e+01,  4.42517424e+00],\n",
       "       [ 1.32035847e+01,  6.69473696e+00],\n",
       "       [ 1.48399963e+01,  2.27703333e+00],\n",
       "       [ 1.32730761e+01,  2.71653247e+00],\n",
       "       [ 1.15902214e+01,  5.89805984e+00],\n",
       "       [ 1.48357506e+01,  2.45859480e+00],\n",
       "       [ 8.06968689e+00,  7.20310879e+00],\n",
       "       [ 1.62338715e+01,  3.60119581e+00],\n",
       "       [ 1.50742702e+01,  2.90423965e+00],\n",
       "       [ 1.37205591e+01,  6.59558821e+00],\n",
       "       [ 7.10538530e+00,  4.35183239e+00],\n",
       "       [ 1.22640896e+01,  2.67849731e+00],\n",
       "       [ 8.05635834e+00,  4.98095465e+00],\n",
       "       [ 1.36489573e+01,  2.81538200e+00],\n",
       "       [ 7.95185661e+00,  4.76363134e+00],\n",
       "       [ 1.71688995e+01,  1.75766575e+00],\n",
       "       [ 1.44214935e+01, -7.73391306e-01],\n",
       "       [ 1.28112440e+01,  1.71542501e+00],\n",
       "       [ 1.50432138e+01,  1.93588960e+00],\n",
       "       [ 1.24289751e+01,  2.68225813e+00],\n",
       "       [ 1.51772108e+01,  2.04005647e+00],\n",
       "       [ 1.05461464e+01,  4.27690935e+00],\n",
       "       [ 7.82263613e+00,  8.47405720e+00],\n",
       "       [ 7.84233475e+00,  5.55256891e+00],\n",
       "       [ 7.79842377e+00,  4.94891262e+00],\n",
       "       [ 1.63208599e+01,  4.52486563e+00],\n",
       "       [ 1.12130070e+01,  6.11915350e+00],\n",
       "       [ 1.27159586e+01,  2.71732187e+00],\n",
       "       [ 7.95112944e+00,  8.39345932e+00],\n",
       "       [ 9.90985584e+00,  5.59965658e+00],\n",
       "       [ 7.93447781e+00,  8.37733746e+00],\n",
       "       [ 9.16440201e+00,  7.59501123e+00],\n",
       "       [ 1.45816870e+01,  1.19606686e+00],\n",
       "       [ 1.44064102e+01, -7.65380561e-01],\n",
       "       [ 1.19323416e+01,  5.30985403e+00],\n",
       "       [ 1.62974949e+01,  4.55875301e+00],\n",
       "       [ 8.62252235e+00,  7.40689659e+00],\n",
       "       [ 1.28283482e+01,  1.68721998e+00],\n",
       "       [ 1.53211899e+01,  3.55215597e+00],\n",
       "       [ 8.26449490e+00,  5.07768011e+00],\n",
       "       [ 1.15145063e+01,  3.95807219e+00],\n",
       "       [ 1.32347908e+01,  6.58433199e+00],\n",
       "       [ 1.04265022e+01,  6.94857359e+00],\n",
       "       [ 1.27713900e+01,  5.85278654e+00],\n",
       "       [ 1.53529034e+01,  3.68278813e+00],\n",
       "       [ 1.54100485e+01,  3.70969653e+00],\n",
       "       [ 1.52906942e+01,  1.71677721e+00],\n",
       "       [ 1.11463108e+01,  4.68076324e+00],\n",
       "       [ 9.21060658e+00,  7.22345257e+00],\n",
       "       [ 1.46915789e+01,  1.83628154e+00],\n",
       "       [ 1.63387051e+01,  3.55171800e+00],\n",
       "       [ 8.23073673e+00,  7.49546623e+00],\n",
       "       [ 1.36799955e+01,  6.02940607e+00],\n",
       "       [ 1.43926506e+01,  3.57897449e+00],\n",
       "       [ 1.36106396e+01,  6.57775259e+00],\n",
       "       [ 1.28806639e+01,  5.77520227e+00],\n",
       "       [ 5.13065624e+00,  1.31194286e+01],\n",
       "       [ 1.28781605e+01,  5.39728308e+00],\n",
       "       [ 8.85743237e+00,  5.62600374e+00],\n",
       "       [ 7.12561035e+00,  4.41032219e+00],\n",
       "       [ 8.15110779e+00,  7.34525728e+00],\n",
       "       [ 1.01252642e+01,  6.00164604e+00],\n",
       "       [ 7.50564861e+00,  4.60783625e+00],\n",
       "       [ 1.29447737e+01,  1.15117860e+00],\n",
       "       [ 1.44319191e+01, -5.55538654e-01],\n",
       "       [ 1.41747255e+01, -1.49106607e-01],\n",
       "       [ 1.43086662e+01,  4.93512332e-01],\n",
       "       [ 7.91858816e+00,  6.18438387e+00],\n",
       "       [ 8.90446472e+00,  5.13873959e+00],\n",
       "       [ 1.23892317e+01,  2.73803759e+00],\n",
       "       [ 1.05228720e+01,  4.22067261e+00],\n",
       "       [ 1.47623110e+01,  3.67841959e+00],\n",
       "       [ 1.59471245e+01,  3.94061637e+00],\n",
       "       [ 1.63413868e+01,  4.51205349e+00],\n",
       "       [ 5.67164803e+00,  1.20966778e+01],\n",
       "       [ 1.59972906e-02,  1.15037689e+01],\n",
       "       [ 1.73537388e+01,  1.86301434e+00],\n",
       "       [ 9.93686771e+00,  6.90924406e+00],\n",
       "       [ 1.18830986e+01,  2.67574549e+00],\n",
       "       [ 1.58438225e+01,  3.87495756e+00],\n",
       "       [ 8.62313938e+00,  5.46998549e+00],\n",
       "       [ 1.36972218e+01,  2.96003294e+00],\n",
       "       [ 1.17868423e+01,  5.41150999e+00],\n",
       "       [ 1.17997599e+01,  5.97590017e+00],\n",
       "       [ 1.68212509e+01,  3.00924945e+00],\n",
       "       [ 7.94806814e+00,  6.46589756e+00],\n",
       "       [ 1.32852268e+01,  4.93182182e+00],\n",
       "       [ 1.10876617e+01,  6.26188660e+00],\n",
       "       [ 1.49610548e+01,  1.99747133e+00],\n",
       "       [ 1.21219244e+01,  5.15701008e+00],\n",
       "       [ 1.47111883e+01,  3.71055436e+00],\n",
       "       [ 7.37290907e+00,  4.75561905e+00],\n",
       "       [ 7.90909195e+00,  4.80296564e+00],\n",
       "       [ 1.10044985e+01,  4.17652464e+00],\n",
       "       [ 1.28405790e+01,  5.89878416e+00],\n",
       "       [ 1.27272615e+01,  5.61041546e+00],\n",
       "       [ 1.31304140e+01,  6.38727140e+00],\n",
       "       [ 1.04708939e+01,  6.92326069e+00],\n",
       "       [ 1.11624184e+01,  4.47648954e+00],\n",
       "       [ 1.48624315e+01,  1.99238348e+00],\n",
       "       [ 1.32458029e+01,  6.65195942e+00],\n",
       "       [ 1.33997183e+01,  2.81698537e+00],\n",
       "       [ 5.92747402e+00,  1.21420250e+01],\n",
       "       [ 8.59400845e+00,  7.54408312e+00],\n",
       "       [ 1.01174126e+01,  5.66381454e+00],\n",
       "       [ 1.41664991e+01,  2.23957729e+00],\n",
       "       [ 1.69998150e+01,  2.80149531e+00],\n",
       "       [ 1.61936626e+01,  4.37910318e+00],\n",
       "       [ 1.45171776e+01,  3.80939007e+00],\n",
       "       [ 8.99586964e+00,  7.11693287e+00],\n",
       "       [ 1.43787746e+01,  6.70696497e-01],\n",
       "       [ 8.18367386e+00,  8.20691490e+00],\n",
       "       [ 7.76633072e+00,  5.35251951e+00],\n",
       "       [ 7.76551676e+00,  5.59584856e+00],\n",
       "       [ 9.57545662e+00,  6.22783470e+00],\n",
       "       [ 7.98443031e+00,  5.91727734e+00],\n",
       "       [ 1.39461031e+01,  3.16652656e+00],\n",
       "       [ 1.36157579e+01,  5.99085617e+00],\n",
       "       [ 1.27822895e+01,  6.02848148e+00],\n",
       "       [ 8.79175568e+00,  5.26338673e+00],\n",
       "       [ 1.29005728e+01,  2.70109868e+00],\n",
       "       [ 1.02037277e+01,  4.58033180e+00],\n",
       "       [ 1.63301373e+01,  4.42578745e+00],\n",
       "       [ 1.16199265e+01,  5.51969814e+00],\n",
       "       [ 8.27128696e+00,  8.24173069e+00],\n",
       "       [-3.64538884e+00,  4.29241657e+00],\n",
       "       [ 8.19241619e+00,  4.83931494e+00],\n",
       "       [ 1.35079651e+01,  6.21329212e+00],\n",
       "       [ 1.03573160e+01,  4.49440765e+00],\n",
       "       [ 1.06367512e+01,  4.20295811e+00],\n",
       "       [ 1.15828056e+01,  2.81781054e+00],\n",
       "       [ 1.29419165e+01,  6.14166784e+00]], dtype=float32)"
      ]
     },
     "execution_count": 43,
     "metadata": {},
     "output_type": "execute_result"
    }
   ],
   "source": [
    "mapper.embedding_"
   ]
  },
  {
   "cell_type": "code",
   "execution_count": 51,
   "metadata": {},
   "outputs": [
    {
     "data": {
      "image/png": "[encoded data removed]",
      "text/plain": [
       "<Figure size 1152x864 with 1 Axes>"
      ]
     },
     "metadata": {
      "needs_background": "light"
     },
     "output_type": "display_data"
    }
   ],
   "source": [
    "plt.figure(figsize=(16,12))\n",
    "t3Num = testLabelArr.sum() #1:T3,0:T4\n",
    "t3s = plt.scatter(mapper.embedding_[:t3Num, 0], mapper.embedding_[:t3Num, 1], color='b')\n",
    "t4s = plt.scatter(mapper.embedding_[t3Num:, 0], mapper.embedding_[t3Num:, 1], color='r')\n",
    "tmpLine = plt.plot([6.5]*17,np.arange(-1,16),'--',color='black')\n",
    "plt.legend((t3s, t4s),\n",
    "           ('T3SE', 'T4SE'),\n",
    "           #           loc='lower left',\n",
    "           )\n",
    "plt.show()"
   ]
  },
  {
   "cell_type": "markdown",
   "metadata": {},
   "source": [
    "With the polt above, we can find that this time the two cluster could be roughly divided by <b>x=6.5</b>, thus in this example, we only set y=6 as the rule for detecting the outliers."
   ]
  },
  {
   "cell_type": "code",
   "execution_count": 52,
   "metadata": {},
   "outputs": [],
   "source": [
    "nameList = np.array(testDataLoaders[0].names+testDataLoaders[1].names)"
   ]
  },
  {
   "cell_type": "code",
   "execution_count": 53,
   "metadata": {},
   "outputs": [],
   "source": [
    "errList = []\n",
    "tmpIndex = (mapper.embedding_[:,0] < 6.5).astype(int) * (np.array(testLabelArr) == 0).astype(int)\n",
    "errList += list(nameList[np.arange(len(tmpIndex))[tmpIndex.astype(np.bool)]])\n",
    "tmpIndex = (mapper.embedding_[:,0] > 6.5).astype(int) * (np.array(testLabelArr) == 1).astype(int)\n",
    "errList += list(nameList[np.arange(len(tmpIndex))[tmpIndex.astype(np.bool)]])"
   ]
  },
  {
   "cell_type": "code",
   "execution_count": 54,
   "metadata": {},
   "outputs": [
    {
     "name": "stdout",
     "output_type": "stream",
     "text": [
      "['trainT4.txt_NP_066749.1', 'trainT4.txt_NP_819950.2', 'trainT4.txt_WP_011114402.1', 'trainT4.txt_WP_002966824.1', 'trainT4.txt_Q5ZUL7', 'trainT4.txt_WP_011114288.1', 'trainT4.txt_SS01719', 'trainT4.txt_WP_011450840.1', 'trainT4.txt_WP_012220099.1', 'trainT3.txt_Q2QHF9', 'trainT3.txt_Q9Z8X8']\n"
     ]
    }
   ],
   "source": [
    "print(errList)"
   ]
  },
  {
   "cell_type": "markdown",
   "metadata": {},
   "source": [
    "Sometimes we wold like to find out the IDs in the clusters, thus the operation below is available."
   ]
  },
  {
   "cell_type": "code",
   "execution_count": 58,
   "metadata": {},
   "outputs": [
    {
     "data": {
      "image/png": "[encoded data removed]",
      "text/plain": [
       "<Figure size 1152x864 with 1 Axes>"
      ]
     },
     "metadata": {
      "needs_background": "light"
     },
     "output_type": "display_data"
    }
   ],
   "source": [
    "plt.figure(figsize=(16,12))\n",
    "t3Num = testLabelArr.sum() #1:T3,0:T4\n",
    "t3s = plt.scatter(mapper.embedding_[:t3Num, 0], mapper.embedding_[:t3Num, 1], color='b')\n",
    "t4s = plt.scatter(mapper.embedding_[t3Num:, 0], mapper.embedding_[t3Num:, 1], color='r')\n",
    "tmpLine = plt.plot([6.5]*17,np.arange(-1,16),'--',color='black')\n",
    "tmpLine1 = plt.plot(np.arange(-5,6.6,0.5),[8]*24,'--',color='black')\n",
    "plt.legend((t3s, t4s),\n",
    "           ('T3SE', 'T4SE'),\n",
    "           #           loc='lower left',\n",
    "           )\n",
    "plt.show()"
   ]
  },
  {
   "cell_type": "code",
   "execution_count": 62,
   "metadata": {},
   "outputs": [
    {
     "name": "stdout",
     "output_type": "stream",
     "text": [
      "['trainT3.txt_Q156B7', 'trainT3.txt_Q9Z8G9', 'trainT3.txt_C0SPQ2', 'trainT3.txt_K2SG17', 'trainT3.txt_D4SSF7', 'trainT3.txt_O84144', 'trainT3.txt_Q89TX4', 'trainT3.txt_O84718', 'trainT3.txt_Q9Z780', 'trainT3.txt_Q52473', 'trainT3.txt_H6UWS2', 'trainT3.txt_WP_030419593.1', 'trainT3.txt_Q8ZNP4', 'trainT3.txt_Q663L9', 'trainT3.txt_D2TRA0', 'trainT3.txt_P33548', 'trainT3.txt_Q9Z8L3', 'trainT3.txt_EKJ11176.1', 'trainT3.txt_Q63K40', 'trainT3.txt_O84723', 'trainT3.txt_Q4G4D0', 'trainT3.txt_B7UMC8', 'trainT3.txt_Q01099', 'trainT3.txt_Q7NUX3', 'trainT3.txt_O84625', 'trainT3.txt_B0B9M4', 'trainT3.txt_C5IZN1', 'trainT3.txt_A9MG90', 'trainT3.txt_Q57KZ6', 'trainT3.txt_G9L9K6', 'trainT3.txt_Q9Z7E2', 'trainT3.txt_Q4ZYH0', 'trainT3.txt_A2S1Q3', 'trainT3.txt_P74851', 'trainT3.txt_Q3BRD8', 'trainT3.txt_O84085', 'trainT3.txt_D0ZPH9', 'trainT3.txt_Q8XYE3', 'trainT3.txt_Q9Z8P7', 'trainT3.txt_C0SPQ1', 'trainT3.txt_D0ZI38', 'trainT3.txt_F2ZUJ4', 'trainT3.txt_Q9AN16', 'trainT3.txt_Q89N83', 'trainT3.txt_Q881L7', 'trainT3.txt_S6WSJ7', 'trainT3.txt_O85345', 'trainT3.txt_Q57P56', 'trainT3.txt_CAA80362.1', 'trainT3.txt_P40699', 'trainT3.txt_H9L477', 'trainT3.txt_CAP03784.1', 'trainT3.txt_Q9RBS2', 'trainT3.txt_O84855', 'trainT3.txt_P40296', 'trainT3.txt_Q9L6W3', 'trainT3.txt_Q2T711', 'trainT3.txt_K0GGG6', 'trainT3.txt_Q7P1B7', 'trainT3.txt_Q63K50', 'trainT3.txt_B9A810', 'trainT3.txt_WP_010875097.1', 'trainT3.txt_P0CZ04', 'trainT3.txt_C0SPP7', 'trainT3.txt_Q9REZ7', 'trainT3.txt_Q989M4', 'trainT3.txt_O84056', 'trainT3.txt_Q79UN8', 'trainT3.txt_Q4ZXP9', 'trainT3.txt_Q889A9', 'trainT3.txt_D2TKG4', 'trainT3.txt_P33546', 'trainT3.txt_A9ZNF2', 'trainT3.txt_O84163', 'trainT3.txt_B2TSV7', 'trainT3.txt_WP_010883763.1', 'trainT3.txt_P27474', 'trainT3.txt_Q87W46', 'trainT3.txt_E7PP21', 'trainT3.txt_O30916', 'trainT3.txt_P28764', 'trainT3.txt_Q9Z7K3', 'trainT3.txt_Q8ZMY7', 'trainT3.txt_Q8ZMY7', 'trainT3.txt_O84743', 'trainT3.txt_O30783', 'trainT3.txt_Q7WRZ5', 'trainT3.txt_Q8ZMI3', 'trainT3.txt_D2TT38', 'trainT3.txt_D2TKG5', 'trainT3.txt_F3IP82', 'trainT3.txt_Q8ZN18', 'trainT3.txt_H9L486', 'trainT3.txt_Q8XQE6', 'trainT3.txt_Q9Z7J8', 'trainT3.txt_Q3BW96', 'trainT3.txt_B4SX34', 'trainT3.txt_P0AE20', 'trainT3.txt_CBH40896.1', 'trainT3.txt_Q08678', 'trainT3.txt_B0B9M3', 'trainT3.txt_Q326N4', 'trainT3.txt_Q989R4', 'trainT3.txt_D2AJ70', 'trainT4.txt_NP_066749.1', 'trainT4.txt_NP_819950.2', 'trainT4.txt_WP_011114402.1', 'trainT4.txt_WP_002966824.1', 'trainT4.txt_Q5ZUL7', 'trainT4.txt_WP_011114288.1', 'trainT4.txt_SS01719', 'trainT4.txt_WP_011450840.1']\n"
     ]
    }
   ],
   "source": [
    "clusterLeftUp = []\n",
    "tmpIndex = (mapper.embedding_[:,0] < 6.5).astype(int) * (mapper.embedding_[:,1] > 8).astype(int)\n",
    "clusterLeftUp = list(nameList[np.arange(len(tmpIndex))[tmpIndex.astype(np.bool)]])\n",
    "print(clusterLeftUp)"
   ]
  },
  {
   "cell_type": "code",
   "execution_count": 64,
   "metadata": {},
   "outputs": [
    {
     "name": "stdout",
     "output_type": "stream",
     "text": [
      "['trainT3.txt_O84378', 'trainT3.txt_B5R8S6', 'trainT3.txt_D0ZXR5', 'trainT3.txt_O84290', 'trainT3.txt_O84226', 'trainT3.txt_F3IJ53', 'trainT3.txt_A2S1Q7', 'trainT3.txt_Q52430', 'trainT3.txt_Q4ZX82', 'trainT3.txt_A1KWP8', 'trainT3.txt_WP_009873285.1', 'trainT3.txt_Q9Z8Z8', 'trainT3.txt_Q84CS5', 'trainT3.txt_Q9FCY7', 'trainT3.txt_Q9I788', 'trainT3.txt_D4HWL8', 'trainT3.txt_CAA12191.1', 'trainT3.txt_A4PDT6', 'trainT3.txt_F2ZE69', 'trainT3.txt_Q46210', 'trainT3.txt_C0SPQ0', 'trainT3.txt_O84700', 'trainT3.txt_Q4ZX47', 'trainT3.txt_D4SZP4', 'trainT3.txt_Q58I88', 'trainT3.txt_O84648', 'trainT3.txt_F3E4M8', 'trainT3.txt_D2TZ32', 'trainT3.txt_Q3YTN8', 'trainT3.txt_A1JQ83', 'trainT3.txt_Q989P8', 'trainT3.txt_O87327', 'trainT3.txt_O69196', 'trainT3.txt_S6JQB0', 'trainT3.txt_S3MY93', 'trainT3.txt_Q3BSU7', 'trainT3.txt_O34208', 'trainT3.txt_Q8XTK9', 'trainT3.txt_P0A1K5', 'trainT3.txt_Q04640', 'trainT3.txt_Q56019', 'trainT3.txt_D2TK72', 'trainT3.txt_Q87W42', 'trainT3.txt_B7UNX4', 'trainT3.txt_Q824H6', 'trainT3.txt_Q8ZQC8', 'trainT3.txt_D2TTX7', 'trainT3.txt_Q8RP17', 'trainT3.txt_Q886L1', 'trainT3.txt_Q9Z7W9', 'trainT3.txt_D8P4R3', 'trainT3.txt_F3ICX9', 'trainT3.txt_K2TQ10', 'trainT3.txt_D4HWC7', 'trainT3.txt_D2TI15', 'trainT3.txt_Q87P35', 'trainT3.txt_O84856', 'trainT3.txt_P68590', 'trainT3.txt_Q888Y1', 'trainT3.txt_D2AJU3', 'trainT3.txt_D4SUA6', 'trainT3.txt_Q6R8C3', 'trainT3.txt_D0ZDK9', 'trainT3.txt_D2TML3', 'trainT3.txt_P55724', 'trainT3.txt_A0FKE5', 'trainT3.txt_A2S1Q1', 'trainT3.txt_Q3BY60', 'trainT3.txt_Q9RBS0', 'trainT3.txt_Q6LAD6', 'trainT3.txt_Q9R803', 'trainT3.txt_Q5EN61', 'trainT3.txt_B7UMR0', 'trainT3.txt_P0CL47', 'trainT3.txt_O33680', 'trainT3.txt_O84462', 'trainT3.txt_B7UR62', 'trainT3.txt_Q87X57', 'trainT3.txt_Q52481', 'trainT3.txt_C8TNS7', 'trainT3.txt_P18013', 'trainT3.txt_Q9JP32', 'trainT3.txt_D2TZV2', 'trainT3.txt_Q882F0', 'trainT3.txt_Q9Z861', 'trainT3.txt_Q3BYL8', 'trainT3.txt_O84623', 'trainT3.txt_K2RW35', 'trainT3.txt_Q63K38', 'trainT3.txt_D2AJI2', 'trainT3.txt_Q87GF9', 'trainT3.txt_Q9Z8P6', 'trainT3.txt_D2TZ34', 'trainT3.txt_C4PL71', 'trainT3.txt_O85666', 'trainT3.txt_A9MJD1', 'trainT3.txt_D2AJ54', 'trainT3.txt_Q9Z7Q6', 'trainT3.txt_O84883', 'trainT3.txt_A2I8A1', 'trainT3.txt_O84436', 'trainT3.txt_Q88AB8', 'trainT3.txt_Q8Y125', 'trainT3.txt_Q7VWI4', 'trainT3.txt_P37131', 'trainT4.txt_WP_012220099.1']\n"
     ]
    }
   ],
   "source": [
    "clusterLeftDown = []\n",
    "tmpIndex = (mapper.embedding_[:,0] < 6.5).astype(int) * (mapper.embedding_[:,1] < 8).astype(int)\n",
    "clusterLeftDown = list(nameList[np.arange(len(tmpIndex))[tmpIndex.astype(np.bool)]])\n",
    "print(clusterLeftDown)"
   ]
  },
  {
   "cell_type": "code",
   "execution_count": 65,
   "metadata": {},
   "outputs": [
    {
     "name": "stdout",
     "output_type": "stream",
     "text": [
      "['trainT3.txt_Q2QHF9', 'trainT3.txt_Q9Z8X8', 'trainT4.txt_NP_819902.2', 'trainT4.txt_NP_820552.1', 'trainT4.txt_NP_820526.1', 'trainT4.txt_Q5ZYT6', 'trainT4.txt_WP_010948417.1', 'trainT4.txt_SS01923', 'trainT4.txt_Q5ZUX5', 'trainT4.txt_Q5ZXN6', 'trainT4.txt_Q5ZU59', 'trainT4.txt_Q5ZYH0', 'trainT4.txt_Q5ZSD5', 'trainT4.txt_AFK10355.1', 'trainT4.txt_Q5ZSK8', 'trainT4.txt_WP_010947682.1', 'trainT4.txt_WP_011996917.1', 'trainT4.txt_Q5ZR83', 'trainT4.txt_NP_821027.2', 'trainT4.txt_Q5ZXD5', 'trainT4.txt_P37033', 'trainT4.txt_Q5ZYD6', 'trainT4.txt_Q5ZYG7', 'trainT4.txt_Q5ZUV5', 'trainT4.txt_Q5ZVF1', 'trainT4.txt_WP_010945807.1', 'trainT4.txt_Q5ZRJ3', 'trainT4.txt_Q5ZVE4', 'trainT4.txt_Q5ZSU4', 'trainT4.txt_SS01525', 'trainT4.txt_Q5ZXT9', 'trainT4.txt_Q5ZZ40', 'trainT4.txt_Q5ZUV7', 'trainT4.txt_NP_819448.1', 'trainT4.txt_WP_012220016.1', 'trainT4.txt_Q5ZUX9', 'trainT4.txt_Q5ZYK7', 'trainT4.txt_Q5ZZ16', 'trainT4.txt_Q5ZYR7', 'trainT4.txt_Q5ZWZ3', 'trainT4.txt_Q5ZU83', 'trainT4.txt_NP_819814.1', 'trainT4.txt_Q5ZY89', 'trainT4.txt_Q5ZTK1', 'trainT4.txt_WP_010948394.1', 'trainT4.txt_Q5ZSC8', 'trainT4.txt_Q5ZUV0', 'trainT4.txt_NP_821048.1', 'trainT4.txt_Q5ZRX6', 'trainT4.txt_NP_819221.1', 'trainT4.txt_NP_820731.1', 'trainT4.txt_Q5ZYS7', 'trainT4.txt_Q5ZUY1', 'trainT4.txt_SS01911', 'trainT4.txt_Q5ZTB4', 'trainT4.txt_Q5ZYG9', 'trainT4.txt_WP_012220000.1', 'trainT4.txt_Q5ZWF6', 'trainT4.txt_Q5ZUV8', 'trainT4.txt_Q5ZZ76', 'trainT4.txt_WP_010947674.1', 'trainT4.txt_NP_820802.1', 'trainT4.txt_WP_010947933.1', 'trainT4.txt_WP_005771199.1', 'trainT4.txt_NP_819656.1', 'trainT4.txt_NP_820618.1', 'trainT4.txt_Q5ZVT4', 'trainT4.txt_Q5ZR84', 'trainT4.txt_WP_012220080.1', 'trainT4.txt_Q5ZWA2', 'trainT4.txt_Q5ZTD9', 'trainT4.txt_Q5ZSU1', 'trainT4.txt_Q5ZY53', 'trainT4.txt_NP_820539.1', 'trainT4.txt_WP_010931651.1', 'trainT4.txt_Q5ZXJ8', 'trainT4.txt_Q5ZZI0', 'trainT4.txt_WP_012219989.1', 'trainT4.txt_SS01722', 'trainT4.txt_NP_820212.1', 'trainT4.txt_Q5ZUB9', 'trainT4.txt_Q5ZT43', 'trainT4.txt_WP_005771948.1', 'trainT4.txt_NP_819484.1', 'trainT4.txt_Q5ZVT5', 'trainT4.txt_NP_819338.1', 'trainT4.txt_WP_011181145.1', 'trainT4.txt_NP_820749.1', 'trainT4.txt_Q5ZRQ4', 'trainT4.txt_Q5ZZ03', 'trainT4.txt_WP_011109645.1', 'trainT4.txt_Q5ZTL2', 'trainT4.txt_WP_012220693.1', 'trainT4.txt_Q5ZTL7', 'trainT4.txt_Q5ZTG3', 'trainT4.txt_Q5ZRK2', 'trainT4.txt_Q5ZSH6', 'trainT4.txt_WP_010945931.1', 'trainT4.txt_NP_819665.1', 'trainT4.txt_WP_010974921.1', 'trainT4.txt_Q5ZSG2', 'trainT4.txt_Q5ZUX2', 'trainT4.txt_Q29ST3', 'trainT4.txt_Q5ZRT5', 'trainT4.txt_NP_820668.1', 'trainT4.txt_NP_820668.1', 'trainT4.txt_YP_002332980.1', 'trainT4.txt_Q5ZUV9', 'trainT4.txt_Q5ZUB7', 'trainT4.txt_Q5ZU46', 'trainT4.txt_Q5ZV52', 'trainT4.txt_SS01693', 'trainT4.txt_WP_005769508.1', 'trainT4.txt_Q5ZUE7', 'trainT4.txt_Q5ZWE0', 'trainT4.txt_WP_005772222.1', 'trainT4.txt_Q5ZWH7', 'trainT4.txt_NP_819427.1', 'trainT4.txt_NP_819096.1', 'trainT4.txt_Q5ZS27', 'trainT4.txt_Q5ZZH2', 'trainT4.txt_SS01681', 'trainT4.txt_Q5ZSM7', 'trainT4.txt_Q5ZSR1', 'trainT4.txt_Q5ZUG2', 'trainT4.txt_WP_011181142.1', 'trainT4.txt_Q5ZWI4', 'trainT4.txt_Q5ZT14', 'trainT4.txt_Q5ZX07', 'trainT4.txt_Q5ZU30', 'trainT4.txt_NP_819070.1', 'trainT4.txt_SS01956', 'trainT4.txt_NP_820443.1', 'trainT4.txt_Q5ZVF7', 'trainT4.txt_Q5ZUK0', 'trainT4.txt_Q5ZUK1', 'trainT4.txt_Q5ZUS5', 'trainT4.txt_WP_010974922.1', 'trainT4.txt_WP_002966455.1', 'trainT4.txt_WP_002964382.1', 'trainT4.txt_NP_820305.1', 'trainT4.txt_Q5ZSU6', 'trainT4.txt_Q5ZZK2', 'trainT4.txt_Q5ZTK6', 'trainT4.txt_Q5ZSZ1', 'trainT4.txt_NP_819802.1', 'trainT4.txt_Q5ZWH4', 'trainT4.txt_Q5ZWB9', 'trainT4.txt_NP_819463.1', 'trainT4.txt_Q5ZV62', 'trainT4.txt_Q5ZWW6', 'trainT4.txt_WP_010947885.1', 'trainT4.txt_WP_010957471.1', 'trainT4.txt_Q5ZRQ0', 'trainT4.txt_Q5ZYH1', 'trainT4.txt_Q5ZVF2', 'trainT4.txt_WP_010945988.1', 'trainT4.txt_Q5ZU75', 'trainT4.txt_Q5ZU61', 'trainT4.txt_WP_010945803.1', 'trainT4.txt_Q5ZZA4', 'trainT4.txt_YP_001961089.1', 'trainT4.txt_NP_059824.1', 'trainT4.txt_Q5ZSL2', 'trainT4.txt_Q5ZTC3', 'trainT4.txt_Q5ZZC1', 'trainT4.txt_Q5ZWB4', 'trainT4.txt_Q5ZWH9', 'trainT4.txt_Q5ZT21', 'trainT4.txt_Q5ZU48', 'trainT4.txt_Q5ZX35', 'trainT4.txt_Q5ZRQ1', 'trainT4.txt_Q5ZRX7', 'trainT4.txt_WP_011181138.1', 'trainT4.txt_Q5ZSW0', 'trainT4.txt_Q5ZV89', 'trainT4.txt_NP_819821.1', 'trainT4.txt_Q5ZU36', 'trainT4.txt_Q5ZXW0', 'trainT4.txt_WP_010946018.1', 'trainT4.txt_Q5ZVX6', 'trainT4.txt_Q5ZRS4', 'trainT4.txt_WP_010948419.1', 'trainT4.txt_Q5ZZ01', 'trainT4.txt_Q5ZZ20', 'trainT4.txt_Q5ZV42', 'trainT4.txt_Q5ZZ71', 'trainT4.txt_Q5ZWE1', 'trainT4.txt_Q5ZYS6', 'trainT4.txt_Q5ZYJ6', 'trainT4.txt_Q5ZSL9', 'trainT4.txt_WP_011181144.1', 'trainT4.txt_Q5ZW60', 'trainT4.txt_WP_012220629.1', 'trainT4.txt_WP_011997383.1', 'trainT4.txt_Q5ZZD1', 'trainT4.txt_Q5ZUX6', 'trainT4.txt_WP_010948500.1', 'trainT4.txt_Q5ZRK7', 'trainT4.txt_Q5ZUH6', 'trainT4.txt_YP_002333001.1', 'trainT4.txt_Q5ZSJ2', 'trainT4.txt_Q5ZV21', 'trainT4.txt_Q5ZZF1', 'trainT4.txt_Q5ZWE8', 'trainT4.txt_Q5ZT79', 'trainT4.txt_Q5ZYT5', 'trainT4.txt_Q5ZSE2', 'trainT4.txt_Q5ZRQ2', 'trainT4.txt_Q5ZUJ5', 'trainT4.txt_Q5ZWG1', 'trainT4.txt_Q5ZV03', 'trainT4.txt_Q5ZY54', 'trainT4.txt_Q5ZU45', 'trainT4.txt_WP_010946453.1', 'trainT4.txt_Q5ZSK6', 'trainT4.txt_Q5ZZI9', 'trainT4.txt_Q5ZRH5', 'trainT4.txt_Q5ZZ30', 'trainT4.txt_Q5ZZ85', 'trainT4.txt_Q5ZX12', 'trainT4.txt_WP_011996490.1', 'trainT4.txt_Q5ZSR5', 'trainT4.txt_Q5ZVX2', 'trainT4.txt_Q5ZSI8', 'trainT4.txt_Q5ZT91', 'trainT4.txt_WP_010931648.1', 'trainT4.txt_Q5ZYD5', 'trainT4.txt_Q5ZU44', 'trainT4.txt_Q5ZVZ8', 'trainT4.txt_Q5ZVI7', 'trainT4.txt_Q5ZYI2', 'trainT4.txt_Q5ZWD1', 'trainT4.txt_WP_002963813.1', 'trainT4.txt_Q5ZUY2', 'trainT4.txt_WP_011114156.1', 'trainT4.txt_WP_010948288.1', 'trainT4.txt_Q5ZSL3', 'trainT4.txt_Q5ZRS6', 'trainT4.txt_Q5ZSU2', 'trainT4.txt_Q5ZZB5', 'trainT4.txt_Q5ZUP1', 'trainT4.txt_Q5ZZ51', 'trainT4.txt_Q5ZTJ7', 'trainT4.txt_Q5ZSV5', 'trainT4.txt_Q5ZST2', 'trainT4.txt_Q5ZSB6', 'trainT4.txt_Q5ZXU7', 'trainT4.txt_Q5ZYD3', 'trainT4.txt_NP_862934.1', 'trainT4.txt_Q5ZTJ5', 'trainT4.txt_Q5ZU60', 'trainT4.txt_WP_011216046.1', 'trainT4.txt_Q5ZZG4', 'trainT4.txt_Q5ZWW7', 'trainT4.txt_WP_012220155.1']\n"
     ]
    }
   ],
   "source": [
    "clusterRight = []\n",
    "tmpIndex = (mapper.embedding_[:,0] > 6.5).astype(int) \n",
    "clusterRight = list(nameList[np.arange(len(tmpIndex))[tmpIndex.astype(np.bool)]])\n",
    "print(clusterRight)"
   ]
  },
  {
   "cell_type": "markdown",
   "metadata": {},
   "source": [
    "That's all the informations for plotting the layer by using their outputs and UMAP. If you still have more issues, please fell free to connect us at ljs@swmu.edu.cn, thanks."
   ]
  }
 ],
 "metadata": {
  "kernelspec": {
   "display_name": "Python 3",
   "language": "python",
   "name": "python3"
  },
  "language_info": {
   "codemirror_mode": {
    "name": "ipython",
    "version": 3
   },
   "file_extension": ".py",
   "mimetype": "text/x-python",
   "name": "python",
   "nbconvert_exporter": "python",
   "pygments_lexer": "ipython3",
   "version": "3.7.6"
  }
 },
 "nbformat": 4,
 "nbformat_minor": 4
}
