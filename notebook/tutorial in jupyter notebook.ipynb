{
 "cells": [
  {
   "cell_type": "markdown",
   "metadata": {},
   "source": [
    "<h1>Tutorial for using autoBioSeqpy as modules in script</h1>\n",
    "\n",
    "Using the <b>autoBioSeqpy</b> via command line is a good way for data modeling, but usually users would like to use <b>autoBioSeqpy</b> for something more, such as converting the FASTA data into matrix or combine the modeling to another workflow. \n",
    "\n",
    "This notebook provided the usage for using <b>autoBioSeqpy</b> as a library which could be imported normally. Moreover, few alternatives provided for some special case. We hope this tutorial could help user for understanding this tool deeply.\n"
   ]
  },
  {
   "cell_type": "markdown",
   "metadata": {},
   "source": [
    "This notebook is available in jupyter notebook (editing and running is possible), but if you didn't install jupyter notebook, two copies in PDF and HTML version are available as well (read only)."
   ]
  },
  {
   "cell_type": "markdown",
   "metadata": {},
   "source": [
    "<h2>1. First step: Initializing</h2>\n",
    "\n",
    "As the first step, initializing is necessary for <b>autoBioSeqpy</b> by setting the <b>search path</b>.\n",
    "\n",
    "The method‘import’ in python is a normal way for using a module in a default search path, but this time <b>autoBioSeqpy</b> didn't provide a way for ‘install’ and thus the search path is necessary for providing.\n",
    "\n",
    "If <b>autoBioSeqpy</b> is already in your search path, you can import it directly."
   ]
  },
  {
   "cell_type": "markdown",
   "metadata": {},
   "source": [
    "<h3>1.1 Initializing the search path</h3>\n",
    "\n",
    "There are several ways for importing the self-made modules/libraries. Considering that user might have different environment, please change the variable ‘libPath’ into the path where the tool located.\n",
    "\n",
    "An alternative is provided, and available if uncomment it."
   ]
  },
  {
   "cell_type": "code",
   "execution_count": 1,
   "metadata": {},
   "outputs": [],
   "source": [
    "import os, sys\n",
    "libPath = '../' #please change it into your search path if necessary\n",
    "sys.path.append(libPath)\n",
    "#alternative\n",
    "#os.chdir(libPath)"
   ]
  },
  {
   "cell_type": "code",
   "execution_count": 2,
   "metadata": {},
   "outputs": [],
   "source": [
    "import numpy as np #for some analysis"
   ]
  },
  {
   "cell_type": "markdown",
   "metadata": {},
   "source": [
    "<h2>2. Data processing</h2>\n",
    "Usually, users will write a script to converting the FASTA into matrix, here <b>autoBioSeqpy</b> provided few ways for the matrix creation."
   ]
  },
  {
   "cell_type": "markdown",
   "metadata": {},
   "source": [
    "<h3>2.1 import the related library</h3>\n",
    "\n",
    "Library 'dataProcess' is provided for matrix creation form FASTA data. The necessary function such as suffle the samples and spliting the dataset into pieces (for cross validation) are provided as well.\n",
    "\n",
    "Since the location is added into the search path in section <a href=\"#1.1-Initializing-the-search-path\">1.1</a>, here we only need to import it as a module."
   ]
  },
  {
   "cell_type": "code",
   "execution_count": 3,
   "metadata": {},
   "outputs": [],
   "source": [
    "import dataProcess"
   ]
  },
  {
   "cell_type": "markdown",
   "metadata": {},
   "source": [
    "<h3>2.2 Usage of module dataProcess</h3>\n",
    "\n",
    "To load a dataset, first we need to instantiate an object and then using loading.\n",
    "\n",
    "When intorducing it, some <b>cases</b> and <b>parameters</b> will be explained as well."
   ]
  },
  {
   "cell_type": "markdown",
   "metadata": {},
   "source": [
    "<h4>2.2.1 A detailed description for training data</h4>"
   ]
  },
  {
   "cell_type": "markdown",
   "metadata": {},
   "source": [
    "<h5>dataType</h5>\n",
    "\n",
    "Since Protein, DNA and RNA have their FASTA, we have to decide the type of this data. In our standalone script, '<b>dataType'</b> is a parameter, but here we don't have to determine it as a parameter directly."
   ]
  },
  {
   "cell_type": "markdown",
   "metadata": {},
   "source": [
    "<h5>dataEncodingType</h5>\n",
    "\n",
    "This is a parameter for set the way to encoding the FASTA into matrix. Currently there are two encoding types available: 'onehot' and 'dict'.\n",
    "If 'dict' choosed, a character (e.g. A/G/C/T for DNA) is represented as a number (such as A:1 T:2 C:3 T:4).\n",
    "\n",
    "Alternetivly, if choose 'onehot',a character will be represented as an array (such as A:[1,0,0,0] G:[0,1,0,0] C:[0,0,1,0] T[0,0,0,1]). \n",
    "\n",
    "In this example, only 'dict' is used since it is better for displaying."
   ]
  },
  {
   "cell_type": "code",
   "execution_count": 4,
   "metadata": {},
   "outputs": [],
   "source": [
    "dataEncodingType = 'dict'"
   ]
  },
  {
   "cell_type": "markdown",
   "metadata": {},
   "source": [
    "<h5>useKMer and KMerNum</h5>\n",
    "\n",
    "Usually we would like to consider taking not only one FASTA residue for encoding, but also its neighbors. The parameter '<b>useKMer</b>' is an implementation for the environment encoding.\n",
    "\n",
    "For example, if a sequence is ATTACT, and '<b>KMerNum</b>' is 3, then the first A will be considered as 'ATT'. \n",
    "\n",
    "Note that the shape of dataset will be expanded accordingly (see the manual for more details). And usually the 'useKMer' is used when 'dataEncodingType' set as 'oneHot'. And thus in this notebook, we don't use KMer since the encoding type is 'dict'.\n",
    "\n",
    "If you are interesting for the KMer, please change the 'dataEncodingType' as 'onehot' and turn on the '<b>useKMer</b>' by set it into True."
   ]
  },
  {
   "cell_type": "code",
   "execution_count": 5,
   "metadata": {},
   "outputs": [],
   "source": [
    "useKMer = False\n",
    "KMerNum = 3 #If useKMer is False, the KMerNum is inactive, and thus it doesn't matter how much the value is."
   ]
  },
  {
   "cell_type": "markdown",
   "metadata": {},
   "source": [
    "<h4>2.2.1.1 featureGenerator: the encoder</h4>\n",
    "\n",
    "Now we can initialize a <b>featureGenerator</b>. A <b>featureGenerator</b> is a class for encoding the FASTA sequence.\n",
    "\n",
    "There are three featureGenerator available: <b>ProteinFeatureGenerator</b>, <b>DNAFeatureGenerator</b> and <b>RNAFeatureGenerator</b>, you could use one of them according to the datatype. \n",
    "\n",
    "In this notebook, protein data is used, thus we use <b>ProteinFeatureGenerator</b> as the <b>featureGenerator</b>.\n"
   ]
  },
  {
   "cell_type": "code",
   "execution_count": 6,
   "metadata": {},
   "outputs": [],
   "source": [
    "featureGenerator = dataProcess.ProteinFeatureGenerator(dataEncodingType, useKMer=useKMer, KMerNum=KMerNum)\n",
    "#featureGenerator = dataProcess.DNAFeatureGenerator(dataEncodingType, useKMer=useKMer, KMerNum=KMerNum) #alternative for DNA data\n",
    "#featureGenerator = dataProcess.RNAFeatureGenerator(dataEncodingType, useKMer=useKMer, KMerNum=KMerNum) #alternative for RNA data"
   ]
  },
  {
   "cell_type": "markdown",
   "metadata": {},
   "source": [
    "<h4>2.2.1.2 File format and class DataLoader</h4>\n",
    "\n",
    "With the encoder, now it's possible to read the FASTA data and encode them into matrix.\n",
    "\n",
    "<b>autoBioSeqpy</b> provided a class ‘<b>DataLoader</b>’ for handle all the file reading things.  So here we need to introduce the format of the FASTA file.\n"
   ]
  },
  {
   "cell_type": "markdown",
   "metadata": {},
   "source": [
    "<h5>File format</h5>\n",
    "The so called ‘<b>file format</b>’ is the normal FASTA format. That is, a sequence is started by ‘> name&information’ and then few lines of FASTA characters followed. There is no limitation of the number of characters in a line, you can try few lines with not more than 60 characters or only 1 line with all characters. For example, the both formats are supported and can even mixed in one file:<br><br>\n",
    ">case1 only 1 line <br>\n",
    "XXXXXXXXXXXXXXXXXXXXXXXXXXXXXXXXXXXXXXXXXXXXXXXXXX...<br><br>\n",
    ">case2 few lines<br>\n",
    "XXXXXXXXXXXXXXXXXXXXXXXXXXXXXXXXXX<br>\n",
    "XXXXXXXXXXXXXXXXXXXXXXXXXXXXXXXXXX<br>\n",
    "...<br>\n",
    "XXXXXXXXXXXXXX<br>\n",
    "\n"
   ]
  },
  {
   "cell_type": "markdown",
   "metadata": {},
   "source": [
    "<h5>label</h5>\n",
    "\n",
    "The only thing should be concerned is the <b>label</b> of a file. Usually there are two (e.g. 1/-1 or 1/0) or more (e.g. case1, case2, case3, …) labels for a dataset, but the class DataLoader can handle one dataset with <b>the same label</b>, which means if a data has 3 labels, at least 3 files is necessary for reading.\n",
    "\n",
    "In this notebook, the provided data is a binary classification, and therefore only two labels, <b>1 for positive samples and 0 negative samples</b>, are used.\n"
   ]
  },
  {
   "cell_type": "markdown",
   "metadata": {},
   "source": [
    "<h5>spcLen</h5>\n",
    "\n",
    "Here is another problem: usually the length is not the same for different sequences. \n",
    "\n",
    "To address it, the '<b>spcLen</b>' is provided. If the length of an input sequence is larger than the '<b>spcLen</b>', the exceed part will be ignored, and if the length is less than '<b>spcLen</b>', zeros (or zero arrays) will be added to make the length up to <b>spcLen</b>.\n"
   ]
  },
  {
   "cell_type": "code",
   "execution_count": 7,
   "metadata": {},
   "outputs": [],
   "source": [
    "spcLen = 100"
   ]
  },
  {
   "cell_type": "markdown",
   "metadata": {},
   "source": [
    "<h5>DataLoader</h5>\n",
    "\n",
    "The class ‘<b>DataLoader</b>’ is a class for loading a file, thus usually we need at least two <b>DataLoader</b> for different label.\n",
    "\n",
    "In this notebook, two files, 'train_pos.txt' and 'train_neg.txt', provided for training dataset, which can be found in 'data' folder. The labels are '1' and '0' respectively.\n",
    "\n"
   ]
  },
  {
   "cell_type": "code",
   "execution_count": 8,
   "metadata": {},
   "outputs": [],
   "source": [
    "#the paths\n",
    "dataTrainFilePaths = ['../data/protein/train/train_pos.txt','../data/protein/train/train_neg.txt']\n",
    "#the related labels\n",
    "dataTrainLabel = [1, 0]\n",
    "#a list for recording the DataLoader\n",
    "trainDataLoaders = []\n",
    "for i,dataPath in enumerate(dataTrainFilePaths):\n",
    "    #init\n",
    "    dataLoader = dataProcess.DataLoader(label = dataTrainLabel[i], featureGenerator=featureGenerator)\n",
    "    #file read\n",
    "    dataLoader.readFile(dataPath, spcLen = spcLen)\n",
    "    trainDataLoaders.append(dataLoader)"
   ]
  },
  {
   "cell_type": "markdown",
   "metadata": {},
   "source": [
    "<h4>2.2.1.3 DataSetCreator: merge different dataLoader</h4>\n",
    "\n",
    "After FASTA loading and encoding, now we can generate the matrix by merging the dataLoaders. The class ‘<b>DataSetCreator</b>’ is provided for the matrix merging and the necessary functions, such as sample shuffle and dataset split, are provided.\n",
    "\n",
    "<b>NOTE</b>: Since the DataSetCreator is able to merge different DataLoader no matter whether the label is the same or not, thus if you have multiple files with the same label, you don’t have to merge them by hand, just merger them here."
   ]
  },
  {
   "cell_type": "code",
   "execution_count": 9,
   "metadata": {},
   "outputs": [],
   "source": [
    "#init\n",
    "trainDataSetCreator = dataProcess.DataSetCreator(trainDataLoaders)"
   ]
  },
  {
   "cell_type": "markdown",
   "metadata": {},
   "source": [
    "Then we can generate the matrix by using the method 'DataSetCreator' if the test dataset is in other files. \n",
    "\n",
    "The parameter '<b>toSuffle</b>' is a switch to s"
   ]
  },
  {
   "cell_type": "code",
   "execution_count": 10,
   "metadata": {},
   "outputs": [],
   "source": [
    "#get dataset\n",
    "trainDataMat, trainLabelArr = trainDataSetCreator.getDataSet(toShuffle=True)"
   ]
  },
  {
   "cell_type": "markdown",
   "metadata": {},
   "source": [
    "We can have a look of the matrix and labels, all of them are numpy array."
   ]
  },
  {
   "cell_type": "code",
   "execution_count": 11,
   "metadata": {},
   "outputs": [
    {
     "name": "stdout",
     "output_type": "stream",
     "text": [
      "Matrix with shape 1234 x 100:\n",
      "[[13 10 16 ...  5 16  1]\n",
      " [13 10 12 ... 17  3 17]\n",
      " [13 18 18 ... 17  3  3]\n",
      " ...\n",
      " [13  4  8 ...  4 17 16]\n",
      " [13  2  8 ... 16  1 12]\n",
      " [13 10 17 ...  6  4  7]]\n",
      "\n",
      "\n",
      "The labels with length 1234:\n",
      "[1 1 1 ... 0 0 0]\n"
     ]
    }
   ],
   "source": [
    "print('Matrix with shape %d x %d:' %(trainDataMat.shape[0],trainDataMat.shape[1]))\n",
    "print(trainDataMat)\n",
    "print('\\n')\n",
    "print('The labels with length %d:' %(len(trainLabelArr)))\n",
    "print(trainLabelArr)"
   ]
  },
  {
   "cell_type": "markdown",
   "metadata": {},
   "source": [
    "Now with the use of featureGenerator, DataLoader and DataSetCreator, the dataset is generated. "
   ]
  },
  {
   "cell_type": "markdown",
   "metadata": {},
   "source": [
    "<h4>2.2.2 The same process for test data</h4>\n",
    "\n",
    "There are two way for generating the test data set: 1) from FASTA file or 2) from a built dataset."
   ]
  },
  {
   "cell_type": "markdown",
   "metadata": {},
   "source": [
    "<h5> 2.2.2.1 generate test dataset from other FASTA files</h5>\n",
    "\n",
    "Sometimes the test data if from another bath/experiment, in this case, just generate the test dataset in the same way when generating the training set.\n",
    "\n",
    "For example, in this notebook, we can load provided test data in folder ‘data/protein/test’.\n",
    "\n",
    "<b>NOTE</b>: <br>\n",
    "You can skip this subsection if you want to generate them by splitting.<br>\n",
    "The parameter <b>spcLen</b> and object <b>featureGenerator</b> should be the same.<br>\n",
    "And when generating the matrix, usually we don't have to shuffle the sample since it will not be used in training."
   ]
  },
  {
   "cell_type": "code",
   "execution_count": 12,
   "metadata": {},
   "outputs": [],
   "source": [
    "#the paths\n",
    "dataTestFilePaths = ['../data/protein/test/test_pos.txt','../data/protein/test/test_neg.txt']\n",
    "#the related labels\n",
    "dataTestLabel = [1, 0]\n",
    "#a list for recording the DataLoader\n",
    "testDataLoaders = []\n",
    "for i,dataPath in enumerate(dataTestFilePaths):\n",
    "    #init\n",
    "    dataLoader = dataProcess.DataLoader(label = dataTestLabel[i], featureGenerator=featureGenerator)\n",
    "    #file read\n",
    "    dataLoader.readFile(dataPath, spcLen = spcLen)\n",
    "    testDataLoaders.append(dataLoader)\n",
    "    \n",
    "testDataSetCreator = dataProcess.DataSetCreator(testDataLoaders)\n",
    "testDataMat, testLabelArr = testDataSetCreator.getDataSet(toShuffle=False)"
   ]
  },
  {
   "cell_type": "markdown",
   "metadata": {},
   "source": [
    "We can have a look as well"
   ]
  },
  {
   "cell_type": "code",
   "execution_count": 13,
   "metadata": {},
   "outputs": [
    {
     "name": "stdout",
     "output_type": "stream",
     "text": [
      "Matrix with shape 308 x 100:\n",
      "[[13 17 12 ... 12  6  7]\n",
      " [13  5  4 ... 19  7 10]\n",
      " [13  6  3 ...  4  7 11]\n",
      " ...\n",
      " [13 10  7 ...  5 19 15]\n",
      " [13 16  5 ...  2  3  1]\n",
      " [13  5 10 ...  6 16  6]]\n",
      "\n",
      "\n",
      "The labels with length 308:\n",
      "[1 1 1 1 1 1 1 1 1 1 1 1 1 1 1 1 1 1 1 1 1 1 1 1 1 1 1 1 1 1 1 1 1 1 1 1 1\n",
      " 1 1 1 1 1 1 1 1 1 1 1 1 1 1 1 1 1 1 1 1 1 1 1 1 1 1 1 1 1 1 1 1 1 1 1 1 1\n",
      " 1 1 0 0 0 0 0 0 0 0 0 0 0 0 0 0 0 0 0 0 0 0 0 0 0 0 0 0 0 0 0 0 0 0 0 0 0\n",
      " 0 0 0 0 0 0 0 0 0 0 0 0 0 0 0 0 0 0 0 0 0 0 0 0 0 0 0 0 0 0 0 0 0 0 0 0 0\n",
      " 0 0 0 0 0 0 0 0 0 0 0 0 0 0 0 0 0 0 0 0 0 0 0 0 0 0 0 0 0 0 0 0 0 0 0 0 0\n",
      " 0 0 0 0 0 0 0 0 0 0 0 0 0 0 0 0 0 0 0 0 0 0 0 0 0 0 0 0 0 0 0 0 0 0 0 0 0\n",
      " 0 0 0 0 0 0 0 0 0 0 0 0 0 0 0 0 0 0 0 0 0 0 0 0 0 0 0 0 0 0 0 0 0 0 0 0 0\n",
      " 0 0 0 0 0 0 0 0 0 0 0 0 0 0 0 0 0 0 0 0 0 0 0 0 0 0 0 0 0 0 0 0 0 0 0 0 0\n",
      " 0 0 0 0 0 0 0 0 0 0 0 0]\n"
     ]
    }
   ],
   "source": [
    "print('Matrix with shape %d x %d:' %(testDataMat.shape[0],testDataMat.shape[1]))\n",
    "print(testDataMat)\n",
    "print('\\n')\n",
    "print('The labels with length %d:' %(len(testLabelArr)))\n",
    "print(testLabelArr)"
   ]
  },
  {
   "cell_type": "markdown",
   "metadata": {},
   "source": [
    "<h5> 2.2.2.2 Alternative: generate test dataset by spliting a built one</h5>\n",
    "\n",
    "Sometimes, we only have one dataset and all the samples in it could be used for either training or test. Thus <b>autoBioSeqpy</b> provided a way for splitting the dataset into two. \n",
    "\n",
    "The method is provided in class <b>DataSetCreator</b>. A new parameter <b>dataSplitScale</b> is provided to control the splitting ratio, if the '<b>dataSplitScale</b>' is 0.8, then the training dataset is 80% and the test dataset is 20% from the provided dataset.\n",
    "\n",
    "In this notebook, we use the <b>trainDataSetCreator</b> as the example.\n",
    "\n",
    "<b>NOTE</b>: You can skip this subsection if you don't have to split dataset."
   ]
  },
  {
   "cell_type": "code",
   "execution_count": 14,
   "metadata": {},
   "outputs": [],
   "source": [
    "dataSplitScale = 0.8\n",
    "trainDataMat, testDataMat, trainLabelArr, testLabelArr = trainDataSetCreator.getTrainTestSet(dataSplitScale, toShuffle=True)"
   ]
  },
  {
   "cell_type": "markdown",
   "metadata": {},
   "source": [
    "We can have a look as well"
   ]
  },
  {
   "cell_type": "code",
   "execution_count": 16,
   "metadata": {
    "scrolled": false
   },
   "outputs": [
    {
     "name": "stdout",
     "output_type": "stream",
     "text": [
      "Training:\n",
      "Matrix with shape 986 x 100:\n",
      "[[13  4 14 ...  2 10  1]\n",
      " [13 14 19 ...  4 15 10]\n",
      " [13  6  5 ...  4 16 11]\n",
      " ...\n",
      " [13  4 10 ... 11  6 11]\n",
      " [13  7 15 ...  1  5  2]\n",
      " [13  1  4 ...  6 10  2]]\n",
      "\n",
      "\n",
      "The labels with length 986:\n",
      "[1 1 1 1 1 1 1 1 1 1 1 1 1 1 1 1 1 1 1 1 1 1 1 1 1 1 1 1 1 1 1 1 1 1 1 1 1\n",
      " 1 1 1 1 1 1 1 1 1 1 1 1 1 1 1 1 1 1 1 1 1 1 1 1 1 1 1 1 1 1 1 1 1 1 1 1 1\n",
      " 1 1 1 1 1 1 1 1 1 1 1 1 1 1 1 1 1 1 1 1 1 1 1 1 1 1 1 1 1 1 1 1 1 1 1 1 1\n",
      " 1 1 1 1 1 1 1 1 1 1 1 1 1 1 1 1 1 1 1 1 1 1 1 1 1 1 1 1 1 1 1 1 1 1 1 1 1\n",
      " 1 1 1 1 1 1 1 1 1 1 1 1 1 1 1 1 1 1 1 1 1 1 1 1 1 1 1 1 1 1 1 1 1 1 1 1 1\n",
      " 1 1 1 1 1 1 1 1 1 1 1 1 1 1 1 1 1 1 1 1 1 1 1 1 1 1 1 1 1 1 1 1 1 1 1 1 1\n",
      " 1 1 1 1 1 1 1 1 1 1 1 1 1 1 1 1 1 1 1 1 0 0 0 0 0 0 0 0 0 0 0 0 0 0 0 0 0\n",
      " 0 0 0 0 0 0 0 0 0 0 0 0 0 0 0 0 0 0 0 0 0 0 0 0 0 0 0 0 0 0 0 0 0 0 0 0 0\n",
      " 0 0 0 0 0 0 0 0 0 0 0 0 0 0 0 0 0 0 0 0 0 0 0 0 0 0 0 0 0 0 0 0 0 0 0 0 0\n",
      " 0 0 0 0 0 0 0 0 0 0 0 0 0 0 0 0 0 0 0 0 0 0 0 0 0 0 0 0 0 0 0 0 0 0 0 0 0\n",
      " 0 0 0 0 0 0 0 0 0 0 0 0 0 0 0 0 0 0 0 0 0 0 0 0 0 0 0 0 0 0 0 0 0 0 0 0 0\n",
      " 0 0 0 0 0 0 0 0 0 0 0 0 0 0 0 0 0 0 0 0 0 0 0 0 0 0 0 0 0 0 0 0 0 0 0 0 0\n",
      " 0 0 0 0 0 0 0 0 0 0 0 0 0 0 0 0 0 0 0 0 0 0 0 0 0 0 0 0 0 0 0 0 0 0 0 0 0\n",
      " 0 0 0 0 0 0 0 0 0 0 0 0 0 0 0 0 0 0 0 0 0 0 0 0 0 0 0 0 0 0 0 0 0 0 0 0 0\n",
      " 0 0 0 0 0 0 0 0 0 0 0 0 0 0 0 0 0 0 0 0 0 0 0 0 0 0 0 0 0 0 0 0 0 0 0 0 0\n",
      " 0 0 0 0 0 0 0 0 0 0 0 0 0 0 0 0 0 0 0 0 0 0 0 0 0 0 0 0 0 0 0 0 0 0 0 0 0\n",
      " 0 0 0 0 0 0 0 0 0 0 0 0 0 0 0 0 0 0 0 0 0 0 0 0 0 0 0 0 0 0 0 0 0 0 0 0 0\n",
      " 0 0 0 0 0 0 0 0 0 0 0 0 0 0 0 0 0 0 0 0 0 0 0 0 0 0 0 0 0 0 0 0 0 0 0 0 0\n",
      " 0 0 0 0 0 0 0 0 0 0 0 0 0 0 0 0 0 0 0 0 0 0 0 0 0 0 0 0 0 0 0 0 0 0 0 0 0\n",
      " 0 0 0 0 0 0 0 0 0 0 0 0 0 0 0 0 0 0 0 0 0 0 0 0 0 0 0 0 0 0 0 0 0 0 0 0 0\n",
      " 0 0 0 0 0 0 0 0 0 0 0 0 0 0 0 0 0 0 0 0 0 0 0 0 0 0 0 0 0 0 0 0 0 0 0 0 0\n",
      " 0 0 0 0 0 0 0 0 0 0 0 0 0 0 0 0 0 0 0 0 0 0 0 0 0 0 0 0 0 0 0 0 0 0 0 0 0\n",
      " 0 0 0 0 0 0 0 0 0 0 0 0 0 0 0 0 0 0 0 0 0 0 0 0 0 0 0 0 0 0 0 0 0 0 0 0 0\n",
      " 0 0 0 0 0 0 0 0 0 0 0 0 0 0 0 0 0 0 0 0 0 0 0 0 0 0 0 0 0 0 0 0 0 0 0 0 0\n",
      " 0 0 0 0 0 0 0 0 0 0 0 0 0 0 0 0 0 0 0 0 0 0 0 0 0 0 0 0 0 0 0 0 0 0 0 0 0\n",
      " 0 0 0 0 0 0 0 0 0 0 0 0 0 0 0 0 0 0 0 0 0 0 0 0 0 0 0 0 0 0 0 0 0 0 0 0 0\n",
      " 0 0 0 0 0 0 0 0 0 0 0 0 0 0 0 0 0 0 0 0 0 0 0 0]\n",
      "\n",
      "########################################################################################\n",
      "########################################################################################\n",
      "\n",
      "Testing:\n",
      "Matrix with shape 248 x 100:\n",
      "[[13 15 10 ... 18  2 19]\n",
      " [13  2  2 ... 18  8 11]\n",
      " [13 10 10 ... 19  4  7]\n",
      " ...\n",
      " [13  2  1 ...  5 18 16]\n",
      " [13  4  8 ...  5 11  4]\n",
      " [13 19  7 ...  4  2 10]]\n",
      "\n",
      "\n",
      "The labels with length 248:\n",
      "[1 1 1 1 1 1 1 1 1 1 1 1 1 1 1 1 1 1 1 1 1 1 1 1 1 1 1 1 1 1 1 1 1 1 1 1 1\n",
      " 1 1 1 1 1 1 1 1 1 1 1 1 1 1 1 1 1 1 1 1 1 1 1 1 0 0 0 0 0 0 0 0 0 0 0 0 0\n",
      " 0 0 0 0 0 0 0 0 0 0 0 0 0 0 0 0 0 0 0 0 0 0 0 0 0 0 0 0 0 0 0 0 0 0 0 0 0\n",
      " 0 0 0 0 0 0 0 0 0 0 0 0 0 0 0 0 0 0 0 0 0 0 0 0 0 0 0 0 0 0 0 0 0 0 0 0 0\n",
      " 0 0 0 0 0 0 0 0 0 0 0 0 0 0 0 0 0 0 0 0 0 0 0 0 0 0 0 0 0 0 0 0 0 0 0 0 0\n",
      " 0 0 0 0 0 0 0 0 0 0 0 0 0 0 0 0 0 0 0 0 0 0 0 0 0 0 0 0 0 0 0 0 0 0 0 0 0\n",
      " 0 0 0 0 0 0 0 0 0 0 0 0 0 0 0 0 0 0 0 0 0 0 0 0 0 0]\n"
     ]
    }
   ],
   "source": [
    "print('Training:')\n",
    "print('Matrix with shape %d x %d:' %(trainDataMat.shape[0],trainDataMat.shape[1]))\n",
    "print(trainDataMat)\n",
    "print('\\n')\n",
    "print('The labels with length %d:' %(len(trainLabelArr)))\n",
    "print(trainLabelArr)\n",
    "print('\\n########################################################################################')\n",
    "print('########################################################################################\\n')\n",
    "print('Testing:')\n",
    "print('Matrix with shape %d x %d:' %(testDataMat.shape[0],testDataMat.shape[1]))\n",
    "print(testDataMat)\n",
    "print('\\n')\n",
    "print('The labels with length %d:' %(len(testLabelArr)))\n",
    "print(testLabelArr)"
   ]
  },
  {
   "cell_type": "markdown",
   "metadata": {},
   "source": [
    "<h2>3. Data Modeling and Testing</h2>\n",
    "\n",
    "After the data generated in section 2, now the dataset is available for modeling. Since it is a matrix, the data could be used for not only deep learning but also other machine learning as well. \n",
    "\n",
    "Here we made a brief introduce by using <b>keras</b> for deep learning, and provided a traditional example by using random forest at last.\n",
    "\n",
    "\n"
   ]
  },
  {
   "cell_type": "markdown",
   "metadata": {},
   "source": [
    "<h3>3.1 Using keras for modeling</h3>\n",
    "\n",
    "<a href=https://keras.io/>Keras</a> is a high-level neural networks API, written in Python and capable of running on top of TensorFlow, CNTK, or Theano. \n",
    "\n",
    "Keras is useful for modeling the dataset by both 'dict' and 'onehot', but the neural network and related parameters should be set carefully.\n",
    "\n",
    "Few templates provided in the folder 'models', users could copy them directly and change few related parameters such as to make sure the shape of the data is the same as the kernel size of the first layer.\n",
    "\n",
    "In this notebook, since 'dict' is used as the encoding, the 1D neural network is a good choice for modeling, therefore, the model in 'model/CNN_Conv1D+GlobalMaxPooling.py'. Here the <b>maxlen</b> should be changed as the same with <b>spcLen</b>.\n",
    "\n",
    "Here are two ways for using the model, one is write (or copy/post) the code in the script directly, another one is read a built model (in .json format) by using our provided module."
   ]
  },
  {
   "cell_type": "markdown",
   "metadata": {},
   "source": [
    "<h3>3.1 building keras model directly</h3>\n",
    "<h4>3.1.1 model generating</h4>\n",
    "As mentioned before, users could write any code for building keras neural network, but should modify the parameters manually."
   ]
  },
  {
   "cell_type": "code",
   "execution_count": 14,
   "metadata": {},
   "outputs": [],
   "source": [
    "os.environ[\"CUDA_VISIBLE_DEVICES\"] = '-1' #force using CPU, comment it for using GPU"
   ]
  },
  {
   "cell_type": "code",
   "execution_count": 15,
   "metadata": {},
   "outputs": [
    {
     "name": "stderr",
     "output_type": "stream",
     "text": [
      "Using TensorFlow backend.\n"
     ]
    },
    {
     "name": "stdout",
     "output_type": "stream",
     "text": [
      "Building model...\n",
      "WARNING:tensorflow:From C:\\Users\\jingr\\Anaconda3\\lib\\site-packages\\tensorflow\\python\\framework\\op_def_library.py:263: colocate_with (from tensorflow.python.framework.ops) is deprecated and will be removed in a future version.\n",
      "Instructions for updating:\n",
      "Colocations handled automatically by placer.\n",
      "WARNING:tensorflow:From C:\\Users\\jingr\\Anaconda3\\lib\\site-packages\\keras\\backend\\tensorflow_backend.py:3445: calling dropout (from tensorflow.python.ops.nn_ops) with keep_prob is deprecated and will be removed in a future version.\n",
      "Instructions for updating:\n",
      "Please use `rate` instead of `keep_prob`. Rate should be set to `rate = 1 - keep_prob`.\n",
      "_________________________________________________________________\n",
      "Layer (type)                 Output Shape              Param #   \n",
      "=================================================================\n",
      "embedding_1 (Embedding)      (None, 100, 128)          3328      \n",
      "_________________________________________________________________\n",
      "dropout_1 (Dropout)          (None, 100, 128)          0         \n",
      "_________________________________________________________________\n",
      "conv1d_1 (Conv1D)            (None, 98, 250)           96250     \n",
      "_________________________________________________________________\n",
      "global_max_pooling1d_1 (Glob (None, 250)               0         \n",
      "_________________________________________________________________\n",
      "dense_1 (Dense)              (None, 250)               62750     \n",
      "_________________________________________________________________\n",
      "dropout_2 (Dropout)          (None, 250)               0         \n",
      "_________________________________________________________________\n",
      "activation_1 (Activation)    (None, 250)               0         \n",
      "_________________________________________________________________\n",
      "dense_2 (Dense)              (None, 1)                 251       \n",
      "_________________________________________________________________\n",
      "activation_2 (Activation)    (None, 1)                 0         \n",
      "=================================================================\n",
      "Total params: 162,579\n",
      "Trainable params: 162,579\n",
      "Non-trainable params: 0\n",
      "_________________________________________________________________\n"
     ]
    }
   ],
   "source": [
    "from keras.models import Sequential\n",
    "from keras.layers import Dense, Dropout, Activation\n",
    "from keras.layers import Embedding\n",
    "from keras.layers import Conv1D, GlobalMaxPooling1D\n",
    "from keras import optimizers\n",
    "\n",
    "\n",
    "\n",
    "# set parameters:\n",
    "max_features = 26\n",
    "embedding_size = 128\n",
    "filters = 250\n",
    "kernel_size = 3\n",
    "hidden_dims = 250\n",
    "batch_size = 40\n",
    "epochs = 25\n",
    "\n",
    "#the parameter which need to modified\n",
    "maxlen = spcLen\n",
    "\n",
    "\n",
    "print('Building model...')\n",
    "model = Sequential()\n",
    "# we start off with an efficient embedding layer which maps amino acids\n",
    "# indices into embedding_dims dimensions\n",
    "model.add(Embedding(max_features, embedding_size, input_length = maxlen))\n",
    "model.add(Dropout(0.2))\n",
    "# we add a Convolution1D, which will learn filters word group filters of \n",
    "# size filter_length:\n",
    "model.add(Conv1D(filters,kernel_size,padding = 'valid',activation = 'relu',strides = 1))\n",
    "# we use max pooling:\n",
    "model.add(GlobalMaxPooling1D())\n",
    "# We add a vanilla hidden layer:\n",
    "model.add(Dense(hidden_dims))\n",
    "model.add(Dropout(0.2))\n",
    "model.add(Activation('relu'))\n",
    "# We project onto a single unit output layer, and squash it with a sigmoid:\n",
    "model.add(Dense(1))\n",
    "model.add(Activation('sigmoid'))\n",
    "\n",
    "model.compile(loss = 'binary_crossentropy',optimizer = optimizers.Adam(),metrics = ['acc'])\n",
    "\n",
    "model.summary()\n",
    "\n"
   ]
  },
  {
   "cell_type": "markdown",
   "metadata": {},
   "source": [
    "<h4>3.1.2 training</h4>\n",
    "After the model built, now the dataset is ready for training, keras provided a framework for the training phase, just use it for the training dataset.\n",
    "\n",
    "<b>NOTE</b>:<br>\n",
    "The parameters <b>batch_size</b> and <b>epochs</b> are defined above."
   ]
  },
  {
   "cell_type": "markdown",
   "metadata": {},
   "source": [
    "<h5>analysisPlot</h5>\n",
    "analysisPlot is a module provided for analyze the modeling process when using keras. We can import it easily since the search path is set before."
   ]
  },
  {
   "cell_type": "code",
   "execution_count": 16,
   "metadata": {},
   "outputs": [],
   "source": [
    "import analysisPlot"
   ]
  },
  {
   "cell_type": "code",
   "execution_count": 17,
   "metadata": {},
   "outputs": [
    {
     "name": "stdout",
     "output_type": "stream",
     "text": [
      "WARNING:tensorflow:From C:\\Users\\jingr\\Anaconda3\\lib\\site-packages\\tensorflow\\python\\ops\\math_ops.py:3066: to_int32 (from tensorflow.python.ops.math_ops) is deprecated and will be removed in a future version.\n",
      "Instructions for updating:\n",
      "Use tf.cast instead.\n",
      "WARNING:tensorflow:From C:\\Users\\jingr\\Anaconda3\\lib\\site-packages\\tensorflow\\python\\ops\\math_grad.py:102: div (from tensorflow.python.ops.math_ops) is deprecated and will be removed in a future version.\n",
      "Instructions for updating:\n",
      "Deprecated in favor of operator or tf.math.divide.\n",
      "Train on 1110 samples, validate on 124 samples\n",
      "Epoch 1/25\n",
      "1110/1110 [==============================] - 1s 1ms/step - loss: 0.5961 - acc: 0.7243 - val_loss: 0.3535 - val_acc: 1.0000\n",
      "Epoch 2/25\n",
      "1110/1110 [==============================] - 1s 677us/step - loss: 0.5574 - acc: 0.7270 - val_loss: 0.3103 - val_acc: 1.0000\n",
      "Epoch 3/25\n",
      "1110/1110 [==============================] - 1s 708us/step - loss: 0.4929 - acc: 0.7532 - val_loss: 0.3417 - val_acc: 0.9355\n",
      "Epoch 4/25\n",
      "1110/1110 [==============================] - 1s 705us/step - loss: 0.4123 - acc: 0.8180 - val_loss: 0.2971 - val_acc: 0.8710\n",
      "Epoch 5/25\n",
      "1110/1110 [==============================] - 1s 708us/step - loss: 0.3591 - acc: 0.8414 - val_loss: 0.2730 - val_acc: 0.8790\n",
      "Epoch 6/25\n",
      "1110/1110 [==============================] - 1s 709us/step - loss: 0.3112 - acc: 0.8739 - val_loss: 0.2222 - val_acc: 0.8871\n",
      "Epoch 7/25\n",
      "1110/1110 [==============================] - 1s 712us/step - loss: 0.2653 - acc: 0.9000 - val_loss: 0.3225 - val_acc: 0.8548\n",
      "Epoch 8/25\n",
      "1110/1110 [==============================] - 1s 696us/step - loss: 0.2374 - acc: 0.9072 - val_loss: 0.3046 - val_acc: 0.8629\n",
      "Epoch 9/25\n",
      "1110/1110 [==============================] - 1s 722us/step - loss: 0.2035 - acc: 0.9297 - val_loss: 0.2772 - val_acc: 0.8871\n",
      "Epoch 10/25\n",
      "1110/1110 [==============================] - 1s 708us/step - loss: 0.1757 - acc: 0.9405 - val_loss: 0.1793 - val_acc: 0.9194\n",
      "Epoch 11/25\n",
      "1110/1110 [==============================] - 1s 709us/step - loss: 0.1533 - acc: 0.9414 - val_loss: 0.2300 - val_acc: 0.9032\n",
      "Epoch 12/25\n",
      "1110/1110 [==============================] - 1s 703us/step - loss: 0.1461 - acc: 0.9441 - val_loss: 0.4976 - val_acc: 0.7903\n",
      "Epoch 13/25\n",
      "1110/1110 [==============================] - 1s 713us/step - loss: 0.1130 - acc: 0.9676 - val_loss: 0.2395 - val_acc: 0.9032\n",
      "Epoch 14/25\n",
      "1110/1110 [==============================] - 1s 710us/step - loss: 0.1090 - acc: 0.9622 - val_loss: 0.4787 - val_acc: 0.8065\n",
      "Epoch 15/25\n",
      "1110/1110 [==============================] - 1s 761us/step - loss: 0.0890 - acc: 0.9703 - val_loss: 0.4191 - val_acc: 0.8387\n",
      "Epoch 16/25\n",
      "1110/1110 [==============================] - 1s 752us/step - loss: 0.0608 - acc: 0.9883 - val_loss: 0.2952 - val_acc: 0.8790\n",
      "Epoch 17/25\n",
      "1110/1110 [==============================] - 1s 712us/step - loss: 0.0637 - acc: 0.9811 - val_loss: 0.4455 - val_acc: 0.8306\n",
      "Epoch 18/25\n",
      "1110/1110 [==============================] - 1s 718us/step - loss: 0.0600 - acc: 0.9847 - val_loss: 0.5591 - val_acc: 0.8226\n",
      "Epoch 19/25\n",
      "1110/1110 [==============================] - 1s 723us/step - loss: 0.0443 - acc: 0.9901 - val_loss: 0.3166 - val_acc: 0.8871\n",
      "Epoch 20/25\n",
      "1110/1110 [==============================] - 1s 729us/step - loss: 0.0408 - acc: 0.9892 - val_loss: 0.2294 - val_acc: 0.9194\n",
      "Epoch 21/25\n",
      "1110/1110 [==============================] - 1s 719us/step - loss: 0.0280 - acc: 0.9964 - val_loss: 0.5498 - val_acc: 0.8226\n",
      "Epoch 22/25\n",
      "1110/1110 [==============================] - 1s 721us/step - loss: 0.0221 - acc: 0.9964 - val_loss: 0.6236 - val_acc: 0.7984\n",
      "Epoch 23/25\n",
      "1110/1110 [==============================] - 1s 714us/step - loss: 0.0228 - acc: 0.9946 - val_loss: 0.2267 - val_acc: 0.9113\n",
      "Epoch 24/25\n",
      "1110/1110 [==============================] - 1s 722us/step - loss: 0.0208 - acc: 0.9991 - val_loss: 0.4075 - val_acc: 0.8790\n",
      "Epoch 25/25\n",
      "1110/1110 [==============================] - 1s 697us/step - loss: 0.0142 - acc: 0.9973 - val_loss: 0.4466 - val_acc: 0.8629\n"
     ]
    },
    {
     "data": {
      "text/plain": [
       "<keras.callbacks.History at 0x236895849b0>"
      ]
     },
     "execution_count": 17,
     "metadata": {},
     "output_type": "execute_result"
    }
   ],
   "source": [
    "history = analysisPlot.LossHistory()\n",
    "model.fit(trainDataMat, trainLabelArr,batch_size = batch_size,epochs = epochs,validation_split = 0.1,callbacks = [history])\n"
   ]
  },
  {
   "cell_type": "markdown",
   "metadata": {},
   "source": [
    "<h4>3.1.3 testing and output analysis</h4>\n",
    "The frame for predicting is provided by keras as well, therefore we can make the predict as well."
   ]
  },
  {
   "cell_type": "code",
   "execution_count": 18,
   "metadata": {},
   "outputs": [],
   "source": [
    "predicted_Probability = model.predict(testDataMat)\n",
    "prediction = model.predict_classes(testDataMat)"
   ]
  },
  {
   "cell_type": "markdown",
   "metadata": {},
   "source": [
    "<h4>3.1.4 showing modeling figures and predicting preference</h4>\n",
    "\n",
    "Usually users would like to know the predicting performance, therefore the related function is provided as well.\n",
    "\n",
    "Users could get how the loss changes as the epoch increasing, and some metrices (ACC, Recall, MCC...) as well.\n",
    "\n",
    "All the figure is available for save by change the parameter <b>savePath</b> to a real path."
   ]
  },
  {
   "cell_type": "markdown",
   "metadata": {},
   "source": [
    "This time the metrices are available in sklearn, import them at first."
   ]
  },
  {
   "cell_type": "code",
   "execution_count": 19,
   "metadata": {},
   "outputs": [],
   "source": [
    "from sklearn.metrics import accuracy_score,f1_score,roc_auc_score,recall_score,precision_score,confusion_matrix,matthews_corrcoef "
   ]
  },
  {
   "cell_type": "markdown",
   "metadata": {},
   "source": [
    "<h5>The change of loss</h5>"
   ]
  },
  {
   "cell_type": "code",
   "execution_count": 20,
   "metadata": {},
   "outputs": [
    {
     "data": {
      "image/png": "[encoded data removed]",
      "text/plain": [
       "<Figure size 432x288 with 1 Axes>"
      ]
     },
     "metadata": {
      "needs_background": "light"
     },
     "output_type": "display_data"
    }
   ],
   "source": [
    "history.loss_plot('epoch',showFig=True,savePath=None)"
   ]
  },
  {
   "cell_type": "markdown",
   "metadata": {},
   "source": [
    "<h5>confusion matrix and related metrices</h5>"
   ]
  },
  {
   "cell_type": "code",
   "execution_count": 21,
   "metadata": {},
   "outputs": [
    {
     "name": "stdout",
     "output_type": "stream",
     "text": [
      "[[212  20]\n",
      " [ 13  63]]\n",
      "ACC: 0.892857 \n",
      "F1: 0.792453 \n",
      "Recall: 0.828947 \n",
      "Pre: 0.759036 \n",
      "MCC: 0.721701 \n",
      "AUC: 0.871370 \n"
     ]
    }
   ],
   "source": [
    "cm=confusion_matrix(testLabelArr,prediction)\n",
    "print(cm)\n",
    "print(\"ACC: %f \"%accuracy_score(testLabelArr,prediction))\n",
    "print(\"F1: %f \"%f1_score(testLabelArr,prediction))\n",
    "print(\"Recall: %f \"%recall_score(testLabelArr,prediction))\n",
    "print(\"Pre: %f \"%precision_score(testLabelArr,prediction))\n",
    "print(\"MCC: %f \"%matthews_corrcoef(testLabelArr,prediction))\n",
    "print(\"AUC: %f \"%roc_auc_score(testLabelArr,prediction))"
   ]
  },
  {
   "cell_type": "markdown",
   "metadata": {},
   "source": [
    "<h5>ROC curve</h5>"
   ]
  },
  {
   "cell_type": "code",
   "execution_count": 22,
   "metadata": {
    "scrolled": false
   },
   "outputs": [
    {
     "data": {
      "text/plain": [
       "<Figure size 432x288 with 0 Axes>"
      ]
     },
     "metadata": {},
     "output_type": "display_data"
    },
    {
     "data": {
      "image/png": "[encoded data removed]",
      "text/plain": [
       "<Figure size 720x720 with 1 Axes>"
      ]
     },
     "metadata": {
      "needs_background": "light"
     },
     "output_type": "display_data"
    }
   ],
   "source": [
    "analysisPlot.plotROC(testLabelArr,predicted_Probability,showFig=True,savePath=None)"
   ]
  },
  {
   "cell_type": "markdown",
   "metadata": {},
   "source": [
    "<h4>3.1.5 Save/Load a module (optional) </h4>\n",
    "\n",
    "As mentioned before, keras is able to save a built model and read it again, it is available for establish a model without the data or using it for transfer learning. \n",
    "\n",
    "Therefore, a shor part of the code (i.e. in our module 'moduleRead') is provided here for implement this function. "
   ]
  },
  {
   "cell_type": "markdown",
   "metadata": {},
   "source": [
    "<h5>Model save</h5>\n",
    "Not only the module, but also the weight could be saved."
   ]
  },
  {
   "cell_type": "code",
   "execution_count": 23,
   "metadata": {},
   "outputs": [],
   "source": [
    "modelSavePath = './tmpModel.json'\n",
    "weightSavePath = './tmpWeight.bin'"
   ]
  },
  {
   "cell_type": "code",
   "execution_count": 24,
   "metadata": {},
   "outputs": [],
   "source": [
    "model_json = model.to_json()\n",
    "with open(modelSavePath, \"w\") as json_file:\n",
    "    json_file.write(model_json)\n",
    "model.save_weights(weightSavePath)"
   ]
  },
  {
   "cell_type": "markdown",
   "metadata": {},
   "source": [
    "<h5>Model Load</h5>"
   ]
  },
  {
   "cell_type": "code",
   "execution_count": 25,
   "metadata": {},
   "outputs": [],
   "source": [
    "from keras.models import model_from_json"
   ]
  },
  {
   "cell_type": "code",
   "execution_count": 26,
   "metadata": {},
   "outputs": [],
   "source": [
    "json_file = open(modelSavePath, 'r')\n",
    "loaded_model_json = json_file.read()\n",
    "json_file.close()\n",
    "loaded_model = model_from_json(loaded_model_json)\n",
    "if not weightSavePath is None:\n",
    "    loaded_model.load_weights(weightSavePath)"
   ]
  },
  {
   "cell_type": "markdown",
   "metadata": {},
   "source": [
    "Sometimes a loaded model should be recompiled before training"
   ]
  },
  {
   "cell_type": "code",
   "execution_count": 27,
   "metadata": {},
   "outputs": [
    {
     "name": "stdout",
     "output_type": "stream",
     "text": [
      "_________________________________________________________________\n",
      "Layer (type)                 Output Shape              Param #   \n",
      "=================================================================\n",
      "embedding_1 (Embedding)      (None, 100, 128)          3328      \n",
      "_________________________________________________________________\n",
      "dropout_1 (Dropout)          (None, 100, 128)          0         \n",
      "_________________________________________________________________\n",
      "conv1d_1 (Conv1D)            (None, 98, 250)           96250     \n",
      "_________________________________________________________________\n",
      "global_max_pooling1d_1 (Glob (None, 250)               0         \n",
      "_________________________________________________________________\n",
      "dense_1 (Dense)              (None, 250)               62750     \n",
      "_________________________________________________________________\n",
      "dropout_2 (Dropout)          (None, 250)               0         \n",
      "_________________________________________________________________\n",
      "activation_1 (Activation)    (None, 250)               0         \n",
      "_________________________________________________________________\n",
      "dense_2 (Dense)              (None, 1)                 251       \n",
      "_________________________________________________________________\n",
      "activation_2 (Activation)    (None, 1)                 0         \n",
      "=================================================================\n",
      "Total params: 162,579\n",
      "Trainable params: 162,579\n",
      "Non-trainable params: 0\n",
      "_________________________________________________________________\n"
     ]
    }
   ],
   "source": [
    "model = loaded_model\n",
    "model.compile(loss = 'binary_crossentropy',optimizer = optimizers.Adam(),metrics = ['acc'])\n",
    "model.summary()"
   ]
  },
  {
   "cell_type": "markdown",
   "metadata": {},
   "source": [
    "And then, you can use the loaded model for training/predict as you want."
   ]
  },
  {
   "cell_type": "markdown",
   "metadata": {},
   "source": [
    "<h3>3.2 Modeling with other machine learning method</h3>\n",
    "\n",
    "Since we got a matrix, it is possible for using this matrix for many training works other than deep learning. The result is available for comparison or make some further analysis.\n",
    "\n",
    "Here we provided a brief sample for using <b>random forest</b> to modeling and predicting. "
   ]
  },
  {
   "cell_type": "code",
   "execution_count": 28,
   "metadata": {},
   "outputs": [],
   "source": [
    "from sklearn.ensemble import RandomForestClassifier\n",
    "\n",
    "#init\n",
    "rf = RandomForestClassifier(n_estimators=10, max_depth=None,min_samples_split=2, bootstrap=True)\n",
    "\n",
    "#training\n",
    "rf.fit(trainDataMat, trainLabelArr)\n",
    "\n",
    "#predicting\n",
    "rfPrediction = rf.predict(testDataMat)"
   ]
  },
  {
   "cell_type": "markdown",
   "metadata": {},
   "source": [
    "<h5>confusion matrix and related metrices</h5>"
   ]
  },
  {
   "cell_type": "code",
   "execution_count": 29,
   "metadata": {},
   "outputs": [
    {
     "name": "stdout",
     "output_type": "stream",
     "text": [
      "[[227   5]\n",
      " [ 68   8]]\n",
      "ACC: 0.892857 \n",
      "F1: 0.792453 \n",
      "Recall: 0.828947 \n",
      "Pre: 0.759036 \n",
      "MCC: 0.721701 \n",
      "AUC: 0.871370 \n"
     ]
    }
   ],
   "source": [
    "cm=confusion_matrix(testLabelArr,rfPrediction)\n",
    "print(cm)\n",
    "print(\"ACC: %f \"%accuracy_score(testLabelArr,rfPrediction))\n",
    "print(\"F1: %f \"%f1_score(testLabelArr,rfPrediction))\n",
    "print(\"Recall: %f \"%recall_score(testLabelArr,rfPrediction))\n",
    "print(\"Pre: %f \"%precision_score(testLabelArr,rfPrediction))\n",
    "print(\"MCC: %f \"%matthews_corrcoef(testLabelArr,rfPrediction))\n",
    "print(\"AUC: %f \"%roc_auc_score(testLabelArr,rfPrediction))"
   ]
  },
  {
   "cell_type": "markdown",
   "metadata": {},
   "source": [
    "<h5>ROC curve</h5>"
   ]
  },
  {
   "cell_type": "code",
   "execution_count": 30,
   "metadata": {},
   "outputs": [
    {
     "data": {
      "text/plain": [
       "<Figure size 432x288 with 0 Axes>"
      ]
     },
     "metadata": {},
     "output_type": "display_data"
    },
    {
     "data": {
      "image/png": "[encoded data removed]",
      "text/plain": [
       "<Figure size 720x720 with 1 Axes>"
      ]
     },
     "metadata": {
      "needs_background": "light"
     },
     "output_type": "display_data"
    }
   ],
   "source": [
    "rfPredictedProbability = np.array(rf.predict_proba(testDataMat))\n",
    "analysisPlot.plotROC(testLabelArr,rfPredictedProbability[:,1],showFig=True,savePath=None)"
   ]
  },
  {
   "cell_type": "markdown",
   "metadata": {},
   "source": [
    "<h2>4. Conclusion</h2>\n",
    "\n",
    "In this notebook, we introduced how to use <b>autoBioSeqpy</b> for file reading and engaging it into a research workflow. We hope this notebook could help users to understand the basic way for using it for data transferring and evaluating the modeling result. Then users could use it as a part of their own researches.\n",
    "\n",
    "We are looking forward to receive any feedback and suggesting. If you have any problem in using this tool, please do not hesitate to connect us, thanks.\n"
   ]
  }
 ],
 "metadata": {
  "kernelspec": {
   "display_name": "Python 3",
   "language": "python",
   "name": "python3"
  },
  "language_info": {
   "codemirror_mode": {
    "name": "ipython",
    "version": 3
   },
   "file_extension": ".py",
   "mimetype": "text/x-python",
   "name": "python",
   "nbconvert_exporter": "python",
   "pygments_lexer": "ipython3",
   "version": "3.7.3"
  }
 },
 "nbformat": 4,
 "nbformat_minor": 2
}
