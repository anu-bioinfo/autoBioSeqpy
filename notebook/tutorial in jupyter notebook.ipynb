{
 "cells": [
  {
   "cell_type": "markdown",
   "metadata": {},
   "source": [
    "<h1>Tutorial for using autoBioSeqpy as modules in script</h1>\n",
    "\n",
    "Using the <b>autoBioSeqpy</b> via command line is a good way for data modeling, but usually users would like to use <b>autoBioSeqpy</b> for something more, such as converting the FASTA data into matrix or combine the modeling to another workflow. \n",
    "\n",
    "This notebook provided the usage for using <b>autoBioSeqpy</b> as a library which could be imported normally. Moreover, few alternatives provided for some special case. We hope this tutorial could help user for understanding this tool deeply.\n"
   ]
  },
  {
   "cell_type": "markdown",
   "metadata": {},
   "source": [
    "This notebook is available in jupyter notebook (editing and running is possible), but if you didn't install jupyter notebook, two copies in PDF and HTML version are available as well (read only)."
   ]
  },
  {
   "cell_type": "markdown",
   "metadata": {},
   "source": [
    "<h2>1. First step: Initializing</h2>\n",
    "\n",
    "As the first step, initializing is necessary for <b>autoBioSeqpy</b> by setting the <b>search path</b>.\n",
    "\n",
    "The method‘import’ in python is a normal way for using a module in a default search path, but this time <b>autoBioSeqpy</b> didn't provide a way for ‘install’ and thus the search path is necessary for providing.\n",
    "\n",
    "If <b>autoBioSeqpy</b> is already in your search path, you can import it directly."
   ]
  },
  {
   "cell_type": "markdown",
   "metadata": {},
   "source": [
    "<h3>1.1 Initializing the search path</h3>\n",
    "\n",
    "There are several ways for importing the self-made modules/libraries. Considering that user might have different environment, please change the variable ‘libPath’ into the path where the tool located.\n",
    "\n",
    "An alternative is provided, and available if uncomment it."
   ]
  },
  {
   "cell_type": "code",
   "execution_count": 1,
   "metadata": {},
   "outputs": [],
   "source": [
    "import os, sys\n",
    "libPath = '../' #please change it into your search path if necessary\n",
    "sys.path.append(libPath)\n",
    "#alternative\n",
    "#os.chdir(libPath)"
   ]
  },
  {
   "cell_type": "code",
   "execution_count": 2,
   "metadata": {},
   "outputs": [],
   "source": [
    "import numpy as np #for some analysis"
   ]
  },
  {
   "cell_type": "markdown",
   "metadata": {},
   "source": [
    "<h2>2. Data processing</h2>\n",
    "Usually, users will write a script to converting the FASTA into matrix, here <b>autoBioSeqpy</b> provided few ways for the matrix creation."
   ]
  },
  {
   "cell_type": "markdown",
   "metadata": {},
   "source": [
    "<h3>2.1 import the related library</h3>\n",
    "\n",
    "Library 'dataProcess' is provided for matrix creation form FASTA data. The necessary function such as suffle the samples and spliting the dataset into pieces (for cross validation) are provided as well.\n",
    "\n",
    "Since the location is added into the search path in section <a href=\"#1.1-Initializing-the-search-path\">1.1</a>, here we only need to import it as a module."
   ]
  },
  {
   "cell_type": "code",
   "execution_count": 3,
   "metadata": {},
   "outputs": [],
   "source": [
    "import dataProcess"
   ]
  },
  {
   "cell_type": "markdown",
   "metadata": {},
   "source": [
    "<h3>2.2 Usage of module dataProcess</h3>\n",
    "\n",
    "To load a dataset, first we need to instantiate an object and then using loading.\n",
    "\n",
    "When intorducing it, some <b>cases</b> and <b>parameters</b> will be explained as well."
   ]
  },
  {
   "cell_type": "markdown",
   "metadata": {},
   "source": [
    "<h4>2.2.1 A detailed description for training data</h4>"
   ]
  },
  {
   "cell_type": "markdown",
   "metadata": {},
   "source": [
    "<h5>dataType</h5>\n",
    "\n",
    "Since Protein, DNA and RNA have their FASTA, we have to decide the type of this data. In our standalone script, '<b>dataType'</b> is a parameter, but here we don't have to determine it as a parameter directly."
   ]
  },
  {
   "cell_type": "markdown",
   "metadata": {},
   "source": [
    "<h5>dataEncodingType</h5>\n",
    "\n",
    "This is a parameter for set the way to encoding the FASTA into matrix. Currently there are two encoding types available: 'onehot' and 'dict'.\n",
    "If 'dict' choosed, a character (e.g. A/G/C/T for DNA) is represented as a number (such as A:1 T:2 C:3 T:4).\n",
    "\n",
    "Alternetivly, if choose 'onehot',a character will be represented as an array (such as A:[1,0,0,0] G:[0,1,0,0] C:[0,0,1,0] T[0,0,0,1]). \n",
    "\n",
    "In this example, only 'dict' is used since it is better for displaying."
   ]
  },
  {
   "cell_type": "code",
   "execution_count": 4,
   "metadata": {},
   "outputs": [],
   "source": [
    "dataEncodingType = 'dict'"
   ]
  },
  {
   "cell_type": "markdown",
   "metadata": {},
   "source": [
    "<h5>useKMer and KMerNum</h5>\n",
    "\n",
    "Usually we would like to consider taking not only one FASTA residue for encoding, but also its neighbors. The parameter '<b>useKMer</b>' is an implementation for the environment encoding.\n",
    "\n",
    "For example, if a sequence is ATTACT, and '<b>KMerNum</b>' is 3, then the first A will be considered as 'ATT'. \n",
    "\n",
    "Note that the shape of dataset will be expanded accordingly (see the manual for more details). And usually the 'useKMer' is used when 'dataEncodingType' set as 'oneHot'. And thus in this notebook, we don't use KMer since the encoding type is 'dict'.\n",
    "\n",
    "If you are interesting for the KMer, please change the 'dataEncodingType' as 'onehot' and turn on the '<b>useKMer</b>' by set it into True."
   ]
  },
  {
   "cell_type": "code",
   "execution_count": 5,
   "metadata": {},
   "outputs": [],
   "source": [
    "useKMer = True\n",
    "KMerNum = 3 #If useKMer is False, the KMerNum is inactive, and thus it doesn't matter how much the value is."
   ]
  },
  {
   "cell_type": "markdown",
   "metadata": {},
   "source": [
    "<h4>2.2.1.1 featureGenerator: the encoder</h4>\n",
    "\n",
    "Now we can initialize a <b>featureGenerator</b>. A <b>featureGenerator</b> is a class for encoding the FASTA sequence.\n",
    "\n",
    "There are three featureGenerator available: <b>ProteinFeatureGenerator</b>, <b>DNAFeatureGenerator</b> and <b>RNAFeatureGenerator</b>, you could use one of them according to the datatype. \n",
    "\n",
    "In this notebook, protein data is used, thus we use <b>ProteinFeatureGenerator</b> as the <b>featureGenerator</b>.\n"
   ]
  },
  {
   "cell_type": "code",
   "execution_count": 6,
   "metadata": {},
   "outputs": [],
   "source": [
    "featureGenerator = dataProcess.ProteinFeatureGenerator(dataEncodingType, useKMer=useKMer, KMerNum=KMerNum)\n",
    "#featureGenerator = dataProcess.DNAFeatureGenerator(dataEncodingType, useKMer=useKMer, KMerNum=KMerNum) #alternative for DNA data\n",
    "#featureGenerator = dataProcess.RNAFeatureGenerator(dataEncodingType, useKMer=useKMer, KMerNum=KMerNum) #alternative for RNA data"
   ]
  },
  {
   "cell_type": "markdown",
   "metadata": {},
   "source": [
    "<h4>2.2.1.2 File format and class DataLoader</h4>\n",
    "\n",
    "With the encoder, now it's possible to read the FASTA data and encode them into matrix.\n",
    "\n",
    "<b>autoBioSeqpy</b> provided a class ‘<b>DataLoader</b>’ for handle all the file reading things.  So here we need to introduce the format of the FASTA file.\n"
   ]
  },
  {
   "cell_type": "markdown",
   "metadata": {},
   "source": [
    "<h5>File format</h5>\n",
    "The so called ‘<b>file format</b>’ is the normal FASTA format. That is, a sequence is started by ‘> name&information’ and then few lines of FASTA characters followed. There is no limitation of the number of characters in a line, you can try few lines with not more than 60 characters or only 1 line with all characters. For example, the both formats are supported and can even mixed in one file:<br><br>\n",
    ">case1 only 1 line <br>\n",
    "XXXXXXXXXXXXXXXXXXXXXXXXXXXXXXXXXXXXXXXXXXXXXXXXXX...<br><br>\n",
    ">case2 few lines<br>\n",
    "XXXXXXXXXXXXXXXXXXXXXXXXXXXXXXXXXX<br>\n",
    "XXXXXXXXXXXXXXXXXXXXXXXXXXXXXXXXXX<br>\n",
    "...<br>\n",
    "XXXXXXXXXXXXXX<br>\n",
    "\n"
   ]
  },
  {
   "cell_type": "markdown",
   "metadata": {},
   "source": [
    "<h5>label</h5>\n",
    "\n",
    "The only thing should be concerned is the <b>label</b> of a file. Usually there are two (e.g. 1/-1 or 1/0) or more (e.g. case1, case2, case3, …) labels for a dataset, but the class DataLoader can handle one dataset with <b>the same label</b>, which means if a data has 3 labels, at least 3 files is necessary for reading.\n",
    "\n",
    "In this notebook, the provided data is a binary classification, and therefore only two labels, <b>1 for positive samples and 0 negative samples</b>, are used.\n"
   ]
  },
  {
   "cell_type": "markdown",
   "metadata": {},
   "source": [
    "<h5>spcLen</h5>\n",
    "\n",
    "Here is another problem: usually the length is not the same for different sequences. \n",
    "\n",
    "To address it, the '<b>spcLen</b>' is provided. If the length of an input sequence is larger than the '<b>spcLen</b>', the exceed part will be ignored, and if the length is less than '<b>spcLen</b>', zeros (or zero arrays) will be added to make the length up to <b>spcLen</b>.\n"
   ]
  },
  {
   "cell_type": "code",
   "execution_count": 7,
   "metadata": {},
   "outputs": [],
   "source": [
    "spcLen = 100"
   ]
  },
  {
   "cell_type": "markdown",
   "metadata": {},
   "source": [
    "<h5>DataLoader</h5>\n",
    "\n",
    "The class ‘<b>DataLoader</b>’ is a class for loading a file, thus usually we need at least two <b>DataLoader</b> for different label.\n",
    "\n",
    "In this notebook, two files, 'train_pos.txt' and 'train_neg.txt', provided for training dataset, which can be found in 'data' folder. The labels are '1' and '0' respectively.\n",
    "\n"
   ]
  },
  {
   "cell_type": "code",
   "execution_count": 8,
   "metadata": {},
   "outputs": [],
   "source": [
    "#the paths\n",
    "dataTrainFilePaths = ['../examples/typeIII_secreted_effectors_prediction/data/train_pos.txt','../examples/typeIII_secreted_effectors_prediction/data/train_neg.txt']\n",
    "#the related labels\n",
    "dataTrainLabel = [1, 0]\n",
    "#a list for recording the DataLoader\n",
    "trainDataLoaders = []\n",
    "for i,dataPath in enumerate(dataTrainFilePaths):\n",
    "    #init\n",
    "    dataLoader = dataProcess.DataLoader(label = dataTrainLabel[i], featureGenerator=featureGenerator)\n",
    "    #file read\n",
    "    dataLoader.readFile(dataPath, spcLen = spcLen)\n",
    "    trainDataLoaders.append(dataLoader)"
   ]
  },
  {
   "cell_type": "markdown",
   "metadata": {},
   "source": [
    "<h4>2.2.1.3 DataSetCreator: merge different dataLoader</h4>\n",
    "\n",
    "After FASTA loading and encoding, now we can generate the matrix by merging the dataLoaders. The class ‘<b>DataSetCreator</b>’ is provided for the matrix merging and the necessary functions, such as sample shuffle and dataset split, are provided.\n",
    "\n",
    "<b>NOTE</b>: Since the DataSetCreator is able to merge different DataLoader no matter whether the label is the same or not, thus if you have multiple files with the same label, you don’t have to merge them by hand, just merger them here."
   ]
  },
  {
   "cell_type": "code",
   "execution_count": 9,
   "metadata": {},
   "outputs": [],
   "source": [
    "#init\n",
    "trainDataSetCreator = dataProcess.DataSetCreator(trainDataLoaders)"
   ]
  },
  {
   "cell_type": "markdown",
   "metadata": {},
   "source": [
    "Then we can generate the matrix by using the method 'DataSetCreator' if the test dataset is in other files. \n",
    "\n",
    "The parameter '<b>toSuffle</b>' is a switch to s"
   ]
  },
  {
   "cell_type": "code",
   "execution_count": 10,
   "metadata": {},
   "outputs": [],
   "source": [
    "#get dataset\n",
    "trainDataMat, trainLabelArr = trainDataSetCreator.getDataSet(toShuffle=True)"
   ]
  },
  {
   "cell_type": "markdown",
   "metadata": {},
   "source": [
    "We can have a look of the matrix and labels, all of them are numpy array."
   ]
  },
  {
   "cell_type": "code",
   "execution_count": 11,
   "metadata": {},
   "outputs": [
    {
     "name": "stdout",
     "output_type": "stream",
     "text": [
      "Matrix with shape 907 x 98:\n",
      "[[ 8244  3442  1615 ...  9872 10614 12326]\n",
      " [ 8356  6353  6999 ...    52  1356   104]\n",
      " [ 8123   288  7497 ...  7184 11042  5879]\n",
      " ...\n",
      " [ 8130   473 12316 ...  2954  6518 11300]\n",
      " [ 8234  3188 12600 ...  2704     1    42]\n",
      " [ 8148   952  7194 ... 10637 12924  2088]]\n",
      "\n",
      "\n",
      "The labels with length 907:\n",
      "[1 1 1 1 1 1 1 1 1 1 1 1 1 1 1 1 1 1 1 1 1 1 1 1 1 1 1 1 1 1 1 1 1 1 1 1 1\n",
      " 1 1 1 1 1 1 1 1 1 1 1 1 1 1 1 1 1 1 1 1 1 1 1 1 1 1 1 1 1 1 1 1 1 1 1 1 1\n",
      " 1 1 1 1 1 1 1 1 1 1 1 1 1 1 1 1 1 1 1 1 1 1 1 1 1 1 1 1 1 1 1 1 1 1 1 1 1\n",
      " 1 1 1 1 1 1 1 1 1 1 1 1 1 1 1 1 1 1 1 1 1 1 1 1 1 1 1 1 1 1 1 1 1 1 1 1 1\n",
      " 1 1 1 1 1 1 1 1 1 1 1 1 1 1 1 1 1 1 1 1 1 1 1 1 1 1 1 1 1 1 1 1 1 1 1 1 1\n",
      " 1 1 1 1 1 1 1 1 1 1 1 1 1 1 1 1 1 1 1 1 1 1 1 1 1 1 1 1 1 1 1 1 1 1 1 1 1\n",
      " 1 1 1 1 1 1 1 1 1 1 1 1 1 1 1 1 1 1 1 1 1 1 1 1 1 1 1 1 1 1 1 1 1 1 1 1 1\n",
      " 1 1 1 1 1 1 1 1 1 1 1 1 1 1 1 1 1 1 1 1 1 1 1 1 1 1 1 1 1 1 1 1 1 1 1 1 1\n",
      " 1 1 1 1 1 1 1 0 0 0 0 0 0 0 0 0 0 0 0 0 0 0 0 0 0 0 0 0 0 0 0 0 0 0 0 0 0\n",
      " 0 0 0 0 0 0 0 0 0 0 0 0 0 0 0 0 0 0 0 0 0 0 0 0 0 0 0 0 0 0 0 0 0 0 0 0 0\n",
      " 0 0 0 0 0 0 0 0 0 0 0 0 0 0 0 0 0 0 0 0 0 0 0 0 0 0 0 0 0 0 0 0 0 0 0 0 0\n",
      " 0 0 0 0 0 0 0 0 0 0 0 0 0 0 0 0 0 0 0 0 0 0 0 0 0 0 0 0 0 0 0 0 0 0 0 0 0\n",
      " 0 0 0 0 0 0 0 0 0 0 0 0 0 0 0 0 0 0 0 0 0 0 0 0 0 0 0 0 0 0 0 0 0 0 0 0 0\n",
      " 0 0 0 0 0 0 0 0 0 0 0 0 0 0 0 0 0 0 0 0 0 0 0 0 0 0 0 0 0 0 0 0 0 0 0 0 0\n",
      " 0 0 0 0 0 0 0 0 0 0 0 0 0 0 0 0 0 0 0 0 0 0 0 0 0 0 0 0 0 0 0 0 0 0 0 0 0\n",
      " 0 0 0 0 0 0 0 0 0 0 0 0 0 0 0 0 0 0 0 0 0 0 0 0 0 0 0 0 0 0 0 0 0 0 0 0 0\n",
      " 0 0 0 0 0 0 0 0 0 0 0 0 0 0 0 0 0 0 0 0 0 0 0 0 0 0 0 0 0 0 0 0 0 0 0 0 0\n",
      " 0 0 0 0 0 0 0 0 0 0 0 0 0 0 0 0 0 0 0 0 0 0 0 0 0 0 0 0 0 0 0 0 0 0 0 0 0\n",
      " 0 0 0 0 0 0 0 0 0 0 0 0 0 0 0 0 0 0 0 0 0 0 0 0 0 0 0 0 0 0 0 0 0 0 0 0 0\n",
      " 0 0 0 0 0 0 0 0 0 0 0 0 0 0 0 0 0 0 0 0 0 0 0 0 0 0 0 0 0 0 0 0 0 0 0 0 0\n",
      " 0 0 0 0 0 0 0 0 0 0 0 0 0 0 0 0 0 0 0 0 0 0 0 0 0 0 0 0 0 0 0 0 0 0 0 0 0\n",
      " 0 0 0 0 0 0 0 0 0 0 0 0 0 0 0 0 0 0 0 0 0 0 0 0 0 0 0 0 0 0 0 0 0 0 0 0 0\n",
      " 0 0 0 0 0 0 0 0 0 0 0 0 0 0 0 0 0 0 0 0 0 0 0 0 0 0 0 0 0 0 0 0 0 0 0 0 0\n",
      " 0 0 0 0 0 0 0 0 0 0 0 0 0 0 0 0 0 0 0 0 0 0 0 0 0 0 0 0 0 0 0 0 0 0 0 0 0\n",
      " 0 0 0 0 0 0 0 0 0 0 0 0 0 0 0 0 0 0 0]\n"
     ]
    }
   ],
   "source": [
    "print('Matrix with shape %d x %d:' %(trainDataMat.shape[0],trainDataMat.shape[1]))\n",
    "print(trainDataMat)\n",
    "print('\\n')\n",
    "print('The labels with length %d:' %(len(trainLabelArr)))\n",
    "print(trainLabelArr)"
   ]
  },
  {
   "cell_type": "markdown",
   "metadata": {},
   "source": [
    "Now with the use of featureGenerator, DataLoader and DataSetCreator, the dataset is generated. "
   ]
  },
  {
   "cell_type": "markdown",
   "metadata": {},
   "source": [
    "<h4>2.2.2 The same process for test data</h4>\n",
    "\n",
    "There are two way for generating the test data set: 1) from FASTA file or 2) from a built dataset."
   ]
  },
  {
   "cell_type": "markdown",
   "metadata": {},
   "source": [
    "<h5> 2.2.2.1 generate test dataset from other FASTA files</h5>\n",
    "\n",
    "Sometimes the test data if from another bath/experiment, in this case, just generate the test dataset in the same way when generating the training set.\n",
    "\n",
    "For example, in this notebook, we can load provided test data in folder ‘data/protein/test’.\n",
    "\n",
    "<b>NOTE</b>: <br>\n",
    "You can skip this subsection if you want to generate them by splitting.<br>\n",
    "The parameter <b>spcLen</b> and object <b>featureGenerator</b> should be the same.<br>\n",
    "And when generating the matrix, usually we don't have to shuffle the sample since it will not be used in training."
   ]
  },
  {
   "cell_type": "code",
   "execution_count": 12,
   "metadata": {},
   "outputs": [],
   "source": [
    "#the paths\n",
    "dataTestFilePaths = ['../examples/typeIII_secreted_effectors_prediction/data/test_pos.txt','../examples/typeIII_secreted_effectors_prediction/data/test_neg.txt']\n",
    "#the related labels\n",
    "dataTestLabel = [1, 0]\n",
    "#a list for recording the DataLoader\n",
    "testDataLoaders = []\n",
    "for i,dataPath in enumerate(dataTestFilePaths):\n",
    "    #init\n",
    "    dataLoader = dataProcess.DataLoader(label = dataTestLabel[i], featureGenerator=featureGenerator)\n",
    "    #file read\n",
    "    dataLoader.readFile(dataPath, spcLen = spcLen)\n",
    "    testDataLoaders.append(dataLoader)\n",
    "    \n",
    "testDataSetCreator = dataProcess.DataSetCreator(testDataLoaders)\n",
    "testDataMat, testLabelArr = testDataSetCreator.getDataSet(toShuffle=False)"
   ]
  },
  {
   "cell_type": "markdown",
   "metadata": {},
   "source": [
    "We can have a look as well"
   ]
  },
  {
   "cell_type": "code",
   "execution_count": 13,
   "metadata": {},
   "outputs": [
    {
     "name": "stdout",
     "output_type": "stream",
     "text": [
      "Matrix with shape 227 x 98:\n",
      "[[ 8539 11104  7505 ...  1363   291  7572]\n",
      " [ 8219  2784  2081 ...  6128  1150 12333]\n",
      " [ 8244  3442  1615 ...  9857 10224  2194]\n",
      " ...\n",
      " [ 8179  1745 10229 ...   911  6114   787]\n",
      " [ 8304  5009  7206 ...  7802  9530  1730]\n",
      " [ 8387  7167 10600 ...  5192 11963 12264]]\n",
      "\n",
      "\n",
      "The labels with length 227:\n",
      "[1 1 1 1 1 1 1 1 1 1 1 1 1 1 1 1 1 1 1 1 1 1 1 1 1 1 1 1 1 1 1 1 1 1 1 1 1\n",
      " 1 1 1 1 1 1 1 1 1 1 1 1 1 1 1 1 1 1 1 1 1 1 1 1 1 1 1 1 1 1 1 1 1 1 1 1 1\n",
      " 1 1 0 0 0 0 0 0 0 0 0 0 0 0 0 0 0 0 0 0 0 0 0 0 0 0 0 0 0 0 0 0 0 0 0 0 0\n",
      " 0 0 0 0 0 0 0 0 0 0 0 0 0 0 0 0 0 0 0 0 0 0 0 0 0 0 0 0 0 0 0 0 0 0 0 0 0\n",
      " 0 0 0 0 0 0 0 0 0 0 0 0 0 0 0 0 0 0 0 0 0 0 0 0 0 0 0 0 0 0 0 0 0 0 0 0 0\n",
      " 0 0 0 0 0 0 0 0 0 0 0 0 0 0 0 0 0 0 0 0 0 0 0 0 0 0 0 0 0 0 0 0 0 0 0 0 0\n",
      " 0 0 0 0 0]\n"
     ]
    }
   ],
   "source": [
    "print('Matrix with shape %d x %d:' %(testDataMat.shape[0],testDataMat.shape[1]))\n",
    "print(testDataMat)\n",
    "print('\\n')\n",
    "print('The labels with length %d:' %(len(testLabelArr)))\n",
    "print(testLabelArr)"
   ]
  },
  {
   "cell_type": "markdown",
   "metadata": {},
   "source": [
    "<h5> 2.2.2.2 Alternative: generate test dataset by spliting a built one</h5>\n",
    "\n",
    "Sometimes, we only have one dataset and all the samples in it could be used for either training or test. Thus <b>autoBioSeqpy</b> provided a way for splitting the dataset into two. \n",
    "\n",
    "The method is provided in class <b>DataSetCreator</b>. A new parameter <b>dataSplitScale</b> is provided to control the splitting ratio, if the '<b>dataSplitScale</b>' is 0.8, then the training dataset is 80% and the test dataset is 20% from the provided dataset.\n",
    "\n",
    "In this notebook, we use the <b>trainDataSetCreator</b> as the example.\n",
    "\n",
    "<b>NOTE</b>: This subsection is an alternative of section 2.2.2.1. You can choose one as you need."
   ]
  },
  {
   "cell_type": "code",
   "execution_count": 14,
   "metadata": {},
   "outputs": [],
   "source": [
    "dataSplitScale = 0.8\n",
    "trainDataMat, testDataMat, trainLabelArr, testLabelArr = trainDataSetCreator.getTrainTestSet(dataSplitScale, toShuffle=True)"
   ]
  },
  {
   "cell_type": "markdown",
   "metadata": {},
   "source": [
    "We can have a look as well"
   ]
  },
  {
   "cell_type": "code",
   "execution_count": 15,
   "metadata": {
    "scrolled": false
   },
   "outputs": [
    {
     "name": "stdout",
     "output_type": "stream",
     "text": [
      "Training:\n",
      "Matrix with shape 725 x 98:\n",
      "[[ 8566 11820  8532 ...  4097  1067 10169]\n",
      " [ 8249  3572  5001 ...   480 12483  8200]\n",
      " [ 8246  3494  2977 ...    27   711   926]\n",
      " ...\n",
      " [ 8199  2269  6267 ...  6173  2319  7571]\n",
      " [ 8571 11944 11766 ...  1720  9584  3123]\n",
      " [ 8258  3801 10948 ...  6087    78  2035]]\n",
      "\n",
      "\n",
      "The labels with length 725:\n",
      "[1 1 1 1 1 1 1 1 1 1 1 1 1 1 1 1 1 1 1 1 1 1 1 1 1 1 1 1 1 1 1 1 1 1 1 1 1\n",
      " 1 1 1 1 1 1 1 1 1 1 1 1 1 1 1 1 1 1 1 1 1 1 1 1 1 1 1 1 1 1 1 1 1 1 1 1 1\n",
      " 1 1 1 1 1 1 1 1 1 1 1 1 1 1 1 1 1 1 1 1 1 1 1 1 1 1 1 1 1 1 1 1 1 1 1 1 1\n",
      " 1 1 1 1 1 1 1 1 1 1 1 1 1 1 1 1 1 1 1 1 1 1 1 1 1 1 1 1 1 1 1 1 1 1 1 1 1\n",
      " 1 1 1 1 1 1 1 1 1 1 1 1 1 1 1 1 1 1 1 1 1 1 1 1 1 1 1 1 1 1 1 1 1 1 1 1 1\n",
      " 1 1 1 1 1 1 1 1 1 1 1 1 1 1 1 1 1 1 1 1 1 1 1 1 1 1 1 1 1 1 1 1 1 1 1 1 1\n",
      " 1 1 1 1 1 1 1 1 1 1 1 1 1 1 1 1 1 1 1 1 0 0 0 0 0 0 0 0 0 0 0 0 0 0 0 0 0\n",
      " 0 0 0 0 0 0 0 0 0 0 0 0 0 0 0 0 0 0 0 0 0 0 0 0 0 0 0 0 0 0 0 0 0 0 0 0 0\n",
      " 0 0 0 0 0 0 0 0 0 0 0 0 0 0 0 0 0 0 0 0 0 0 0 0 0 0 0 0 0 0 0 0 0 0 0 0 0\n",
      " 0 0 0 0 0 0 0 0 0 0 0 0 0 0 0 0 0 0 0 0 0 0 0 0 0 0 0 0 0 0 0 0 0 0 0 0 0\n",
      " 0 0 0 0 0 0 0 0 0 0 0 0 0 0 0 0 0 0 0 0 0 0 0 0 0 0 0 0 0 0 0 0 0 0 0 0 0\n",
      " 0 0 0 0 0 0 0 0 0 0 0 0 0 0 0 0 0 0 0 0 0 0 0 0 0 0 0 0 0 0 0 0 0 0 0 0 0\n",
      " 0 0 0 0 0 0 0 0 0 0 0 0 0 0 0 0 0 0 0 0 0 0 0 0 0 0 0 0 0 0 0 0 0 0 0 0 0\n",
      " 0 0 0 0 0 0 0 0 0 0 0 0 0 0 0 0 0 0 0 0 0 0 0 0 0 0 0 0 0 0 0 0 0 0 0 0 0\n",
      " 0 0 0 0 0 0 0 0 0 0 0 0 0 0 0 0 0 0 0 0 0 0 0 0 0 0 0 0 0 0 0 0 0 0 0 0 0\n",
      " 0 0 0 0 0 0 0 0 0 0 0 0 0 0 0 0 0 0 0 0 0 0 0 0 0 0 0 0 0 0 0 0 0 0 0 0 0\n",
      " 0 0 0 0 0 0 0 0 0 0 0 0 0 0 0 0 0 0 0 0 0 0 0 0 0 0 0 0 0 0 0 0 0 0 0 0 0\n",
      " 0 0 0 0 0 0 0 0 0 0 0 0 0 0 0 0 0 0 0 0 0 0 0 0 0 0 0 0 0 0 0 0 0 0 0 0 0\n",
      " 0 0 0 0 0 0 0 0 0 0 0 0 0 0 0 0 0 0 0 0 0 0 0 0 0 0 0 0 0 0 0 0 0 0 0 0 0\n",
      " 0 0 0 0 0 0 0 0 0 0 0 0 0 0 0 0 0 0 0 0 0 0]\n",
      "\n",
      "########################################################################################\n",
      "########################################################################################\n",
      "\n",
      "Testing:\n",
      "Matrix with shape 182 x 98:\n",
      "[[ 8244  3442  1615 ...  9872 10614 12326]\n",
      " [ 8255  3722  8904 ...  3054  9103  8207]\n",
      " [ 8586 12339  4447 ...   706   793  3045]\n",
      " ...\n",
      " [ 8352  6253  4404 ... 11082  6935  4560]\n",
      " [ 8494  9932 12172 ...  9465    32   847]\n",
      " [ 8348  6139  1444 ... 11198  9933 12197]]\n",
      "\n",
      "\n",
      "The labels with length 182:\n",
      "[1 1 1 1 1 1 1 1 1 1 1 1 1 1 1 1 1 1 1 1 1 1 1 1 1 1 1 1 1 1 1 1 1 1 1 1 1\n",
      " 1 1 1 1 1 1 1 1 1 1 1 1 1 1 1 1 1 1 1 1 1 1 1 1 0 0 0 0 0 0 0 0 0 0 0 0 0\n",
      " 0 0 0 0 0 0 0 0 0 0 0 0 0 0 0 0 0 0 0 0 0 0 0 0 0 0 0 0 0 0 0 0 0 0 0 0 0\n",
      " 0 0 0 0 0 0 0 0 0 0 0 0 0 0 0 0 0 0 0 0 0 0 0 0 0 0 0 0 0 0 0 0 0 0 0 0 0\n",
      " 0 0 0 0 0 0 0 0 0 0 0 0 0 0 0 0 0 0 0 0 0 0 0 0 0 0 0 0 0 0 0 0 0 0]\n"
     ]
    }
   ],
   "source": [
    "print('Training:')\n",
    "print('Matrix with shape %d x %d:' %(trainDataMat.shape[0],trainDataMat.shape[1]))\n",
    "print(trainDataMat)\n",
    "print('\\n')\n",
    "print('The labels with length %d:' %(len(trainLabelArr)))\n",
    "print(trainLabelArr)\n",
    "print('\\n########################################################################################')\n",
    "print('########################################################################################\\n')\n",
    "print('Testing:')\n",
    "print('Matrix with shape %d x %d:' %(testDataMat.shape[0],testDataMat.shape[1]))\n",
    "print(testDataMat)\n",
    "print('\\n')\n",
    "print('The labels with length %d:' %(len(testLabelArr)))\n",
    "print(testLabelArr)"
   ]
  },
  {
   "cell_type": "markdown",
   "metadata": {},
   "source": [
    "<h2>3. Data Modeling and Testing</h2>\n",
    "\n",
    "After the data generated in section 2, now the dataset is available for modeling. Since it is a matrix, the data could be used for not only deep learning but also other machine learning as well. \n",
    "\n",
    "Here we made a brief introduce by using <b>keras</b> for deep learning, and provided a traditional example by using random forest at last.\n",
    "\n",
    "\n"
   ]
  },
  {
   "cell_type": "markdown",
   "metadata": {},
   "source": [
    "<h3>3.1 Using keras for modeling</h3>\n",
    "\n",
    "<a href=https://keras.io/>Keras</a> is a high-level neural networks API, written in Python and capable of running on top of TensorFlow, CNTK, or Theano. \n",
    "\n",
    "Keras is useful for modeling the dataset by both 'dict' and 'onehot', but the neural network and related parameters should be set carefully.\n",
    "\n",
    "Few templates provided in the folder 'models', users could copy them directly and change few related parameters such as to make sure the shape of the data is the same as the kernel size of the first layer.\n",
    "\n",
    "In this notebook, since 'dict' is used as the encoding, the 1D neural network is a good choice for modeling, therefore, the model in 'model/CNN_Conv1D+GlobalMaxPooling.py'. Here the <b>maxlen</b> should be changed as the same with <b>spcLen</b>.\n",
    "\n",
    "Here are two ways for using the model, one is write (or copy/post) the code in the script directly, another one is read a built model (in .json format) by using our provided module."
   ]
  },
  {
   "cell_type": "markdown",
   "metadata": {},
   "source": [
    "<h3>3.1 building keras model directly</h3>"
   ]
  },
  {
   "cell_type": "markdown",
   "metadata": {},
   "source": [
    "<h4>3.1.1 model generating</h4>\n",
    "As mentioned before, users could write any code for building keras neural network, but should modify the parameters manually."
   ]
  },
  {
   "cell_type": "code",
   "execution_count": 14,
   "metadata": {},
   "outputs": [],
   "source": [
    "os.environ[\"CUDA_VISIBLE_DEVICES\"] = '-1' #force using CPU, comment it for using GPU"
   ]
  },
  {
   "cell_type": "code",
   "execution_count": 15,
   "metadata": {},
   "outputs": [
    {
     "name": "stderr",
     "output_type": "stream",
     "text": [
      "Using TensorFlow backend.\n"
     ]
    },
    {
     "name": "stdout",
     "output_type": "stream",
     "text": [
      "Building model...\n",
      "Model: \"sequential_1\"\n",
      "_________________________________________________________________\n",
      "Layer (type)                 Output Shape              Param #   \n",
      "=================================================================\n",
      "embedding_1 (Embedding)      (None, 98, 128)           2249728   \n",
      "_________________________________________________________________\n",
      "dropout_1 (Dropout)          (None, 98, 128)           0         \n",
      "_________________________________________________________________\n",
      "conv1d_1 (Conv1D)            (None, 96, 250)           96250     \n",
      "_________________________________________________________________\n",
      "global_max_pooling1d_1 (Glob (None, 250)               0         \n",
      "_________________________________________________________________\n",
      "dense_1 (Dense)              (None, 250)               62750     \n",
      "_________________________________________________________________\n",
      "dropout_2 (Dropout)          (None, 250)               0         \n",
      "_________________________________________________________________\n",
      "activation_1 (Activation)    (None, 250)               0         \n",
      "_________________________________________________________________\n",
      "dense_2 (Dense)              (None, 1)                 251       \n",
      "_________________________________________________________________\n",
      "activation_2 (Activation)    (None, 1)                 0         \n",
      "=================================================================\n",
      "Total params: 2,408,979\n",
      "Trainable params: 2,408,979\n",
      "Non-trainable params: 0\n",
      "_________________________________________________________________\n"
     ]
    }
   ],
   "source": [
    "from keras.models import Sequential\n",
    "from keras.layers import Dense, Dropout, Activation\n",
    "from keras.layers import Embedding\n",
    "from keras.layers import Conv1D, GlobalMaxPooling1D\n",
    "from keras import optimizers\n",
    "\n",
    "\n",
    "\n",
    "# set parameters:\n",
    "embedding_size = 128\n",
    "filters = 250\n",
    "kernel_size = 3\n",
    "hidden_dims = 250\n",
    "batch_size = 40\n",
    "epochs = 25\n",
    "\n",
    "#the parameter which need to modified\n",
    "if useKMer:\n",
    "    maxlen = spcLen - KMerNum + 1\n",
    "    max_features = 26 ** KMerNum\n",
    "\n",
    "else:\n",
    "    maxlen = spcLen\n",
    "    max_features = 26\n",
    "\n",
    "\n",
    "print('Building model...')\n",
    "model = Sequential()\n",
    "# we start off with an efficient embedding layer which maps amino acids\n",
    "# indices into embedding_dims dimensions\n",
    "model.add(Embedding(max_features, embedding_size, input_length = maxlen))\n",
    "model.add(Dropout(0.2))\n",
    "# we add a Convolution1D, which will learn filters word group filters of \n",
    "# size filter_length:\n",
    "model.add(Conv1D(filters,kernel_size,padding = 'valid',activation = 'relu',strides = 1))\n",
    "# we use max pooling:\n",
    "model.add(GlobalMaxPooling1D())\n",
    "# We add a vanilla hidden layer:\n",
    "model.add(Dense(hidden_dims))\n",
    "model.add(Dropout(0.2))\n",
    "model.add(Activation('relu'))\n",
    "# We project onto a single unit output layer, and squash it with a sigmoid:\n",
    "model.add(Dense(1))\n",
    "model.add(Activation('sigmoid'))\n",
    "\n",
    "model.compile(loss = 'binary_crossentropy',optimizer = optimizers.Adam(),metrics = ['acc'])\n",
    "\n",
    "model.summary()\n",
    "\n"
   ]
  },
  {
   "cell_type": "markdown",
   "metadata": {},
   "source": [
    "<h4>3.1.2 training</h4>\n",
    "After the model built, now the dataset is ready for training, keras provided a framework for the training phase, just use it for the training dataset.\n",
    "\n",
    "<b>NOTE</b>:<br>\n",
    "The parameters <b>batch_size</b> and <b>epochs</b> are defined above."
   ]
  },
  {
   "cell_type": "markdown",
   "metadata": {},
   "source": [
    "<h5>analysisPlot</h5>\n",
    "analysisPlot is a module provided for analyze the modeling process when using keras. We can import it easily since the search path is set before."
   ]
  },
  {
   "cell_type": "code",
   "execution_count": 16,
   "metadata": {},
   "outputs": [],
   "source": [
    "import analysisPlot"
   ]
  },
  {
   "cell_type": "code",
   "execution_count": 17,
   "metadata": {},
   "outputs": [
    {
     "name": "stderr",
     "output_type": "stream",
     "text": [
      "E:\\Anaconda3\\lib\\site-packages\\tensorflow_core\\python\\framework\\indexed_slices.py:433: UserWarning: Converting sparse IndexedSlices to a dense Tensor of unknown shape. This may consume a large amount of memory.\n",
      "  \"Converting sparse IndexedSlices to a dense Tensor of unknown shape. \"\n"
     ]
    },
    {
     "name": "stdout",
     "output_type": "stream",
     "text": [
      "Train on 816 samples, validate on 91 samples\n",
      "Epoch 1/25\n",
      "816/816 [==============================] - 1s 1ms/step - loss: 0.6700 - acc: 0.6189 - val_loss: 0.4953 - val_acc: 1.0000\n",
      "Epoch 2/25\n",
      "816/816 [==============================] - 1s 989us/step - loss: 0.6414 - acc: 0.6287 - val_loss: 0.4505 - val_acc: 1.0000\n",
      "Epoch 3/25\n",
      "816/816 [==============================] - 1s 1ms/step - loss: 0.6014 - acc: 0.6287 - val_loss: 0.4295 - val_acc: 1.0000\n",
      "Epoch 4/25\n",
      "816/816 [==============================] - 1s 1ms/step - loss: 0.4968 - acc: 0.7145 - val_loss: 0.2771 - val_acc: 0.9890\n",
      "Epoch 5/25\n",
      "816/816 [==============================] - 1s 1ms/step - loss: 0.2683 - acc: 0.9375 - val_loss: 0.3221 - val_acc: 0.9341\n",
      "Epoch 6/25\n",
      "816/816 [==============================] - 1s 1ms/step - loss: 0.0676 - acc: 0.9975 - val_loss: 0.2695 - val_acc: 0.9121\n",
      "Epoch 7/25\n",
      "816/816 [==============================] - 1s 1ms/step - loss: 0.0126 - acc: 1.0000 - val_loss: 0.2486 - val_acc: 0.8901\n",
      "Epoch 8/25\n",
      "816/816 [==============================] - 1s 989us/step - loss: 0.0045 - acc: 1.0000 - val_loss: 0.2410 - val_acc: 0.8901\n",
      "Epoch 9/25\n",
      "816/816 [==============================] - 1s 1000us/step - loss: 0.0025 - acc: 1.0000 - val_loss: 0.2571 - val_acc: 0.8791\n",
      "Epoch 10/25\n",
      "816/816 [==============================] - 1s 1ms/step - loss: 0.0014 - acc: 1.0000 - val_loss: 0.2751 - val_acc: 0.8681\n",
      "Epoch 11/25\n",
      "816/816 [==============================] - 1s 1ms/step - loss: 0.0010 - acc: 1.0000 - val_loss: 0.2730 - val_acc: 0.8681\n",
      "Epoch 12/25\n",
      "816/816 [==============================] - 1s 997us/step - loss: 7.7107e-04 - acc: 1.0000 - val_loss: 0.2892 - val_acc: 0.8681\n",
      "Epoch 13/25\n",
      "816/816 [==============================] - 1s 1ms/step - loss: 6.3655e-04 - acc: 1.0000 - val_loss: 0.2786 - val_acc: 0.8681\n",
      "Epoch 14/25\n",
      "816/816 [==============================] - 1s 1000us/step - loss: 4.9978e-04 - acc: 1.0000 - val_loss: 0.2991 - val_acc: 0.8681\n",
      "Epoch 15/25\n",
      "816/816 [==============================] - 1s 995us/step - loss: 4.1750e-04 - acc: 1.0000 - val_loss: 0.2850 - val_acc: 0.8681\n",
      "Epoch 16/25\n",
      "816/816 [==============================] - 1s 1000us/step - loss: 2.9063e-04 - acc: 1.0000 - val_loss: 0.2994 - val_acc: 0.8681\n",
      "Epoch 17/25\n",
      "816/816 [==============================] - 1s 1ms/step - loss: 2.6184e-04 - acc: 1.0000 - val_loss: 0.2943 - val_acc: 0.8681\n",
      "Epoch 18/25\n",
      "816/816 [==============================] - 1s 1ms/step - loss: 2.4216e-04 - acc: 1.0000 - val_loss: 0.3330 - val_acc: 0.8571\n",
      "Epoch 19/25\n",
      "816/816 [==============================] - 1s 1ms/step - loss: 1.8462e-04 - acc: 1.0000 - val_loss: 0.3116 - val_acc: 0.8681\n",
      "Epoch 20/25\n",
      "816/816 [==============================] - 1s 1ms/step - loss: 1.8670e-04 - acc: 1.0000 - val_loss: 0.2981 - val_acc: 0.8681\n",
      "Epoch 21/25\n",
      "816/816 [==============================] - 1s 992us/step - loss: 1.5267e-04 - acc: 1.0000 - val_loss: 0.3433 - val_acc: 0.8571\n",
      "Epoch 22/25\n",
      "816/816 [==============================] - 1s 996us/step - loss: 1.2529e-04 - acc: 1.0000 - val_loss: 0.3439 - val_acc: 0.8571\n",
      "Epoch 23/25\n",
      "816/816 [==============================] - 1s 1ms/step - loss: 1.0291e-04 - acc: 1.0000 - val_loss: 0.3437 - val_acc: 0.8571\n",
      "Epoch 24/25\n",
      "816/816 [==============================] - 1s 1ms/step - loss: 9.3598e-05 - acc: 1.0000 - val_loss: 0.3393 - val_acc: 0.8571\n",
      "Epoch 25/25\n",
      "816/816 [==============================] - 1s 1ms/step - loss: 8.9144e-05 - acc: 1.0000 - val_loss: 0.3382 - val_acc: 0.8681\n"
     ]
    },
    {
     "data": {
      "text/plain": [
       "<keras.callbacks.callbacks.History at 0x2258ee6f4c8>"
      ]
     },
     "execution_count": 17,
     "metadata": {},
     "output_type": "execute_result"
    }
   ],
   "source": [
    "history = analysisPlot.LossHistory()\n",
    "model.fit(trainDataMat, trainLabelArr,batch_size = batch_size,epochs = epochs,validation_split = 0.1,callbacks = [history])\n"
   ]
  },
  {
   "cell_type": "markdown",
   "metadata": {},
   "source": [
    "<h4>3.1.3 testing and output analysis</h4>\n",
    "The frame for predicting is provided by keras as well, therefore we can make the predict as well."
   ]
  },
  {
   "cell_type": "code",
   "execution_count": 18,
   "metadata": {},
   "outputs": [],
   "source": [
    "predicted_Probability = model.predict(testDataMat)\n",
    "prediction = model.predict_classes(testDataMat)"
   ]
  },
  {
   "cell_type": "markdown",
   "metadata": {},
   "source": [
    "<h4>3.1.4 showing modeling figures and predicting preference</h4>\n",
    "\n",
    "Usually users would like to know the predicting performance, therefore the related function is provided as well.\n",
    "\n",
    "Users could get how the loss changes as the epoch increasing, and some metrices (ACC, Recall, MCC...) as well.\n",
    "\n",
    "All the figure is available for save by change the parameter <b>savePath</b> to a real path."
   ]
  },
  {
   "cell_type": "markdown",
   "metadata": {},
   "source": [
    "This time the metrices are available in sklearn, import them at first."
   ]
  },
  {
   "cell_type": "code",
   "execution_count": 19,
   "metadata": {},
   "outputs": [],
   "source": [
    "from sklearn.metrics import accuracy_score,f1_score,roc_auc_score,recall_score,precision_score,confusion_matrix,matthews_corrcoef,auc,roc_curve"
   ]
  },
  {
   "cell_type": "markdown",
   "metadata": {},
   "source": [
    "<h5>The change of loss</h5>"
   ]
  },
  {
   "cell_type": "code",
   "execution_count": 20,
   "metadata": {},
   "outputs": [
    {
     "data": {
      "image/png": "[encoded data removed]",
      "text/plain": [
       "<Figure size 432x288 with 1 Axes>"
      ]
     },
     "metadata": {
      "needs_background": "light"
     },
     "output_type": "display_data"
    }
   ],
   "source": [
    "history.loss_plot('epoch',showFig=True,savePath=None)"
   ]
  },
  {
   "cell_type": "markdown",
   "metadata": {},
   "source": [
    "<h5>confusion matrix and related metrices</h5>"
   ]
  },
  {
   "cell_type": "code",
   "execution_count": 21,
   "metadata": {},
   "outputs": [
    {
     "name": "stdout",
     "output_type": "stream",
     "text": [
      "[[138  13]\n",
      " [ 24  52]]\n",
      "ACC: 0.837004 \n",
      "F1: 0.737589 \n",
      "Recall: 0.684211 \n",
      "Pre: 0.800000 \n",
      "MCC: 0.624407 \n",
      "AUC: 0.901534 \n"
     ]
    }
   ],
   "source": [
    "cm=confusion_matrix(testLabelArr,prediction)\n",
    "print(cm)\n",
    "print(\"ACC: %f \"%accuracy_score(testLabelArr,prediction))\n",
    "print(\"F1: %f \"%f1_score(testLabelArr,prediction))\n",
    "print(\"Recall: %f \"%recall_score(testLabelArr,prediction))\n",
    "print(\"Pre: %f \"%precision_score(testLabelArr,prediction))\n",
    "print(\"MCC: %f \"%matthews_corrcoef(testLabelArr,prediction))\n",
    "fpr,tpr,threshold = roc_curve(testLabelArr, predicted_Probability)\n",
    "auc_roc = auc(fpr,tpr)\n",
    "print(\"AUC: %f \"%auc_roc)"
   ]
  },
  {
   "cell_type": "markdown",
   "metadata": {},
   "source": [
    "<h5>ROC curve</h5>"
   ]
  },
  {
   "cell_type": "code",
   "execution_count": 22,
   "metadata": {
    "scrolled": false
   },
   "outputs": [
    {
     "data": {
      "text/plain": [
       "<Figure size 432x288 with 0 Axes>"
      ]
     },
     "metadata": {},
     "output_type": "display_data"
    },
    {
     "data": {
      "image/png": "[encoded data removed]",
      "text/plain": [
       "<Figure size 576x576 with 1 Axes>"
      ]
     },
     "metadata": {
      "needs_background": "light"
     },
     "output_type": "display_data"
    }
   ],
   "source": [
    "analysisPlot.plotROC(testLabelArr,predicted_Probability,showFig=True,savePath=None)"
   ]
  },
  {
   "cell_type": "markdown",
   "metadata": {},
   "source": [
    "<h4>3.1.5 Save/Load a module (optional) </h4>\n",
    "\n",
    "As mentioned before, keras is able to save a built model and read it again, it is available for establish a model without the data or using it for transfer learning. \n",
    "\n",
    "Therefore, a shor part of the code (i.e. in our module 'moduleRead') is provided here for implement this function. "
   ]
  },
  {
   "cell_type": "markdown",
   "metadata": {},
   "source": [
    "<h5>Model save</h5>\n",
    "Not only the module, but also the weight could be saved."
   ]
  },
  {
   "cell_type": "code",
   "execution_count": 23,
   "metadata": {},
   "outputs": [],
   "source": [
    "modelSavePath = './tmpModel.json'\n",
    "weightSavePath = './tmpWeight.bin'"
   ]
  },
  {
   "cell_type": "code",
   "execution_count": 24,
   "metadata": {},
   "outputs": [],
   "source": [
    "model_json = model.to_json()\n",
    "with open(modelSavePath, \"w\") as json_file:\n",
    "    json_file.write(model_json)\n",
    "model.save_weights(weightSavePath)"
   ]
  },
  {
   "cell_type": "markdown",
   "metadata": {},
   "source": [
    "<h5>Model Load</h5>"
   ]
  },
  {
   "cell_type": "code",
   "execution_count": 25,
   "metadata": {},
   "outputs": [],
   "source": [
    "from keras.models import model_from_json"
   ]
  },
  {
   "cell_type": "code",
   "execution_count": 26,
   "metadata": {},
   "outputs": [],
   "source": [
    "json_file = open(modelSavePath, 'r')\n",
    "loaded_model_json = json_file.read()\n",
    "json_file.close()\n",
    "loaded_model = model_from_json(loaded_model_json)\n",
    "if not weightSavePath is None:\n",
    "    loaded_model.load_weights(weightSavePath)"
   ]
  },
  {
   "cell_type": "markdown",
   "metadata": {},
   "source": [
    "Sometimes a loaded model should be recompiled before training"
   ]
  },
  {
   "cell_type": "code",
   "execution_count": 27,
   "metadata": {},
   "outputs": [
    {
     "name": "stdout",
     "output_type": "stream",
     "text": [
      "Model: \"sequential_1\"\n",
      "_________________________________________________________________\n",
      "Layer (type)                 Output Shape              Param #   \n",
      "=================================================================\n",
      "embedding_1 (Embedding)      (None, 98, 128)           2249728   \n",
      "_________________________________________________________________\n",
      "dropout_1 (Dropout)          (None, 98, 128)           0         \n",
      "_________________________________________________________________\n",
      "conv1d_1 (Conv1D)            (None, 96, 250)           96250     \n",
      "_________________________________________________________________\n",
      "global_max_pooling1d_1 (Glob (None, 250)               0         \n",
      "_________________________________________________________________\n",
      "dense_1 (Dense)              (None, 250)               62750     \n",
      "_________________________________________________________________\n",
      "dropout_2 (Dropout)          (None, 250)               0         \n",
      "_________________________________________________________________\n",
      "activation_1 (Activation)    (None, 250)               0         \n",
      "_________________________________________________________________\n",
      "dense_2 (Dense)              (None, 1)                 251       \n",
      "_________________________________________________________________\n",
      "activation_2 (Activation)    (None, 1)                 0         \n",
      "=================================================================\n",
      "Total params: 2,408,979\n",
      "Trainable params: 2,408,979\n",
      "Non-trainable params: 0\n",
      "_________________________________________________________________\n"
     ]
    }
   ],
   "source": [
    "model = loaded_model\n",
    "model.compile(loss = 'binary_crossentropy',optimizer = optimizers.Adam(),metrics = ['acc'])\n",
    "model.summary()"
   ]
  },
  {
   "cell_type": "markdown",
   "metadata": {},
   "source": [
    "And then, you can use the loaded model for training/predict as you want."
   ]
  },
  {
   "cell_type": "markdown",
   "metadata": {},
   "source": [
    "<h3>3.2 pre-trained embedding (Alternative of 3.1)</h3>\n",
    "In bio-sequence modeling, usually only the training set will be used for model training, but sometimes users would like to make some global normalizing before it. \n",
    "\n",
    "Therefore, here we provided an alternative way for making the embedding for the overall dataset before the formal training."
   ]
  },
  {
   "cell_type": "markdown",
   "metadata": {},
   "source": [
    "<h4>3.2.1 Embedding layer preparing</h4>\n",
    "Firstly, we provide a model, the construction could be simpler than the formal one."
   ]
  },
  {
   "cell_type": "code",
   "execution_count": 28,
   "metadata": {},
   "outputs": [
    {
     "name": "stdout",
     "output_type": "stream",
     "text": [
      "Building model...\n",
      "Model: \"sequential_2\"\n",
      "_________________________________________________________________\n",
      "Layer (type)                 Output Shape              Param #   \n",
      "=================================================================\n",
      "embedding_2 (Embedding)      (None, 98, 128)           2249728   \n",
      "_________________________________________________________________\n",
      "conv1d_2 (Conv1D)            (None, 96, 250)           96250     \n",
      "_________________________________________________________________\n",
      "global_max_pooling1d_2 (Glob (None, 250)               0         \n",
      "_________________________________________________________________\n",
      "dense_3 (Dense)              (None, 1)                 251       \n",
      "_________________________________________________________________\n",
      "activation_3 (Activation)    (None, 1)                 0         \n",
      "=================================================================\n",
      "Total params: 2,346,229\n",
      "Trainable params: 2,346,229\n",
      "Non-trainable params: 0\n",
      "_________________________________________________________________\n"
     ]
    }
   ],
   "source": [
    "from keras.models import Sequential\n",
    "from keras.layers import Dense, Dropout, Activation\n",
    "from keras.layers import Embedding\n",
    "from keras.layers import Conv1D, GlobalMaxPooling1D\n",
    "from keras import optimizers\n",
    "\n",
    "\n",
    "\n",
    "\n",
    "# set parameters:\n",
    "embedding_size = 128\n",
    "filters = 250\n",
    "kernel_size = 3\n",
    "hidden_dims = 250\n",
    "batch_size = 40\n",
    "epochs = 25\n",
    "\n",
    "#the parameter which need to modified\n",
    "if useKMer:\n",
    "    maxlen = spcLen - KMerNum + 1\n",
    "    max_features = 26 ** KMerNum\n",
    "\n",
    "else:\n",
    "    maxlen = spcLen\n",
    "    max_features = 26\n",
    "\n",
    "print('Building model...')\n",
    "preModel = Sequential()\n",
    "# we start off with an efficient embedding layer which maps amino acids\n",
    "# indices into embedding_dims dimensions\n",
    "preModel.add(Embedding(max_features, embedding_size, input_length = maxlen))\n",
    "\n",
    "\n",
    "preModel.add(Conv1D(filters,kernel_size,padding = 'valid',activation = 'relu',strides = 1))\n",
    "# we use max pooling:\n",
    "preModel.add(GlobalMaxPooling1D())\n",
    "# We add a vanilla hidden layer:\n",
    "\n",
    "preModel.add(Dense(1))\n",
    "preModel.add(Activation('sigmoid'))\n",
    "\n",
    "preModel.compile(loss = 'binary_crossentropy',optimizer = optimizers.Adam(),metrics = ['acc'])\n",
    "\n",
    "preModel.summary()\n"
   ]
  },
  {
   "cell_type": "markdown",
   "metadata": {},
   "source": [
    "<h4>3.2.2 Generating the overall dataset and fitting</h4>\n",
    "The generating is to concatenate the training and testing dataset. The training (fitting) will be launched afterwards."
   ]
  },
  {
   "cell_type": "code",
   "execution_count": 29,
   "metadata": {},
   "outputs": [],
   "source": [
    "import analysisPlot"
   ]
  },
  {
   "cell_type": "code",
   "execution_count": 30,
   "metadata": {},
   "outputs": [
    {
     "name": "stdout",
     "output_type": "stream",
     "text": [
      "(1134, 98) (1134,)\n"
     ]
    }
   ],
   "source": [
    "overallDataMat = np.concatenate([trainDataMat,testDataMat])\n",
    "overallLabel = np.concatenate([trainLabelArr,testLabelArr])\n",
    "print(overallDataMat.shape, overallLabel.shape)"
   ]
  },
  {
   "cell_type": "code",
   "execution_count": 31,
   "metadata": {
    "scrolled": true
   },
   "outputs": [
    {
     "name": "stderr",
     "output_type": "stream",
     "text": [
      "E:\\Anaconda3\\lib\\site-packages\\tensorflow_core\\python\\framework\\indexed_slices.py:433: UserWarning: Converting sparse IndexedSlices to a dense Tensor of unknown shape. This may consume a large amount of memory.\n",
      "  \"Converting sparse IndexedSlices to a dense Tensor of unknown shape. \"\n"
     ]
    },
    {
     "name": "stdout",
     "output_type": "stream",
     "text": [
      "Train on 1020 samples, validate on 114 samples\n",
      "Epoch 1/25\n",
      "1020/1020 [==============================] - 1s 1ms/step - loss: 0.6594 - acc: 0.6284 - val_loss: 0.4205 - val_acc: 1.0000\n",
      "Epoch 2/25\n",
      "1020/1020 [==============================] - 1s 923us/step - loss: 0.5833 - acc: 0.6284 - val_loss: 0.4347 - val_acc: 1.0000\n",
      "Epoch 3/25\n",
      "1020/1020 [==============================] - 1s 934us/step - loss: 0.4940 - acc: 0.7147 - val_loss: 0.4172 - val_acc: 0.9912\n",
      "Epoch 4/25\n",
      "1020/1020 [==============================] - 1s 948us/step - loss: 0.3619 - acc: 0.9461 - val_loss: 0.3550 - val_acc: 0.9737\n",
      "Epoch 5/25\n",
      "1020/1020 [==============================] - 1s 929us/step - loss: 0.2202 - acc: 0.9775 - val_loss: 0.2973 - val_acc: 0.9649\n",
      "Epoch 6/25\n",
      "1020/1020 [==============================] - 1s 921us/step - loss: 0.1088 - acc: 0.9971 - val_loss: 0.2031 - val_acc: 0.9649\n",
      "Epoch 7/25\n",
      "1020/1020 [==============================] - 1s 919us/step - loss: 0.0466 - acc: 1.0000 - val_loss: 0.1599 - val_acc: 0.9474\n",
      "Epoch 8/25\n",
      "1020/1020 [==============================] - 1s 923us/step - loss: 0.0208 - acc: 1.0000 - val_loss: 0.1640 - val_acc: 0.9386\n",
      "Epoch 9/25\n",
      "1020/1020 [==============================] - 1s 943us/step - loss: 0.0110 - acc: 1.0000 - val_loss: 0.1493 - val_acc: 0.9474\n",
      "Epoch 10/25\n",
      "1020/1020 [==============================] - 1s 917us/step - loss: 0.0066 - acc: 1.0000 - val_loss: 0.1515 - val_acc: 0.9474\n",
      "Epoch 11/25\n",
      "1020/1020 [==============================] - 1s 916us/step - loss: 0.0045 - acc: 1.0000 - val_loss: 0.1524 - val_acc: 0.9474\n",
      "Epoch 12/25\n",
      "1020/1020 [==============================] - 1s 920us/step - loss: 0.0032 - acc: 1.0000 - val_loss: 0.1554 - val_acc: 0.9474\n",
      "Epoch 13/25\n",
      "1020/1020 [==============================] - 1s 924us/step - loss: 0.0024 - acc: 1.0000 - val_loss: 0.1586 - val_acc: 0.9474\n",
      "Epoch 14/25\n",
      "1020/1020 [==============================] - 1s 937us/step - loss: 0.0019 - acc: 1.0000 - val_loss: 0.1611 - val_acc: 0.9474\n",
      "Epoch 15/25\n",
      "1020/1020 [==============================] - 1s 922us/step - loss: 0.0015 - acc: 1.0000 - val_loss: 0.1642 - val_acc: 0.9474\n",
      "Epoch 16/25\n",
      "1020/1020 [==============================] - 1s 912us/step - loss: 0.0013 - acc: 1.0000 - val_loss: 0.1685 - val_acc: 0.9474\n",
      "Epoch 17/25\n",
      "1020/1020 [==============================] - 1s 915us/step - loss: 0.0011 - acc: 1.0000 - val_loss: 0.1723 - val_acc: 0.9386\n",
      "Epoch 18/25\n",
      "1020/1020 [==============================] - 1s 913us/step - loss: 8.9912e-04 - acc: 1.0000 - val_loss: 0.1748 - val_acc: 0.9386\n",
      "Epoch 19/25\n",
      "1020/1020 [==============================] - 1s 920us/step - loss: 7.7616e-04 - acc: 1.0000 - val_loss: 0.1771 - val_acc: 0.9386\n",
      "Epoch 20/25\n",
      "1020/1020 [==============================] - 1s 931us/step - loss: 6.7308e-04 - acc: 1.0000 - val_loss: 0.1809 - val_acc: 0.9386\n",
      "Epoch 21/25\n",
      "1020/1020 [==============================] - 1s 916us/step - loss: 5.9313e-04 - acc: 1.0000 - val_loss: 0.1834 - val_acc: 0.9386\n",
      "Epoch 22/25\n",
      "1020/1020 [==============================] - 1s 919us/step - loss: 5.2477e-04 - acc: 1.0000 - val_loss: 0.1845 - val_acc: 0.9386\n",
      "Epoch 23/25\n",
      "1020/1020 [==============================] - 1s 915us/step - loss: 4.6836e-04 - acc: 1.0000 - val_loss: 0.1875 - val_acc: 0.9386\n",
      "Epoch 24/25\n",
      "1020/1020 [==============================] - 1s 911us/step - loss: 4.2048e-04 - acc: 1.0000 - val_loss: 0.1904 - val_acc: 0.9298\n",
      "Epoch 25/25\n",
      "1020/1020 [==============================] - 1s 930us/step - loss: 3.7935e-04 - acc: 1.0000 - val_loss: 0.1922 - val_acc: 0.9298\n"
     ]
    },
    {
     "data": {
      "text/plain": [
       "<keras.callbacks.callbacks.History at 0x2258aa08888>"
      ]
     },
     "execution_count": 31,
     "metadata": {},
     "output_type": "execute_result"
    }
   ],
   "source": [
    "history = analysisPlot.LossHistory()\n",
    "preModel.fit(overallDataMat, overallLabel,batch_size = batch_size,epochs = epochs,validation_split = 0.1,callbacks = [history])"
   ]
  },
  {
   "cell_type": "markdown",
   "metadata": {},
   "source": [
    "<h4>3.2.4 Extracting the embedded datasets</h4>"
   ]
  },
  {
   "cell_type": "markdown",
   "metadata": {},
   "source": [
    "Firstly, printing the name of the layers."
   ]
  },
  {
   "cell_type": "code",
   "execution_count": 32,
   "metadata": {},
   "outputs": [
    {
     "name": "stdout",
     "output_type": "stream",
     "text": [
      "embedding_2\n",
      "conv1d_2\n",
      "global_max_pooling1d_2\n",
      "dense_3\n",
      "activation_3\n"
     ]
    }
   ],
   "source": [
    "for l in preModel.layers:\n",
    "    print(l.name)"
   ]
  },
  {
   "cell_type": "markdown",
   "metadata": {},
   "source": [
    "The embedding layer is the first layer, thus we could make a sub-layer as follows:"
   ]
  },
  {
   "cell_type": "code",
   "execution_count": 33,
   "metadata": {},
   "outputs": [
    {
     "name": "stdout",
     "output_type": "stream",
     "text": [
      "Model: \"model_1\"\n",
      "_________________________________________________________________\n",
      "Layer (type)                 Output Shape              Param #   \n",
      "=================================================================\n",
      "embedding_2_input (InputLaye (None, 98)                0         \n",
      "_________________________________________________________________\n",
      "embedding_2 (Embedding)      (None, 98, 128)           2249728   \n",
      "=================================================================\n",
      "Total params: 2,249,728\n",
      "Trainable params: 2,249,728\n",
      "Non-trainable params: 0\n",
      "_________________________________________________________________\n"
     ]
    }
   ],
   "source": [
    "from keras.models import Model\n",
    "subPreModel = Model(inputs=preModel.input,outputs=preModel.layers[0].output)\n",
    "subPreModel.summary()"
   ]
  },
  {
   "cell_type": "markdown",
   "metadata": {},
   "source": [
    "Since the weights were trained before, the embedded dataset could be extracted directly."
   ]
  },
  {
   "cell_type": "code",
   "execution_count": 34,
   "metadata": {},
   "outputs": [
    {
     "name": "stdout",
     "output_type": "stream",
     "text": [
      "(1134, 98, 128)\n"
     ]
    }
   ],
   "source": [
    "embeddedDataMat = subPreModel.predict(overallDataMat)\n",
    "print(embeddedDataMat.shape)"
   ]
  },
  {
   "cell_type": "markdown",
   "metadata": {},
   "source": [
    "Splitting the datasets."
   ]
  },
  {
   "cell_type": "code",
   "execution_count": 35,
   "metadata": {},
   "outputs": [
    {
     "name": "stdout",
     "output_type": "stream",
     "text": [
      "(907, 98) (907, 98, 128)\n",
      "(227, 98) (227, 98, 128)\n"
     ]
    }
   ],
   "source": [
    "embeddedTrainDataMat = embeddedDataMat[:trainDataMat.shape[0],:,:]\n",
    "embeddedTestDataMat = embeddedDataMat[trainDataMat.shape[0]:,:,:]\n",
    "print(trainDataMat.shape, embeddedTrainDataMat.shape)\n",
    "print(testDataMat.shape, embeddedTestDataMat.shape)"
   ]
  },
  {
   "cell_type": "markdown",
   "metadata": {},
   "source": [
    "<h4>3.2.4 Training with the embedded datamats</h4>\n",
    "Now the datasets are ready, the only thing is to build a new model for training.\n",
    "\n",
    "Be ware to replace the embedding layer to a pure input layer since the embedding is already done."
   ]
  },
  {
   "cell_type": "code",
   "execution_count": 36,
   "metadata": {},
   "outputs": [
    {
     "name": "stdout",
     "output_type": "stream",
     "text": [
      "Building model...\n",
      "Model: \"sequential_3\"\n",
      "_________________________________________________________________\n",
      "Layer (type)                 Output Shape              Param #   \n",
      "=================================================================\n",
      "dropout_3 (Dropout)          (None, 98, 128)           0         \n",
      "_________________________________________________________________\n",
      "conv1d_3 (Conv1D)            (None, 96, 250)           96250     \n",
      "_________________________________________________________________\n",
      "global_max_pooling1d_3 (Glob (None, 250)               0         \n",
      "_________________________________________________________________\n",
      "dense_4 (Dense)              (None, 250)               62750     \n",
      "_________________________________________________________________\n",
      "dropout_4 (Dropout)          (None, 250)               0         \n",
      "_________________________________________________________________\n",
      "activation_4 (Activation)    (None, 250)               0         \n",
      "_________________________________________________________________\n",
      "dense_5 (Dense)              (None, 1)                 251       \n",
      "_________________________________________________________________\n",
      "activation_5 (Activation)    (None, 1)                 0         \n",
      "=================================================================\n",
      "Total params: 159,251\n",
      "Trainable params: 159,251\n",
      "Non-trainable params: 0\n",
      "_________________________________________________________________\n"
     ]
    }
   ],
   "source": [
    "from keras.models import Sequential\n",
    "from keras.layers import Dense, Dropout, Activation\n",
    "from keras.layers import Embedding, InputLayer\n",
    "from keras.layers import Conv1D, GlobalMaxPooling1D\n",
    "from keras import optimizers\n",
    "\n",
    "\n",
    "\n",
    "# set parameters:\n",
    "embedding_size = 128\n",
    "filters = 250\n",
    "kernel_size = 3\n",
    "hidden_dims = 250\n",
    "batch_size = 40\n",
    "epochs = 25\n",
    "\n",
    "#the parameter which need to modified\n",
    "if useKMer:\n",
    "    maxlen = spcLen - KMerNum + 1\n",
    "    max_features = 26 ** KMerNum\n",
    "\n",
    "else:\n",
    "    maxlen = spcLen\n",
    "    max_features = 26\n",
    "\n",
    "\n",
    "print('Building model...')\n",
    "model = Sequential()\n",
    "model.add(InputLayer(input_shape=embeddedTrainDataMat.shape[1:]))\n",
    "\n",
    "\n",
    "model.add(Dropout(0.2))\n",
    "# we add a Convolution1D, which will learn filters word group filters of \n",
    "# size filter_length:\n",
    "model.add(Conv1D(filters,kernel_size,padding = 'valid',activation = 'relu',strides = 1))\n",
    "# we use max pooling:\n",
    "model.add(GlobalMaxPooling1D())\n",
    "# We add a vanilla hidden layer:\n",
    "model.add(Dense(hidden_dims))\n",
    "model.add(Dropout(0.2))\n",
    "model.add(Activation('relu'))\n",
    "# We project onto a single unit output layer, and squash it with a sigmoid:\n",
    "model.add(Dense(1))\n",
    "model.add(Activation('sigmoid'))\n",
    "\n",
    "model.compile(loss = 'binary_crossentropy',optimizer = optimizers.Adam(),metrics = ['acc'])\n",
    "\n",
    "model.summary()\n",
    "\n"
   ]
  },
  {
   "cell_type": "code",
   "execution_count": 37,
   "metadata": {
    "scrolled": true
   },
   "outputs": [
    {
     "name": "stdout",
     "output_type": "stream",
     "text": [
      "Train on 816 samples, validate on 91 samples\n",
      "Epoch 1/25\n",
      "816/816 [==============================] - 0s 592us/step - loss: 0.5203 - acc: 0.7586 - val_loss: 0.1639 - val_acc: 1.0000\n",
      "Epoch 2/25\n",
      "816/816 [==============================] - 0s 386us/step - loss: 0.1014 - acc: 1.0000 - val_loss: 0.0076 - val_acc: 1.0000\n",
      "Epoch 3/25\n",
      "816/816 [==============================] - 0s 385us/step - loss: 0.0077 - acc: 1.0000 - val_loss: 0.0030 - val_acc: 1.0000\n",
      "Epoch 4/25\n",
      "816/816 [==============================] - 0s 386us/step - loss: 0.0025 - acc: 1.0000 - val_loss: 0.0020 - val_acc: 1.0000\n",
      "Epoch 5/25\n",
      "816/816 [==============================] - 0s 385us/step - loss: 0.0015 - acc: 1.0000 - val_loss: 0.0015 - val_acc: 1.0000\n",
      "Epoch 6/25\n",
      "816/816 [==============================] - 0s 396us/step - loss: 9.5049e-04 - acc: 1.0000 - val_loss: 0.0013 - val_acc: 1.0000\n",
      "Epoch 7/25\n",
      "816/816 [==============================] - 0s 390us/step - loss: 8.1379e-04 - acc: 1.0000 - val_loss: 8.6033e-04 - val_acc: 1.0000\n",
      "Epoch 8/25\n",
      "816/816 [==============================] - 0s 391us/step - loss: 7.3207e-04 - acc: 1.0000 - val_loss: 0.0012 - val_acc: 1.0000\n",
      "Epoch 9/25\n",
      "816/816 [==============================] - 0s 385us/step - loss: 4.4085e-04 - acc: 1.0000 - val_loss: 9.8593e-04 - val_acc: 1.0000\n",
      "Epoch 10/25\n",
      "816/816 [==============================] - 0s 393us/step - loss: 3.3350e-04 - acc: 1.0000 - val_loss: 6.0680e-04 - val_acc: 1.0000\n",
      "Epoch 11/25\n",
      "816/816 [==============================] - 0s 397us/step - loss: 2.7092e-04 - acc: 1.0000 - val_loss: 4.2717e-04 - val_acc: 1.0000\n",
      "Epoch 12/25\n",
      "816/816 [==============================] - 0s 423us/step - loss: 1.9497e-04 - acc: 1.0000 - val_loss: 4.4197e-04 - val_acc: 1.0000\n",
      "Epoch 13/25\n",
      "816/816 [==============================] - 0s 417us/step - loss: 1.9726e-04 - acc: 1.0000 - val_loss: 4.0426e-04 - val_acc: 1.0000\n",
      "Epoch 14/25\n",
      "816/816 [==============================] - 0s 388us/step - loss: 1.7182e-04 - acc: 1.0000 - val_loss: 3.9782e-04 - val_acc: 1.0000\n",
      "Epoch 15/25\n",
      "816/816 [==============================] - 0s 391us/step - loss: 1.3278e-04 - acc: 1.0000 - val_loss: 3.1825e-04 - val_acc: 1.0000\n",
      "Epoch 16/25\n",
      "816/816 [==============================] - 0s 388us/step - loss: 1.3035e-04 - acc: 1.0000 - val_loss: 3.0583e-04 - val_acc: 1.0000\n",
      "Epoch 17/25\n",
      "816/816 [==============================] - 0s 393us/step - loss: 1.2604e-04 - acc: 1.0000 - val_loss: 2.4950e-04 - val_acc: 1.0000\n",
      "Epoch 18/25\n",
      "816/816 [==============================] - 0s 386us/step - loss: 1.1948e-04 - acc: 1.0000 - val_loss: 1.8329e-04 - val_acc: 1.0000\n",
      "Epoch 19/25\n",
      "816/816 [==============================] - 0s 390us/step - loss: 1.0274e-04 - acc: 1.0000 - val_loss: 1.8778e-04 - val_acc: 1.0000\n",
      "Epoch 20/25\n",
      "816/816 [==============================] - 0s 383us/step - loss: 7.7252e-05 - acc: 1.0000 - val_loss: 1.8780e-04 - val_acc: 1.0000\n",
      "Epoch 21/25\n",
      "816/816 [==============================] - 0s 394us/step - loss: 6.4054e-05 - acc: 1.0000 - val_loss: 2.0422e-04 - val_acc: 1.0000\n",
      "Epoch 22/25\n",
      "816/816 [==============================] - 0s 386us/step - loss: 6.1494e-05 - acc: 1.0000 - val_loss: 2.1355e-04 - val_acc: 1.0000\n",
      "Epoch 23/25\n",
      "816/816 [==============================] - 0s 385us/step - loss: 6.4709e-05 - acc: 1.0000 - val_loss: 1.8024e-04 - val_acc: 1.0000\n",
      "Epoch 24/25\n",
      "816/816 [==============================] - 0s 385us/step - loss: 5.9355e-05 - acc: 1.0000 - val_loss: 1.8485e-04 - val_acc: 1.0000\n",
      "Epoch 25/25\n",
      "816/816 [==============================] - 0s 389us/step - loss: 5.9530e-05 - acc: 1.0000 - val_loss: 1.7992e-04 - val_acc: 1.0000\n"
     ]
    },
    {
     "data": {
      "text/plain": [
       "<keras.callbacks.callbacks.History at 0x2258fbaca88>"
      ]
     },
     "execution_count": 37,
     "metadata": {},
     "output_type": "execute_result"
    }
   ],
   "source": [
    "history = analysisPlot.LossHistory()\n",
    "model.fit(embeddedTrainDataMat, trainLabelArr,batch_size = batch_size,epochs = epochs,validation_split = 0.1,callbacks = [history])"
   ]
  },
  {
   "cell_type": "code",
   "execution_count": 38,
   "metadata": {},
   "outputs": [
    {
     "data": {
      "text/plain": [
       "(1134, 98, 128)"
      ]
     },
     "execution_count": 38,
     "metadata": {},
     "output_type": "execute_result"
    }
   ],
   "source": [
    "embeddedDataMat.shape"
   ]
  },
  {
   "cell_type": "markdown",
   "metadata": {},
   "source": [
    "<h4>3.2.5 Testing and output analysis by using the embedded test dataset.</h4>\n",
    "Since the overall embedding will take the test set in count, usually the predicting performance will be better than in section 3.1. But please use this way for training the bio-sequence carefully, especially for finding new biological insight."
   ]
  },
  {
   "cell_type": "code",
   "execution_count": 39,
   "metadata": {},
   "outputs": [],
   "source": [
    "predicted_Probability = model.predict(embeddedTestDataMat)\n",
    "prediction = model.predict_classes(embeddedTestDataMat)"
   ]
  },
  {
   "cell_type": "code",
   "execution_count": 40,
   "metadata": {},
   "outputs": [],
   "source": [
    "from sklearn.metrics import accuracy_score,f1_score,roc_auc_score,recall_score,precision_score,confusion_matrix,matthews_corrcoef,auc,roc_curve"
   ]
  },
  {
   "cell_type": "markdown",
   "metadata": {},
   "source": [
    "<h5>The change of loss</h5>"
   ]
  },
  {
   "cell_type": "code",
   "execution_count": 41,
   "metadata": {},
   "outputs": [
    {
     "data": {
      "image/png": "[encoded data removed]",
      "text/plain": [
       "<Figure size 432x288 with 1 Axes>"
      ]
     },
     "metadata": {
      "needs_background": "light"
     },
     "output_type": "display_data"
    }
   ],
   "source": [
    "history.loss_plot('epoch',showFig=True,savePath=None)"
   ]
  },
  {
   "cell_type": "markdown",
   "metadata": {},
   "source": [
    "<h5>confusion matrix and related metrices</h5>"
   ]
  },
  {
   "cell_type": "code",
   "execution_count": 47,
   "metadata": {},
   "outputs": [
    {
     "name": "stdout",
     "output_type": "stream",
     "text": [
      "[[140  11]\n",
      " [  0  76]]\n",
      "ACC: 0.951542 \n",
      "F1: 0.932515 \n",
      "Recall: 1.000000 \n",
      "Pre: 0.873563 \n",
      "MCC: 0.899959 \n",
      "AUC: 0.996209 \n"
     ]
    }
   ],
   "source": [
    "cm=confusion_matrix(testLabelArr,prediction)\n",
    "print(cm)\n",
    "print(\"ACC: %f \"%accuracy_score(testLabelArr,prediction))\n",
    "print(\"F1: %f \"%f1_score(testLabelArr,prediction))\n",
    "print(\"Recall: %f \"%recall_score(testLabelArr,prediction))\n",
    "print(\"Pre: %f \"%precision_score(testLabelArr,prediction))\n",
    "print(\"MCC: %f \"%matthews_corrcoef(testLabelArr,prediction))\n",
    "fpr,tpr,threshold = roc_curve(testLabelArr, predicted_Probability)\n",
    "auc_roc = auc(fpr,tpr)\n",
    "print(\"AUC: %f \"%auc_roc)"
   ]
  },
  {
   "cell_type": "markdown",
   "metadata": {},
   "source": [
    "<h5>ROC curve</h5>"
   ]
  },
  {
   "cell_type": "code",
   "execution_count": 43,
   "metadata": {
    "scrolled": false
   },
   "outputs": [
    {
     "data": {
      "text/plain": [
       "<Figure size 432x288 with 0 Axes>"
      ]
     },
     "metadata": {},
     "output_type": "display_data"
    },
    {
     "data": {
      "image/png": "[encoded data removed]",
      "text/plain": [
       "<Figure size 576x576 with 1 Axes>"
      ]
     },
     "metadata": {
      "needs_background": "light"
     },
     "output_type": "display_data"
    }
   ],
   "source": [
    "analysisPlot.plotROC(testLabelArr,predicted_Probability,showFig=True,savePath=None)"
   ]
  },
  {
   "cell_type": "markdown",
   "metadata": {},
   "source": [
    "<h3>3.3 Modeling with other machine learning method</h3>\n",
    "\n",
    "Since we got a matrix, it is possible for using this matrix for many training works other than deep learning. The result is available for comparison or make some further analysis.\n",
    "\n",
    "Here we provided a brief sample for using <b>random forest</b> for modeling and predicting. "
   ]
  },
  {
   "cell_type": "code",
   "execution_count": 49,
   "metadata": {},
   "outputs": [],
   "source": [
    "from sklearn.ensemble import RandomForestClassifier\n",
    "\n",
    "#init\n",
    "rf = RandomForestClassifier(n_estimators=10, max_depth=None,min_samples_split=2, bootstrap=True)\n",
    "\n",
    "#training\n",
    "rf.fit(trainDataMat, trainLabelArr)\n",
    "\n",
    "#predicting\n",
    "rfPrediction = rf.predict(testDataMat)"
   ]
  },
  {
   "cell_type": "markdown",
   "metadata": {},
   "source": [
    "<h5>confusion matrix and related metrices</h5>"
   ]
  },
  {
   "cell_type": "code",
   "execution_count": 51,
   "metadata": {},
   "outputs": [
    {
     "name": "stdout",
     "output_type": "stream",
     "text": [
      "[[140  11]\n",
      " [ 62  14]]\n",
      "ACC: 0.678414 \n",
      "F1: 0.277228 \n",
      "Recall: 0.184211 \n",
      "Pre: 0.560000 \n",
      "MCC: 0.167876 \n",
      "AUC: 0.636677 \n"
     ]
    }
   ],
   "source": [
    "cm=confusion_matrix(testLabelArr,rfPrediction)\n",
    "print(cm)\n",
    "print(\"ACC: %f \"%accuracy_score(testLabelArr,rfPrediction))\n",
    "print(\"F1: %f \"%f1_score(testLabelArr,rfPrediction))\n",
    "print(\"Recall: %f \"%recall_score(testLabelArr,rfPrediction))\n",
    "print(\"Pre: %f \"%precision_score(testLabelArr,rfPrediction))\n",
    "print(\"MCC: %f \"%matthews_corrcoef(testLabelArr,rfPrediction))\n",
    "#for auc...\n",
    "rfPredictedProbability = np.array(rf.predict_proba(testDataMat))\n",
    "fpr,tpr,threshold = roc_curve(testLabelArr, rfPredictedProbability[:,1])\n",
    "auc_roc = auc(fpr,tpr)\n",
    "print(\"AUC: %f \"%auc_roc)"
   ]
  },
  {
   "cell_type": "markdown",
   "metadata": {},
   "source": [
    "<h5>ROC curve</h5>"
   ]
  },
  {
   "cell_type": "code",
   "execution_count": 52,
   "metadata": {},
   "outputs": [
    {
     "data": {
      "text/plain": [
       "<Figure size 432x288 with 0 Axes>"
      ]
     },
     "metadata": {},
     "output_type": "display_data"
    },
    {
     "data": {
      "image/png": "[encoded data removed]",
      "text/plain": [
       "<Figure size 576x576 with 1 Axes>"
      ]
     },
     "metadata": {
      "needs_background": "light"
     },
     "output_type": "display_data"
    }
   ],
   "source": [
    "rfPredictedProbability = np.array(rf.predict_proba(testDataMat))\n",
    "analysisPlot.plotROC(testLabelArr,rfPredictedProbability[:,1],showFig=True,savePath=None)"
   ]
  },
  {
   "cell_type": "markdown",
   "metadata": {},
   "source": [
    "<h2>4. Conclusion</h2>\n",
    "\n",
    "In this notebook, we introduced how to use <b>autoBioSeqpy</b> for file reading and engaging it into a research workflow. We hope this notebook could help users to understand the basic way for using it for data transferring and evaluating the modeling result. Then users could use it as a part of their own researches.\n",
    "\n",
    "We are looking forward to receive any feedback and suggesting. If you have any problem in using this tool, please do not hesitate to connect us at ljs@swmu.edu.cn, thanks.\n"
   ]
  }
 ],
 "metadata": {
  "kernelspec": {
   "display_name": "Python 3",
   "language": "python",
   "name": "python3"
  },
  "language_info": {
   "codemirror_mode": {
    "name": "ipython",
    "version": 3
   },
   "file_extension": ".py",
   "mimetype": "text/x-python",
   "name": "python",
   "nbconvert_exporter": "python",
   "pygments_lexer": "ipython3",
   "version": "3.7.6"
  }
 },
 "nbformat": 4,
 "nbformat_minor": 2
}
